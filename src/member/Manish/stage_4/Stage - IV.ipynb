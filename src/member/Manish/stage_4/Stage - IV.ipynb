{
 "cells": [
  {
   "cell_type": "markdown",
   "metadata": {},
   "source": [
    "## Project Stage - IV (Dashboard)"
   ]
  },
  {
   "cell_type": "markdown",
   "metadata": {},
   "source": [
    "## Goals\n",
    "\n",
    "The final stage aims a developing a simple interactive dashboard based on the analysis you have done so far. In this we will be utilizing Plotly (https://plotly.com/) along with Dash (https://plotly.com/dash/) as our framework. \n",
    "\n",
    "Getting started with Dash: https://www.youtube.com/watch?v=hSPmj7mK6ng\n",
    "\n",
    "*PS: This can be invoked from Jupyter, see here: https://medium.com/plotly/introducing-jupyterdash-811f1f57c02e*"
   ]
  },
  {
   "cell_type": "markdown",
   "metadata": {},
   "source": [
    "### Tasks:\n",
    "\n",
    "#### Task 1: (100 pts)\n",
    "- Member:\n",
    "    - Dashboard\n",
    "        - **M1.1** Shows comparisions between a variable and Normalized Mortality rate in a scatter plot\n",
    "            -- Incorporate your best model prediction trend line - Linear / Non-Linear. (20 pts)\n",
    "            \n",
    "        - **M1.2** Contains a data table (20 pts)\n",
    "        - **M1.3** Contains a map displaying values of either variables (20 pts)\n",
    "        - **M1.4** Selectors (30 pts)\n",
    "            - Allows for linear or log mode selection on both the variables for scatter plot. \n",
    "            - Allows for selection of state.\n",
    "            - Allows for linear or log mode selection on both the variables. \n",
    "            - Allows for selection of which variable to display on the map.\n",
    "        \n",
    "        - **M1.4** Selection of on the graph or Data Table highlights the other ones. (10 pts)\n",
    "        \n",
    "        - A partial example:\n",
    "        \n",
    "        <img src=\"../img/Dashboard1.png\" width=800 height=800 />\n",
    "     \n",
    "***Extra Credit:*** Creative elements with the provided data and good design. Can earn upto 50 pts extra.\n",
    "\n",
    "**Deliverable**\n",
    "- Take screenshots of Report upload on canvas.\n",
    "- Each member creates separate notebooks for member tasks. Upload all notebooks to Github Repository. \n",
    "- Final Presentation recordings on canvas."
   ]
  },
  {
   "cell_type": "code",
   "execution_count": 1,
   "metadata": {},
   "outputs": [],
   "source": [
    "#pip install jupyter_dash"
   ]
  },
  {
   "cell_type": "code",
   "execution_count": 2,
   "metadata": {},
   "outputs": [],
   "source": [
    "## pip install dash (version 2.0.0 or higher)\n",
    "#pip install dash"
   ]
  },
  {
   "cell_type": "code",
   "execution_count": 3,
   "metadata": {},
   "outputs": [],
   "source": [
    "#pip install dash-bootstrap-components"
   ]
  },
  {
   "cell_type": "code",
   "execution_count": 4,
   "metadata": {},
   "outputs": [],
   "source": [
    "#pip install gif"
   ]
  },
  {
   "cell_type": "code",
   "execution_count": 5,
   "metadata": {},
   "outputs": [],
   "source": [
    "import numpy as np\n",
    "import pandas as pd\n",
    "import plotly.express as px  # (version 4.7.0 or higher)\n",
    "import plotly.graph_objects as go\n",
    "from dash import Dash, dcc, html, Input, Output, dash_table\n",
    "from jupyter_dash import JupyterDash\n",
    "import dash_bootstrap_components as dbc\n",
    "from urllib.request import urlopen\n",
    "import json\n",
    "from sklearn.linear_model import LinearRegression\n",
    "from sklearn.preprocessing import PolynomialFeatures\n",
    "\n",
    "import warnings\n",
    "warnings.filterwarnings(\"ignore\")"
   ]
  },
  {
   "cell_type": "markdown",
   "metadata": {},
   "source": [
    "<b> Reading the super dataset"
   ]
  },
  {
   "cell_type": "code",
   "execution_count": 6,
   "metadata": {},
   "outputs": [],
   "source": [
    "data = pd.read_csv(\"../../../../data/stage_1/superdataset_merge.csv\")"
   ]
  },
  {
   "cell_type": "markdown",
   "metadata": {},
   "source": [
    "<b> Normalizing all the required variables by population per 100000"
   ]
  },
  {
   "cell_type": "code",
   "execution_count": 7,
   "metadata": {},
   "outputs": [],
   "source": [
    "data[\"Unemployment value\"] = (data[\"Unemployment raw value\"]/data[\"Population\"])*100000"
   ]
  },
  {
   "cell_type": "code",
   "execution_count": 8,
   "metadata": {},
   "outputs": [],
   "source": [
    "data[\"Drug Overdose value\"] = (data[\"Drug overdose deaths raw value\"]/data[\"Population\"])*100000"
   ]
  },
  {
   "cell_type": "code",
   "execution_count": 9,
   "metadata": {},
   "outputs": [],
   "source": [
    "data[\"Insufficient sleep value\"] = (data[\"Insufficient sleep raw value\"]/data[\"Population\"])*100000"
   ]
  },
  {
   "cell_type": "code",
   "execution_count": 10,
   "metadata": {},
   "outputs": [],
   "source": [
    "data[\"Excessive drinking value\"] = (data[\"Excessive drinking raw value\"]/data[\"Population\"])*100000"
   ]
  },
  {
   "cell_type": "code",
   "execution_count": 11,
   "metadata": {},
   "outputs": [],
   "source": [
    "data[\"Opiod dispensing value\"] = (data[\"Opiod_Dispensing_Rate\"]/data[\"Population\"])*100000"
   ]
  },
  {
   "cell_type": "markdown",
   "metadata": {},
   "source": [
    "<b> Filling null values with 0 in the required column</b>\n",
    "* I found that drug overdose had null values using isna() function call. So I filled it with zeros so it doesn't affect the analysis later."
   ]
  },
  {
   "cell_type": "code",
   "execution_count": 12,
   "metadata": {},
   "outputs": [],
   "source": [
    "# Norm_Drug_Overdose has many \"NA\" values filling all the NA before performing regression\n",
    "data[\"Drug overdose deaths raw value\"] = data[\"Drug overdose deaths raw value\"].fillna(0)\n",
    "data[\"Drug Overdose value\"] = data[\"Drug Overdose value\"].fillna(0)"
   ]
  },
  {
   "cell_type": "markdown",
   "metadata": {},
   "source": [
    "Creating a list of variables that we want to show in the `variables dropdown`."
   ]
  },
  {
   "cell_type": "code",
   "execution_count": 13,
   "metadata": {},
   "outputs": [],
   "source": [
    "par = [\"Opiod dispensing value\",\"Unemployment value\",\"Drug Overdose value\",\"Insufficient sleep value\",\"Excessive drinking value\"]"
   ]
  },
  {
   "cell_type": "markdown",
   "metadata": {},
   "source": [
    "Creating a list of state values that we want to show in the `state dropdown`."
   ]
  },
  {
   "cell_type": "code",
   "execution_count": 14,
   "metadata": {},
   "outputs": [
    {
     "name": "stdout",
     "output_type": "stream",
     "text": [
      "['AK', 'AL', 'AR', 'AZ', 'CA', 'CO', 'CT', 'DC', 'DE', 'FL', 'GA', 'HI', 'IA', 'ID', 'IL', 'IN', 'KS', 'KY', 'LA', 'MA', 'MD', 'ME', 'MI', 'MN', 'MO', 'MS', 'MT', 'NC', 'ND', 'NE', 'NH', 'NJ', 'NM', 'NV', 'NY', 'OH', 'OK', 'OR', 'PA', 'RI', 'SC', 'SD', 'TN', 'TX', 'UT', 'VA', 'VT', 'WA', 'WI', 'WV', 'WY']\n"
     ]
    }
   ],
   "source": [
    "s_name = list(data.State.unique())\n",
    "s_name.sort()\n",
    "print(s_name)"
   ]
  },
  {
   "cell_type": "markdown",
   "metadata": {},
   "source": [
    "Creating a list for dropdown of `select visualization`."
   ]
  },
  {
   "cell_type": "code",
   "execution_count": 15,
   "metadata": {},
   "outputs": [],
   "source": [
    "l2 = [\"Graph\", \"Map\"]"
   ]
  },
  {
   "cell_type": "markdown",
   "metadata": {},
   "source": [
    "<b>For Map data</b>\n",
    "* I found that we dont have 5 digit FIPS code for all counties. There are certain counties where FIPS are 4 digit.\n",
    "* This creates a problem while displaying map. As map maps the data using FIPS code, if FIPS code are not matched then it will not show the data corresponding to that entire state.\n",
    "* As a result, I am checking below if FIPS code are less than 5 digit then append another 0 in the front."
   ]
  },
  {
   "cell_type": "markdown",
   "metadata": {},
   "source": [
    "Create an empty list and convert all the FIPS to string and store it to that list."
   ]
  },
  {
   "cell_type": "code",
   "execution_count": 16,
   "metadata": {},
   "outputs": [],
   "source": [
    "# Our county FIPS at some places are 4 digits so during MAP creation it, is not able to match with 5 digit countyFIPS code\n",
    "p = []\n",
    "for i in range(len(data)):\n",
    "    p.append(str(data[\"County Code\"][i]))"
   ]
  },
  {
   "cell_type": "markdown",
   "metadata": {},
   "source": [
    "Add a new column FIPS to the dataset and copy the value of list p into that."
   ]
  },
  {
   "cell_type": "code",
   "execution_count": 17,
   "metadata": {},
   "outputs": [],
   "source": [
    "data[\"FIPS\"] = p"
   ]
  },
  {
   "cell_type": "markdown",
   "metadata": {},
   "source": [
    "Check for the length and append if necessary."
   ]
  },
  {
   "cell_type": "code",
   "execution_count": 18,
   "metadata": {},
   "outputs": [],
   "source": [
    "j = []\n",
    "for i in range(len(data)):\n",
    "    if(len(data[\"FIPS\"][i]) == 4):\n",
    "        j.append(\"0\"+ data[\"FIPS\"][i])\n",
    "    else:\n",
    "        j.append(data[\"FIPS\"][i])"
   ]
  },
  {
   "cell_type": "markdown",
   "metadata": {},
   "source": [
    "Replace j with FIPS code."
   ]
  },
  {
   "cell_type": "code",
   "execution_count": 19,
   "metadata": {},
   "outputs": [
    {
     "data": {
      "text/html": [
       "<div>\n",
       "<style scoped>\n",
       "    .dataframe tbody tr th:only-of-type {\n",
       "        vertical-align: middle;\n",
       "    }\n",
       "\n",
       "    .dataframe tbody tr th {\n",
       "        vertical-align: top;\n",
       "    }\n",
       "\n",
       "    .dataframe thead th {\n",
       "        text-align: right;\n",
       "    }\n",
       "</style>\n",
       "<table border=\"1\" class=\"dataframe\">\n",
       "  <thead>\n",
       "    <tr style=\"text-align: right;\">\n",
       "      <th></th>\n",
       "      <th>County</th>\n",
       "      <th>County Code</th>\n",
       "      <th>Population</th>\n",
       "      <th>Deaths</th>\n",
       "      <th>Norm_Deaths</th>\n",
       "      <th>State FIPS Code</th>\n",
       "      <th>County FIPS Code</th>\n",
       "      <th>5-digit FIPS Code</th>\n",
       "      <th>State Abbreviation</th>\n",
       "      <th>Name</th>\n",
       "      <th>...</th>\n",
       "      <th>Total female population raw value</th>\n",
       "      <th>Population growth raw value</th>\n",
       "      <th>State</th>\n",
       "      <th>FIPS</th>\n",
       "      <th>Opiod_Dispensing_Rate</th>\n",
       "      <th>Unemployment value</th>\n",
       "      <th>Drug Overdose value</th>\n",
       "      <th>Insufficient sleep value</th>\n",
       "      <th>Excessive drinking value</th>\n",
       "      <th>Opiod dispensing value</th>\n",
       "    </tr>\n",
       "  </thead>\n",
       "  <tbody>\n",
       "    <tr>\n",
       "      <th>0</th>\n",
       "      <td>Abbeville County, SC</td>\n",
       "      <td>45001</td>\n",
       "      <td>535389</td>\n",
       "      <td>38</td>\n",
       "      <td>7.0</td>\n",
       "      <td>45</td>\n",
       "      <td>1</td>\n",
       "      <td>45001</td>\n",
       "      <td>SC</td>\n",
       "      <td>Abbeville County</td>\n",
       "      <td>...</td>\n",
       "      <td>NaN</td>\n",
       "      <td>NaN</td>\n",
       "      <td>SC</td>\n",
       "      <td>45001</td>\n",
       "      <td>32.4</td>\n",
       "      <td>0.008560</td>\n",
       "      <td>3.258113</td>\n",
       "      <td>0.067397</td>\n",
       "      <td>0.029146</td>\n",
       "      <td>6.051675</td>\n",
       "    </tr>\n",
       "    <tr>\n",
       "      <th>1</th>\n",
       "      <td>Acadia Parish, LA</td>\n",
       "      <td>22001</td>\n",
       "      <td>1279727</td>\n",
       "      <td>237</td>\n",
       "      <td>19.0</td>\n",
       "      <td>22</td>\n",
       "      <td>1</td>\n",
       "      <td>22001</td>\n",
       "      <td>LA</td>\n",
       "      <td>Acadia Parish</td>\n",
       "      <td>...</td>\n",
       "      <td>NaN</td>\n",
       "      <td>NaN</td>\n",
       "      <td>LA</td>\n",
       "      <td>22001</td>\n",
       "      <td>32.2</td>\n",
       "      <td>0.004617</td>\n",
       "      <td>1.081764</td>\n",
       "      <td>0.025285</td>\n",
       "      <td>0.014885</td>\n",
       "      <td>2.516162</td>\n",
       "    </tr>\n",
       "    <tr>\n",
       "      <th>2</th>\n",
       "      <td>Accomack County, VA</td>\n",
       "      <td>51001</td>\n",
       "      <td>726189</td>\n",
       "      <td>73</td>\n",
       "      <td>11.0</td>\n",
       "      <td>51</td>\n",
       "      <td>1</td>\n",
       "      <td>51001</td>\n",
       "      <td>VA</td>\n",
       "      <td>Accomack County</td>\n",
       "      <td>...</td>\n",
       "      <td>NaN</td>\n",
       "      <td>NaN</td>\n",
       "      <td>VA</td>\n",
       "      <td>51001</td>\n",
       "      <td>19.4</td>\n",
       "      <td>0.006640</td>\n",
       "      <td>1.538371</td>\n",
       "      <td>0.050607</td>\n",
       "      <td>0.020851</td>\n",
       "      <td>2.671481</td>\n",
       "    </tr>\n",
       "    <tr>\n",
       "      <th>3</th>\n",
       "      <td>Ada County, ID</td>\n",
       "      <td>16001</td>\n",
       "      <td>8083452</td>\n",
       "      <td>988</td>\n",
       "      <td>12.0</td>\n",
       "      <td>16</td>\n",
       "      <td>1</td>\n",
       "      <td>16001</td>\n",
       "      <td>ID</td>\n",
       "      <td>Ada County</td>\n",
       "      <td>...</td>\n",
       "      <td>NaN</td>\n",
       "      <td>NaN</td>\n",
       "      <td>ID</td>\n",
       "      <td>16001</td>\n",
       "      <td>60.8</td>\n",
       "      <td>0.000344</td>\n",
       "      <td>0.169568</td>\n",
       "      <td>0.003253</td>\n",
       "      <td>0.002389</td>\n",
       "      <td>0.752154</td>\n",
       "    </tr>\n",
       "    <tr>\n",
       "      <th>4</th>\n",
       "      <td>Adair County, KY</td>\n",
       "      <td>21001</td>\n",
       "      <td>387950</td>\n",
       "      <td>43</td>\n",
       "      <td>11.0</td>\n",
       "      <td>21</td>\n",
       "      <td>1</td>\n",
       "      <td>21001</td>\n",
       "      <td>KY</td>\n",
       "      <td>Adair County</td>\n",
       "      <td>...</td>\n",
       "      <td>NaN</td>\n",
       "      <td>NaN</td>\n",
       "      <td>KY</td>\n",
       "      <td>21001</td>\n",
       "      <td>71.3</td>\n",
       "      <td>0.016322</td>\n",
       "      <td>0.000000</td>\n",
       "      <td>0.093850</td>\n",
       "      <td>0.037489</td>\n",
       "      <td>18.378657</td>\n",
       "    </tr>\n",
       "  </tbody>\n",
       "</table>\n",
       "<p>5 rows × 547 columns</p>\n",
       "</div>"
      ],
      "text/plain": [
       "                 County  County Code  Population  Deaths  Norm_Deaths  \\\n",
       "0  Abbeville County, SC        45001      535389      38          7.0   \n",
       "1     Acadia Parish, LA        22001     1279727     237         19.0   \n",
       "2   Accomack County, VA        51001      726189      73         11.0   \n",
       "3        Ada County, ID        16001     8083452     988         12.0   \n",
       "4      Adair County, KY        21001      387950      43         11.0   \n",
       "\n",
       "   State FIPS Code  County FIPS Code  5-digit FIPS Code State Abbreviation  \\\n",
       "0               45                 1              45001                 SC   \n",
       "1               22                 1              22001                 LA   \n",
       "2               51                 1              51001                 VA   \n",
       "3               16                 1              16001                 ID   \n",
       "4               21                 1              21001                 KY   \n",
       "\n",
       "               Name  ...  Total female population raw value  \\\n",
       "0  Abbeville County  ...                                NaN   \n",
       "1     Acadia Parish  ...                                NaN   \n",
       "2   Accomack County  ...                                NaN   \n",
       "3        Ada County  ...                                NaN   \n",
       "4      Adair County  ...                                NaN   \n",
       "\n",
       "   Population growth raw value  State   FIPS  Opiod_Dispensing_Rate  \\\n",
       "0                          NaN     SC  45001                   32.4   \n",
       "1                          NaN     LA  22001                   32.2   \n",
       "2                          NaN     VA  51001                   19.4   \n",
       "3                          NaN     ID  16001                   60.8   \n",
       "4                          NaN     KY  21001                   71.3   \n",
       "\n",
       "   Unemployment value  Drug Overdose value  Insufficient sleep value  \\\n",
       "0            0.008560             3.258113                  0.067397   \n",
       "1            0.004617             1.081764                  0.025285   \n",
       "2            0.006640             1.538371                  0.050607   \n",
       "3            0.000344             0.169568                  0.003253   \n",
       "4            0.016322             0.000000                  0.093850   \n",
       "\n",
       "   Excessive drinking value  Opiod dispensing value  \n",
       "0                  0.029146                6.051675  \n",
       "1                  0.014885                2.516162  \n",
       "2                  0.020851                2.671481  \n",
       "3                  0.002389                0.752154  \n",
       "4                  0.037489               18.378657  \n",
       "\n",
       "[5 rows x 547 columns]"
      ]
     },
     "execution_count": 19,
     "metadata": {},
     "output_type": "execute_result"
    }
   ],
   "source": [
    "data[\"FIPS\"] = j\n",
    "data.head()"
   ]
  },
  {
   "cell_type": "markdown",
   "metadata": {},
   "source": [
    "Changing all the 0 with 0.0001 as log(0) is undefined, which may create porblem later."
   ]
  },
  {
   "cell_type": "code",
   "execution_count": 20,
   "metadata": {},
   "outputs": [],
   "source": [
    "data[\"Opiod_Dispensing_Rate\"] = data[\"Opiod_Dispensing_Rate\"].replace(0,0000.1)\n",
    "data[\"Unemployment raw value\"] = data[\"Unemployment raw value\"].replace(0,0000.1)\n",
    "data[\"Drug overdose deaths raw value\"] = data[\"Drug overdose deaths raw value\"].replace(0,0000.1)\n",
    "data[\"Insufficient sleep raw value\"] = data[\"Insufficient sleep raw value\"].replace(0,0000.1)\n",
    "data[\"Excessive drinking raw value\"] = data[\"Excessive drinking raw value\"].replace(0,0000.1)"
   ]
  },
  {
   "cell_type": "markdown",
   "metadata": {},
   "source": [
    "Taking log of all the required columns"
   ]
  },
  {
   "cell_type": "code",
   "execution_count": 21,
   "metadata": {
    "scrolled": false
   },
   "outputs": [],
   "source": [
    "data[\"log_OPR\"] = np.log(data[\"Opiod_Dispensing_Rate\"])\n",
    "data[\"log_unemp\"] = np.log(data[\"Unemployment raw value\"])\n",
    "data[\"log_drug_overdose\"] = np.log(data[\"Drug overdose deaths raw value\"])\n",
    "data[\"log_insufficient_sleep\"] = np.log(data[\"Insufficient sleep raw value\"])\n",
    "data[\"log_excessive_drinking\"] = np.log(data[\"Excessive drinking raw value\"])\n",
    "data[\"log_deaths\"] = np.log(data[\"Deaths\"])"
   ]
  },
  {
   "cell_type": "markdown",
   "metadata": {},
   "source": [
    "Creating the dataframe to display as `data table`."
   ]
  },
  {
   "cell_type": "code",
   "execution_count": 22,
   "metadata": {},
   "outputs": [
    {
     "data": {
      "text/html": [
       "<div>\n",
       "<style scoped>\n",
       "    .dataframe tbody tr th:only-of-type {\n",
       "        vertical-align: middle;\n",
       "    }\n",
       "\n",
       "    .dataframe tbody tr th {\n",
       "        vertical-align: top;\n",
       "    }\n",
       "\n",
       "    .dataframe thead th {\n",
       "        text-align: right;\n",
       "    }\n",
       "</style>\n",
       "<table border=\"1\" class=\"dataframe\">\n",
       "  <thead>\n",
       "    <tr style=\"text-align: right;\">\n",
       "      <th></th>\n",
       "      <th>State</th>\n",
       "      <th>County</th>\n",
       "      <th>Norm_Deaths</th>\n",
       "      <th>Opiod dispensing value</th>\n",
       "      <th>Unemployment value</th>\n",
       "      <th>Drug Overdose value</th>\n",
       "      <th>Insufficient sleep value</th>\n",
       "      <th>Excessive drinking value</th>\n",
       "      <th>log_OPR</th>\n",
       "      <th>log_unemp</th>\n",
       "      <th>log_drug_overdose</th>\n",
       "      <th>log_insufficient_sleep</th>\n",
       "      <th>log_excessive_drinking</th>\n",
       "      <th>log_deaths</th>\n",
       "    </tr>\n",
       "  </thead>\n",
       "  <tbody>\n",
       "    <tr>\n",
       "      <th>0</th>\n",
       "      <td>SC</td>\n",
       "      <td>Abbeville County, SC</td>\n",
       "      <td>7.0</td>\n",
       "      <td>6.051675</td>\n",
       "      <td>0.008560</td>\n",
       "      <td>3.258113</td>\n",
       "      <td>0.067397</td>\n",
       "      <td>0.029146</td>\n",
       "      <td>3.478158</td>\n",
       "      <td>-3.082861</td>\n",
       "      <td>2.858971</td>\n",
       "      <td>-1.019325</td>\n",
       "      <td>-1.857615</td>\n",
       "      <td>3.637586</td>\n",
       "    </tr>\n",
       "    <tr>\n",
       "      <th>1</th>\n",
       "      <td>LA</td>\n",
       "      <td>Acadia Parish, LA</td>\n",
       "      <td>19.0</td>\n",
       "      <td>2.516162</td>\n",
       "      <td>0.004617</td>\n",
       "      <td>1.081764</td>\n",
       "      <td>0.025285</td>\n",
       "      <td>0.014885</td>\n",
       "      <td>3.471966</td>\n",
       "      <td>-2.828751</td>\n",
       "      <td>2.627825</td>\n",
       "      <td>-1.128319</td>\n",
       "      <td>-1.658194</td>\n",
       "      <td>5.468060</td>\n",
       "    </tr>\n",
       "    <tr>\n",
       "      <th>2</th>\n",
       "      <td>VA</td>\n",
       "      <td>Accomack County, VA</td>\n",
       "      <td>11.0</td>\n",
       "      <td>2.671481</td>\n",
       "      <td>0.006640</td>\n",
       "      <td>1.538371</td>\n",
       "      <td>0.050607</td>\n",
       "      <td>0.020851</td>\n",
       "      <td>2.965273</td>\n",
       "      <td>-3.031998</td>\n",
       "      <td>2.413364</td>\n",
       "      <td>-1.001027</td>\n",
       "      <td>-1.887724</td>\n",
       "      <td>4.290459</td>\n",
       "    </tr>\n",
       "    <tr>\n",
       "      <th>3</th>\n",
       "      <td>ID</td>\n",
       "      <td>Ada County, ID</td>\n",
       "      <td>12.0</td>\n",
       "      <td>0.752154</td>\n",
       "      <td>0.000344</td>\n",
       "      <td>0.169568</td>\n",
       "      <td>0.003253</td>\n",
       "      <td>0.002389</td>\n",
       "      <td>4.107590</td>\n",
       "      <td>-3.583819</td>\n",
       "      <td>2.617904</td>\n",
       "      <td>-1.335721</td>\n",
       "      <td>-1.644515</td>\n",
       "      <td>6.895683</td>\n",
       "    </tr>\n",
       "    <tr>\n",
       "      <th>4</th>\n",
       "      <td>KY</td>\n",
       "      <td>Adair County, KY</td>\n",
       "      <td>11.0</td>\n",
       "      <td>18.378657</td>\n",
       "      <td>0.016322</td>\n",
       "      <td>0.000000</td>\n",
       "      <td>0.093850</td>\n",
       "      <td>0.037489</td>\n",
       "      <td>4.266896</td>\n",
       "      <td>-2.759543</td>\n",
       "      <td>-2.302585</td>\n",
       "      <td>-1.010351</td>\n",
       "      <td>-1.928001</td>\n",
       "      <td>3.761200</td>\n",
       "    </tr>\n",
       "  </tbody>\n",
       "</table>\n",
       "</div>"
      ],
      "text/plain": [
       "  State                County  Norm_Deaths  Opiod dispensing value  \\\n",
       "0    SC  Abbeville County, SC          7.0                6.051675   \n",
       "1    LA     Acadia Parish, LA         19.0                2.516162   \n",
       "2    VA   Accomack County, VA         11.0                2.671481   \n",
       "3    ID        Ada County, ID         12.0                0.752154   \n",
       "4    KY      Adair County, KY         11.0               18.378657   \n",
       "\n",
       "   Unemployment value  Drug Overdose value  Insufficient sleep value  \\\n",
       "0            0.008560             3.258113                  0.067397   \n",
       "1            0.004617             1.081764                  0.025285   \n",
       "2            0.006640             1.538371                  0.050607   \n",
       "3            0.000344             0.169568                  0.003253   \n",
       "4            0.016322             0.000000                  0.093850   \n",
       "\n",
       "   Excessive drinking value   log_OPR  log_unemp  log_drug_overdose  \\\n",
       "0                  0.029146  3.478158  -3.082861           2.858971   \n",
       "1                  0.014885  3.471966  -2.828751           2.627825   \n",
       "2                  0.020851  2.965273  -3.031998           2.413364   \n",
       "3                  0.002389  4.107590  -3.583819           2.617904   \n",
       "4                  0.037489  4.266896  -2.759543          -2.302585   \n",
       "\n",
       "   log_insufficient_sleep  log_excessive_drinking  log_deaths  \n",
       "0               -1.019325               -1.857615    3.637586  \n",
       "1               -1.128319               -1.658194    5.468060  \n",
       "2               -1.001027               -1.887724    4.290459  \n",
       "3               -1.335721               -1.644515    6.895683  \n",
       "4               -1.010351               -1.928001    3.761200  "
      ]
     },
     "execution_count": 22,
     "metadata": {},
     "output_type": "execute_result"
    }
   ],
   "source": [
    "data_table_data = data[[\"State\",\"County\",\"Norm_Deaths\",\"Opiod dispensing value\",\"Unemployment value\",\"Drug Overdose value\",\"Insufficient sleep value\",\"Excessive drinking value\",\"log_OPR\",\"log_unemp\",\"log_drug_overdose\",\"log_insufficient_sleep\",\"log_excessive_drinking\",\"log_deaths\"]]\n",
    "data_table_data.head(5)"
   ]
  },
  {
   "cell_type": "markdown",
   "metadata": {},
   "source": [
    "Displaying the `Dash`."
   ]
  },
  {
   "cell_type": "code",
   "execution_count": 24,
   "metadata": {
    "scrolled": false
   },
   "outputs": [
    {
     "name": "stdout",
     "output_type": "stream",
     "text": [
      "Dash app running on http://127.0.0.1:12/\n"
     ]
    }
   ],
   "source": [
    "# creating a jupyter dash and adding styling method\n",
    "app = JupyterDash(__name__,external_stylesheets=[dbc.themes.BOOTSTRAP])\n",
    "\n",
    "# selecting the required dataframe\n",
    "df = data\n",
    "\n",
    "# App layout\n",
    "app.layout = html.Div([\n",
    "\n",
    "   # providing a heading to the dashboard\n",
    "   html.H1(\"Opiod Mortality Analysis Dashboard with Dash\", style={'text-align': 'center','fontSize':25}),\n",
    "    \n",
    "    # Creating a row and column styling using CSS. One row and 2 columns\n",
    "    dbc.Container([\n",
    "        \n",
    "         dbc.Row([\n",
    "        html.Label(\"Select state:\",style={'fontSize':15, 'textAlign':'center','width': \"50%\"}),\n",
    "        html.Label(\"Select variable:\",style={'fontSize':15, 'textAlign':'center','width': \"50%\"}),\n",
    "        dbc.Col(dcc.Dropdown(\n",
    "        id='select_state',\n",
    "        options=[{'label': s, 'value': s} for s in sorted(data.State.unique())],\n",
    "        value=\"NC\",\n",
    "        style={'width': \"100%\"},\n",
    "        clearable=False\n",
    "    )), \n",
    "    \n",
    "        \n",
    "        dbc.Col(dcc.Dropdown(\n",
    "        id='select_var',\n",
    "        options=[{'label': j, 'value': j} for j in par],\n",
    "        value=\"Opiod dispensing value\",\n",
    "        style={'width': \"100%\"}, \n",
    "        clearable=False\n",
    "    ))])\n",
    "        \n",
    "    ]),\n",
    "    \n",
    "    \n",
    "    \n",
    "    dbc.Container([\n",
    "        \n",
    "         dbc.Row([\n",
    "        dbc.Col(dcc.RadioItems(\n",
    "        id = 'rb1',\n",
    "        options=[{'label': 'Linear', 'value': 'linear'},{'label': 'Log', 'value': 'log'}],\n",
    "        value='linear',    \n",
    "        )), \n",
    "\n",
    "        dbc.Col(dcc.RadioItems(\n",
    "        id = 'rb2',\n",
    "        options=[{'label': 'Linear', 'value': 'linear'},{'label': 'Log', 'value': 'log'}],\n",
    "        value='linear',   \n",
    "        ))])\n",
    "    ]),\n",
    "    \n",
    "\n",
    "    # creating another dropdown for graph/map selection using the same method as above.\n",
    "    html.Br(),\n",
    "    dbc.Container([ \n",
    "     dbc.Row([\n",
    "    html.Label(\"Select visualization\",style={'fontSize':15, 'textAlign':'center'}),   \n",
    "    dbc.Col(dcc.Dropdown(\n",
    "    id='select_vis',\n",
    "    options=[{'label': j, 'value': j} for j in l2],\n",
    "    value=\"Graph\",\n",
    "    style={'width': \"100%\"},\n",
    "    clearable=False\n",
    "    )), \n",
    "    ], style={'width': \"103.5%\",'align':\"center\"}),\n",
    "    ]),\n",
    "    \n",
    "    # creating a dcc.graph\n",
    "    html.Div([\n",
    "    dcc.Graph(id='scplot')\n",
    "    ], style={'width': '100%'}),\n",
    "    \n",
    "    html.Br(),\n",
    "\n",
    "    # creating a dash table with the required parameters\n",
    "    dash_table.DataTable(id='tbl', \n",
    "                         page_current=0, \n",
    "                         page_size=5, \n",
    "                         page_action='custom',\n",
    "                         style_table={'overflowX': 'auto'},\n",
    "                         #row_selectable=\"multi\",\n",
    "                        ),\n",
    "])\n",
    "\n",
    "# # ------------------------------------------------------------------------------\n",
    "# # Connect the Plotly graphs with Dash Components\n",
    "\n",
    "@app.callback(\n",
    "    [Output(component_id='scplot', component_property='figure'),\n",
    "    Output(component_id = 'tbl', component_property = 'data')], \n",
    "    [Input(component_id='select_state', component_property='value'),\n",
    "     Input(component_id='select_var', component_property='value'),\n",
    "     Input(component_id='select_vis', component_property='value'),\n",
    "     Input(component_id='rb1', component_property='value'),\n",
    "     Input(component_id='rb2', component_property='value'),\n",
    "     Input('tbl', \"page_current\"),\n",
    "     Input('tbl', \"page_size\"),\n",
    "     Input(\"tbl\", \"selected_row_ids\")\n",
    "    ]\n",
    "     \n",
    ")\n",
    "\n",
    "# This code_1 defines the function making use of all dropdowns and radio buttons\n",
    "\n",
    "# providing input from above callback fucntion\n",
    "def code_1(value1,value2,value3,value4,value5,page_current,page_size,value6):\n",
    "    \n",
    "    # defining the data to select based on state dropdown selection for the data table\n",
    "    dff = data_table_data[data_table_data['State'] == value1]\n",
    "    \n",
    "    # creating a dashboard based on the above dataframe\n",
    "    table = dff.iloc[page_current*page_size:(page_current+ 1)*page_size].to_dict('records')\n",
    "\n",
    "    \n",
    "    # creating scatter plot\n",
    "    \n",
    "    if(value3 == \"Graph\"):\n",
    "        \n",
    "        # providing all 4 cases: linear-linear, linear-log, log-linear, log-log based on radio button possibility\n",
    "        \n",
    "        if(value4 ==\"linear\" and value5 == \"linear\"):\n",
    "            \n",
    "            # determining dataset for scatter plot with the required columns\n",
    "            s_data = data[data[\"State\"] == value1][[\"State\",\"Norm_Deaths\",\"Opiod dispensing value\",\"Unemployment value\",\"Drug Overdose value\",\"Insufficient sleep value\",\"Excessive drinking value\",\"log_OPR\",\"log_unemp\",\"log_drug_overdose\",\"log_insufficient_sleep\",\"log_excessive_drinking\",\"log_deaths\"]]\n",
    "            \n",
    "            # determing what should be the y-axix variable as it is used later for regression line creation\n",
    "            y = s_data[\"Norm_Deaths\"]\n",
    "            \n",
    "            # plotting the scatter plot\n",
    "            fig = px.scatter(s_data, x=s_data[value2], y=s_data[\"Norm_Deaths\"], color = \"State\", size = s_data[\"Norm_Deaths\"], size_max=20, color_discrete_sequence  = [\"orange\"])\n",
    "            \n",
    "            # updating the layout\n",
    "            fig.update_layout(\n",
    "                title_text=\"Norm_Deaths vs. \"+ value2,\n",
    "                xaxis_title = value2,\n",
    "                yaxis_title = 'Norm_Deaths',\n",
    "            )\n",
    "            \n",
    "            \n",
    "        elif(value4 ==\"linear\" and value5 == \"log\"):\n",
    "            \n",
    "            s_data = data[data[\"State\"] == value1][[\"State\",\"Norm_Deaths\",\"Opiod dispensing value\",\"Unemployment value\",\"Drug Overdose value\",\"Insufficient sleep value\",\"Excessive drinking value\",\"log_OPR\",\"log_unemp\",\"log_drug_overdose\",\"log_insufficient_sleep\",\"log_excessive_drinking\",\"log_deaths\"]]\n",
    "            \n",
    "            y = s_data[\"Norm_Deaths\"]\n",
    "            \n",
    "            # if log is selected in the variables radio button then change the values in the dropdown from normalized to log\n",
    "            \n",
    "            if(value2 == \"Opiod dispensing value\"):\n",
    "                value2 = \"log_OPR\"\n",
    "            elif(value2 == \"Unemployment value\"):\n",
    "                value2 = \"log_unemp\"\n",
    "            elif(value2 == \"Drug Overdose value\"):\n",
    "                value2 = \"log_drug_overdose\"\n",
    "            elif(value2 == \"Insufficient sleep value\"):\n",
    "                value2 = \"log_insufficient_sleep\"\n",
    "            elif(value2 == \"Excessive drinking value\"):\n",
    "                value2 = \"log_excessive_drinking\"\n",
    "                \n",
    "            # plotting the scatter plot\n",
    "            fig = px.scatter(s_data, x=s_data[value2], y=s_data[\"Norm_Deaths\"],color = \"State\", size = s_data[\"Norm_Deaths\"], size_max=20, color_discrete_sequence  = [\"orange\"])\n",
    "            \n",
    "            fig.update_layout(\n",
    "                title_text=\"Norm_Deaths vs. \"+ value2,\n",
    "                xaxis_title = value2,\n",
    "                yaxis_title = 'Norm_Deaths',\n",
    "            )\n",
    "            \n",
    "            \n",
    "        elif(value4 ==\"log\" and value5 == \"linear\"):\n",
    "            \n",
    "            s_data = data[data[\"State\"] == value1][[\"State\",\"Norm_Deaths\",\"Opiod dispensing value\",\"Unemployment value\",\"Drug Overdose value\",\"Insufficient sleep value\",\"Excessive drinking value\",\"log_OPR\",\"log_unemp\",\"log_drug_overdose\",\"log_insufficient_sleep\",\"log_excessive_drinking\",\"log_deaths\"]]\n",
    "            y = s_data[\"log_deaths\"]\n",
    "            \n",
    "            # plotting the scatter plot\n",
    "            fig = px.scatter(s_data, x=s_data[value2], y=s_data[\"log_deaths\"],color = \"State\", size = s_data[\"log_deaths\"], size_max=20, color_discrete_sequence  = [\"orange\"])\n",
    "            \n",
    "            fig.update_layout(\n",
    "                title_text=\"Norm_Deaths vs. \"+ value2,\n",
    "                xaxis_title = value2,\n",
    "                yaxis_title = 'Norm_Deaths',\n",
    "            )\n",
    "            \n",
    "            \n",
    "        elif(value4 ==\"log\" and value5 == \"log\"):\n",
    "            \n",
    "            s_data = data[data[\"State\"] == value1][[\"State\",\"Norm_Deaths\",\"Opiod dispensing value\",\"Unemployment value\",\"Drug Overdose value\",\"Insufficient sleep value\",\"Excessive drinking value\",\"log_OPR\",\"log_unemp\",\"log_drug_overdose\",\"log_insufficient_sleep\",\"log_excessive_drinking\",\"log_deaths\"]]\n",
    "            y = s_data[\"log_deaths\"]\n",
    "            \n",
    "            if(value2 == \"Opiod dispensing value\"):\n",
    "                value2 = \"log_OPR\"\n",
    "            elif(value2 == \"Unemployment value\"):\n",
    "                value2 = \"log_unemp\"\n",
    "            elif(value2 == \"Drug Overdose value\"):\n",
    "                value2 = \"log_drug_overdose\"\n",
    "            elif(value2 == \"Insufficient sleep value\"):\n",
    "                value2 = \"log_insufficient_sleep\"\n",
    "            elif(value2 == \"Excessive drinking value\"):\n",
    "                value2 = \"log_excessive_drinking\"\n",
    "           \n",
    "            # plotting the scatter plot\n",
    "            fig = px.scatter(s_data, x=s_data[value2], y=s_data[\"log_deaths\"],color = \"State\", size = s_data[\"log_deaths\"], size_max=20, color_discrete_sequence  = [\"orange\"])\n",
    "            \n",
    "            fig.update_layout(\n",
    "                title_text=\"Norm_Deaths vs. \"+ value2,\n",
    "                xaxis_title = value2,\n",
    "                yaxis_title = 'Norm_Deaths',\n",
    "            )\n",
    "            \n",
    "        \n",
    "        # Performing Linear regression\n",
    "        \n",
    "        # Determine the value for X-axis: what data lies on the x-axis\n",
    "        X = s_data[value2].values.reshape(-1, 1)\n",
    "        \n",
    "        # creating a linear_regression model()\n",
    "        model = LinearRegression()\n",
    "        \n",
    "        # Fit the model\n",
    "        model.fit(X, y)\n",
    "        \n",
    "        # creating a linear space\n",
    "        x_range = np.linspace(X.min(), X.max(), 100)\n",
    "        # predicting the values on the linear space\n",
    "        y_range = model.predict(x_range.reshape(-1,1))\n",
    "        # adding trace to the above build scatter plot\n",
    "        fig.add_traces(go.Scatter(x=x_range, y=y_range, name='Linear Fit'))\n",
    "\n",
    "        \n",
    "        # Performing non-linear regression for degree 2,3 and 4\n",
    "        \n",
    "        # Running a for loop for degree = 2,3, and 4\n",
    "        for degree in [2, 3, 4]:\n",
    "            #creating a sklearn polynomial model\n",
    "            poly = PolynomialFeatures(degree)\n",
    "            # fitting the model on the X-axis data\n",
    "            poly.fit(X)\n",
    "            # Fit-transform the data\n",
    "            X_poly = poly.transform(X)\n",
    "            x_range_poly = poly.transform(x_range.reshape(-1,1))\n",
    "\n",
    "            model = LinearRegression(fit_intercept=False)\n",
    "            model.fit(X_poly, y)\n",
    "            y_poly = model.predict(x_range_poly)\n",
    "\n",
    "            # Adding non-linear traces to the above scatter plot\n",
    "            fig.add_traces(go.Scatter(x=x_range.squeeze(), y=y_poly,name=f'Poly_degree {degree}'))        \n",
    "        \n",
    "        # return fig and datatable\n",
    "        return fig, table\n",
    "        \n",
    "    elif(value3 == \"Map\"):\n",
    "        \n",
    "        with urlopen('https://raw.githubusercontent.com/plotly/datasets/master/geojson-counties-fips.json') as response:\n",
    "            counties = json.load(response)\n",
    "        \n",
    "        # if selection is log in the radio button then change the normalized values to log values\n",
    "        if(value5 == \"log\"):\n",
    "            if(value2 == \"Opiod dispensing value\"):\n",
    "                value2 = \"log_OPR\"\n",
    "            elif(value2 == \"Unemployment value\"):\n",
    "                value2 = \"log_unemp\"\n",
    "            elif(value2 == \"Drug Overdose value\"):\n",
    "                value2 = \"log_drug_overdose\"\n",
    "            elif(value2 == \"Insufficient sleep value\"):\n",
    "                value2 = \"log_insufficient_sleep\"\n",
    "            elif(value2 == \"Excessive drinking value\"):\n",
    "                value2 = \"log_excessive_drinking\"\n",
    "            \n",
    "        # plotting cholorpeth map\n",
    "        fig2 = px.choropleth(df, geojson=counties, locations='FIPS', color=value2,\n",
    "                           color_continuous_scale=\"viridis\",\n",
    "                           range_color=(df[value2].quantile(q=0.25), data[value2].quantile(q=0.75)),\n",
    "                           scope=\"usa\",\n",
    "                           hover_data=[\"County\"]\n",
    "                           #labels={'unemp':'unemployment rate'}\n",
    "                          )\n",
    "        fig2.update_layout(margin={\"r\":0,\"t\":0,\"l\":0,\"b\":0})\n",
    "        \n",
    "        # return map and datatable\n",
    "        return fig2, table\n",
    "    \n",
    "# # ------------------------------------------------------------------------------\n",
    "if __name__ == '__main__':\n",
    "    #app.run_server(mode = \"inline\", port=10)\n",
    "    app.run_server(debug=True, port=12)"
   ]
  },
  {
   "cell_type": "markdown",
   "metadata": {},
   "source": [
    "### GIF:\n",
    "<img src=\"stageIV_images/screen-capture.gif\" width = 1800 height = 1800>"
   ]
  },
  {
   "cell_type": "markdown",
   "metadata": {},
   "source": [
    "<I>Certain screenshots:"
   ]
  },
  {
   "cell_type": "markdown",
   "metadata": {},
   "source": [
    "<b>1. Full Opiod Dashboard<br><br>\n",
    "<img src=\"stageIV_images/sc1.png\" width=2000 height=3000 />"
   ]
  },
  {
   "cell_type": "markdown",
   "metadata": {},
   "source": [
    "<b>2. Opiod Dashboard image with Map<br><br>\n",
    "<img src=\"stageIV_images/map_linear.png\" width=2000 height=3000 />"
   ]
  },
  {
   "cell_type": "markdown",
   "metadata": {},
   "source": [
    "<b>3. Data Table output by state<br><br>\n",
    "<img src=\"stageIV_images/dt_change.png\" width=2000 height=3000 />"
   ]
  },
  {
   "cell_type": "markdown",
   "metadata": {},
   "source": [
    "<b>4. Scatter plot of dash table<br><br>\n",
    "<img src=\"stageIV_images/scatter.png\" width=2000 height=3000 />"
   ]
  },
  {
   "cell_type": "markdown",
   "metadata": {},
   "source": [
    "<b>5. USA map of the dash table<br><br>\n",
    "<img src=\"stageIV_images/maps.png\" width=2000 height=3000 />"
   ]
  },
  {
   "cell_type": "markdown",
   "metadata": {},
   "source": [
    "### References:\n",
    "1. [Creation of row and column for dropdown and radio buttons](https://dash.plotly.com/interactive-graphing?_gl=1*1wezxz3*_ga*MTQ1MjU1NTY1LjE2NjY2MzgyMDM.*_ga_6G7EE0JNSC*MTY2OTkzNTAyOS4yNS4xLjE2Njk5MzUwNzUuMC4wLjA.#update-graphs-on-hover)\n",
    "2. [Dash table creation](https://dash.plotly.com/datatable/callbacks)\n",
    "3. [Dash table styling](https://dash.plotly.com/datatable/width)\n",
    "4. [Linear regression](https://plotly.com/python/ml-regression/)\n",
    "5. [Non-linear/Polynomial regression](https://plotly.com/python/ml-regression/)\n",
    "6. [Chloropeth maps](https://plotly.com/python/choropleth-maps/)"
   ]
  },
  {
   "cell_type": "code",
   "execution_count": null,
   "metadata": {},
   "outputs": [],
   "source": []
  }
 ],
 "metadata": {
  "kernelspec": {
   "display_name": "Python 3 (ipykernel)",
   "language": "python",
   "name": "python3"
  },
  "language_info": {
   "codemirror_mode": {
    "name": "ipython",
    "version": 3
   },
   "file_extension": ".py",
   "mimetype": "text/x-python",
   "name": "python",
   "nbconvert_exporter": "python",
   "pygments_lexer": "ipython3",
   "version": "3.9.12"
  },
  "nteract": {
   "version": "0.28.0"
  }
 },
 "nbformat": 4,
 "nbformat_minor": 2
}
