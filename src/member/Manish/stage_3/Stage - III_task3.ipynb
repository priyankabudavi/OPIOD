{
 "cells": [
  {
   "cell_type": "markdown",
   "metadata": {
    "slideshow": {
     "slide_type": "slide"
    }
   },
   "source": [
    "## Project Stage - III (Distributions and Hypothesis Testing)"
   ]
  },
  {
   "cell_type": "markdown",
   "metadata": {},
   "source": [
    "## Goals\n",
    "\n",
    "The goal of Stage III is to develop advanced data for modeling for comparative analysis and hypothesis testing. \n"
   ]
  },
  {
   "cell_type": "markdown",
   "metadata": {
    "slideshow": {
     "slide_type": "subslide"
    }
   },
   "source": [
    "### Tasks:\n",
    "\n",
    "#### Task 2: Regression (50 pts)     \n",
    "- Member: (50 pts)\n",
    "    - **M2.2** Perform linear regression to discover patterns (25 pts)\n",
    "         - Perform a linear regression between Normalized Mortality and `Opiod_Dispensing_Rate`\n",
    "             - Normalize the `Opiod_Dispensing_Rate` to the population\n",
    "         - Perform multiple linear regression model with your 5 variables and `Opiod_Dispensing_Rate`\n",
    "             - Evaluate the results and describe them.\n",
    "         - Test non-linear model with the 5 + 1 variables (n=2,3,4)\n",
    "             - Evaluate the results and describe them.\n",
    "        \n",
    "**Deliverable**\n",
    "- Each member creates separate notebooks for member tasks. Upload all notebooks and reports to Github Repository. \n",
    "- Discuss the results as a team. Put together a presentation of your findings, record it via zoom, and upload the recording to canvas.\n",
    "\n",
    "*PS: Try to use `Plotly` for your charts. Will be useful in Stage V. As plotly graphs are intereactive they are not rendered properly in Github. You can use the approach here to render static images: https://plotly.com/python/static-image-export/. Submission to the repository should contain static images in the notebook.*"
   ]
  },
  {
   "cell_type": "code",
   "execution_count": 1,
   "metadata": {},
   "outputs": [],
   "source": [
    "import pandas as pd\n",
    "import plotly.express as px\n",
    "import matplotlib.pyplot as plt\n",
    "import numpy as np\n",
    "import statsmodels.formula.api as smf\n",
    "import scipy.stats as stats\n",
    "from sklearn.preprocessing import PolynomialFeatures\n",
    "from sklearn import linear_model\n",
    "import plotly.graph_objects as go\n",
    "from scipy.stats import poisson, multinomial, binom"
   ]
  },
  {
   "cell_type": "markdown",
   "metadata": {},
   "source": [
    "Importing the superdatset"
   ]
  },
  {
   "cell_type": "code",
   "execution_count": 2,
   "metadata": {},
   "outputs": [
    {
     "data": {
      "text/html": [
       "<div>\n",
       "<style scoped>\n",
       "    .dataframe tbody tr th:only-of-type {\n",
       "        vertical-align: middle;\n",
       "    }\n",
       "\n",
       "    .dataframe tbody tr th {\n",
       "        vertical-align: top;\n",
       "    }\n",
       "\n",
       "    .dataframe thead th {\n",
       "        text-align: right;\n",
       "    }\n",
       "</style>\n",
       "<table border=\"1\" class=\"dataframe\">\n",
       "  <thead>\n",
       "    <tr style=\"text-align: right;\">\n",
       "      <th></th>\n",
       "      <th>County</th>\n",
       "      <th>County Code</th>\n",
       "      <th>Population</th>\n",
       "      <th>Deaths</th>\n",
       "      <th>Norm_Deaths</th>\n",
       "      <th>State FIPS Code</th>\n",
       "      <th>County FIPS Code</th>\n",
       "      <th>5-digit FIPS Code</th>\n",
       "      <th>State Abbreviation</th>\n",
       "      <th>Name</th>\n",
       "      <th>...</th>\n",
       "      <th>Total male population raw value</th>\n",
       "      <th>Female population 0-17 raw value</th>\n",
       "      <th>Female population 18-44 raw value</th>\n",
       "      <th>Female population 45-64 raw value</th>\n",
       "      <th>Female population 65+ raw value</th>\n",
       "      <th>Total female population raw value</th>\n",
       "      <th>Population growth raw value</th>\n",
       "      <th>State</th>\n",
       "      <th>FIPS</th>\n",
       "      <th>Opiod_Dispensing_Rate</th>\n",
       "    </tr>\n",
       "  </thead>\n",
       "  <tbody>\n",
       "    <tr>\n",
       "      <th>0</th>\n",
       "      <td>Abbeville County, SC</td>\n",
       "      <td>45001</td>\n",
       "      <td>535389</td>\n",
       "      <td>38</td>\n",
       "      <td>7.0</td>\n",
       "      <td>45</td>\n",
       "      <td>1</td>\n",
       "      <td>45001</td>\n",
       "      <td>SC</td>\n",
       "      <td>Abbeville County</td>\n",
       "      <td>...</td>\n",
       "      <td>NaN</td>\n",
       "      <td>NaN</td>\n",
       "      <td>NaN</td>\n",
       "      <td>NaN</td>\n",
       "      <td>NaN</td>\n",
       "      <td>NaN</td>\n",
       "      <td>NaN</td>\n",
       "      <td>SC</td>\n",
       "      <td>45001</td>\n",
       "      <td>32.4</td>\n",
       "    </tr>\n",
       "    <tr>\n",
       "      <th>1</th>\n",
       "      <td>Acadia Parish, LA</td>\n",
       "      <td>22001</td>\n",
       "      <td>1279727</td>\n",
       "      <td>237</td>\n",
       "      <td>19.0</td>\n",
       "      <td>22</td>\n",
       "      <td>1</td>\n",
       "      <td>22001</td>\n",
       "      <td>LA</td>\n",
       "      <td>Acadia Parish</td>\n",
       "      <td>...</td>\n",
       "      <td>NaN</td>\n",
       "      <td>NaN</td>\n",
       "      <td>NaN</td>\n",
       "      <td>NaN</td>\n",
       "      <td>NaN</td>\n",
       "      <td>NaN</td>\n",
       "      <td>NaN</td>\n",
       "      <td>LA</td>\n",
       "      <td>22001</td>\n",
       "      <td>32.2</td>\n",
       "    </tr>\n",
       "    <tr>\n",
       "      <th>2</th>\n",
       "      <td>Accomack County, VA</td>\n",
       "      <td>51001</td>\n",
       "      <td>726189</td>\n",
       "      <td>73</td>\n",
       "      <td>11.0</td>\n",
       "      <td>51</td>\n",
       "      <td>1</td>\n",
       "      <td>51001</td>\n",
       "      <td>VA</td>\n",
       "      <td>Accomack County</td>\n",
       "      <td>...</td>\n",
       "      <td>NaN</td>\n",
       "      <td>NaN</td>\n",
       "      <td>NaN</td>\n",
       "      <td>NaN</td>\n",
       "      <td>NaN</td>\n",
       "      <td>NaN</td>\n",
       "      <td>NaN</td>\n",
       "      <td>VA</td>\n",
       "      <td>51001</td>\n",
       "      <td>19.4</td>\n",
       "    </tr>\n",
       "    <tr>\n",
       "      <th>3</th>\n",
       "      <td>Ada County, ID</td>\n",
       "      <td>16001</td>\n",
       "      <td>8083452</td>\n",
       "      <td>988</td>\n",
       "      <td>12.0</td>\n",
       "      <td>16</td>\n",
       "      <td>1</td>\n",
       "      <td>16001</td>\n",
       "      <td>ID</td>\n",
       "      <td>Ada County</td>\n",
       "      <td>...</td>\n",
       "      <td>NaN</td>\n",
       "      <td>NaN</td>\n",
       "      <td>NaN</td>\n",
       "      <td>NaN</td>\n",
       "      <td>NaN</td>\n",
       "      <td>NaN</td>\n",
       "      <td>NaN</td>\n",
       "      <td>ID</td>\n",
       "      <td>16001</td>\n",
       "      <td>60.8</td>\n",
       "    </tr>\n",
       "    <tr>\n",
       "      <th>4</th>\n",
       "      <td>Adair County, KY</td>\n",
       "      <td>21001</td>\n",
       "      <td>387950</td>\n",
       "      <td>43</td>\n",
       "      <td>11.0</td>\n",
       "      <td>21</td>\n",
       "      <td>1</td>\n",
       "      <td>21001</td>\n",
       "      <td>KY</td>\n",
       "      <td>Adair County</td>\n",
       "      <td>...</td>\n",
       "      <td>NaN</td>\n",
       "      <td>NaN</td>\n",
       "      <td>NaN</td>\n",
       "      <td>NaN</td>\n",
       "      <td>NaN</td>\n",
       "      <td>NaN</td>\n",
       "      <td>NaN</td>\n",
       "      <td>KY</td>\n",
       "      <td>21001</td>\n",
       "      <td>71.3</td>\n",
       "    </tr>\n",
       "    <tr>\n",
       "      <th>...</th>\n",
       "      <td>...</td>\n",
       "      <td>...</td>\n",
       "      <td>...</td>\n",
       "      <td>...</td>\n",
       "      <td>...</td>\n",
       "      <td>...</td>\n",
       "      <td>...</td>\n",
       "      <td>...</td>\n",
       "      <td>...</td>\n",
       "      <td>...</td>\n",
       "      <td>...</td>\n",
       "      <td>...</td>\n",
       "      <td>...</td>\n",
       "      <td>...</td>\n",
       "      <td>...</td>\n",
       "      <td>...</td>\n",
       "      <td>...</td>\n",
       "      <td>...</td>\n",
       "      <td>...</td>\n",
       "      <td>...</td>\n",
       "      <td>...</td>\n",
       "    </tr>\n",
       "    <tr>\n",
       "      <th>2522</th>\n",
       "      <td>Yuba County, CA</td>\n",
       "      <td>6115</td>\n",
       "      <td>1468094</td>\n",
       "      <td>153</td>\n",
       "      <td>11.0</td>\n",
       "      <td>6</td>\n",
       "      <td>115</td>\n",
       "      <td>6115</td>\n",
       "      <td>CA</td>\n",
       "      <td>Yuba County</td>\n",
       "      <td>...</td>\n",
       "      <td>NaN</td>\n",
       "      <td>NaN</td>\n",
       "      <td>NaN</td>\n",
       "      <td>NaN</td>\n",
       "      <td>NaN</td>\n",
       "      <td>NaN</td>\n",
       "      <td>NaN</td>\n",
       "      <td>CA</td>\n",
       "      <td>6115</td>\n",
       "      <td>32.1</td>\n",
       "    </tr>\n",
       "    <tr>\n",
       "      <th>2523</th>\n",
       "      <td>Yukon-Koyukuk Census Area, AK</td>\n",
       "      <td>2290</td>\n",
       "      <td>129587</td>\n",
       "      <td>14</td>\n",
       "      <td>11.0</td>\n",
       "      <td>2</td>\n",
       "      <td>290</td>\n",
       "      <td>2290</td>\n",
       "      <td>AK</td>\n",
       "      <td>Yukon-Koyukuk Census Area</td>\n",
       "      <td>...</td>\n",
       "      <td>NaN</td>\n",
       "      <td>NaN</td>\n",
       "      <td>NaN</td>\n",
       "      <td>NaN</td>\n",
       "      <td>NaN</td>\n",
       "      <td>NaN</td>\n",
       "      <td>NaN</td>\n",
       "      <td>AK</td>\n",
       "      <td>2290</td>\n",
       "      <td>1.2</td>\n",
       "    </tr>\n",
       "    <tr>\n",
       "      <th>2524</th>\n",
       "      <td>Yuma County, AZ</td>\n",
       "      <td>4027</td>\n",
       "      <td>3964172</td>\n",
       "      <td>468</td>\n",
       "      <td>12.0</td>\n",
       "      <td>4</td>\n",
       "      <td>27</td>\n",
       "      <td>4027</td>\n",
       "      <td>AZ</td>\n",
       "      <td>Yuma County</td>\n",
       "      <td>...</td>\n",
       "      <td>NaN</td>\n",
       "      <td>NaN</td>\n",
       "      <td>NaN</td>\n",
       "      <td>NaN</td>\n",
       "      <td>NaN</td>\n",
       "      <td>NaN</td>\n",
       "      <td>NaN</td>\n",
       "      <td>AZ</td>\n",
       "      <td>4027</td>\n",
       "      <td>24.6</td>\n",
       "    </tr>\n",
       "    <tr>\n",
       "      <th>2525</th>\n",
       "      <td>Zapata County, TX</td>\n",
       "      <td>48505</td>\n",
       "      <td>284033</td>\n",
       "      <td>16</td>\n",
       "      <td>6.0</td>\n",
       "      <td>48</td>\n",
       "      <td>505</td>\n",
       "      <td>48505</td>\n",
       "      <td>TX</td>\n",
       "      <td>Zapata County</td>\n",
       "      <td>...</td>\n",
       "      <td>NaN</td>\n",
       "      <td>NaN</td>\n",
       "      <td>NaN</td>\n",
       "      <td>NaN</td>\n",
       "      <td>NaN</td>\n",
       "      <td>NaN</td>\n",
       "      <td>NaN</td>\n",
       "      <td>TX</td>\n",
       "      <td>48505</td>\n",
       "      <td>3.8</td>\n",
       "    </tr>\n",
       "    <tr>\n",
       "      <th>2526</th>\n",
       "      <td>Zavala County, TX</td>\n",
       "      <td>48507</td>\n",
       "      <td>247499</td>\n",
       "      <td>16</td>\n",
       "      <td>6.0</td>\n",
       "      <td>48</td>\n",
       "      <td>507</td>\n",
       "      <td>48507</td>\n",
       "      <td>TX</td>\n",
       "      <td>Zavala County</td>\n",
       "      <td>...</td>\n",
       "      <td>NaN</td>\n",
       "      <td>NaN</td>\n",
       "      <td>NaN</td>\n",
       "      <td>NaN</td>\n",
       "      <td>NaN</td>\n",
       "      <td>NaN</td>\n",
       "      <td>NaN</td>\n",
       "      <td>TX</td>\n",
       "      <td>48507</td>\n",
       "      <td>1.7</td>\n",
       "    </tr>\n",
       "  </tbody>\n",
       "</table>\n",
       "<p>2527 rows × 542 columns</p>\n",
       "</div>"
      ],
      "text/plain": [
       "                             County  County Code  Population  Deaths  \\\n",
       "0              Abbeville County, SC        45001      535389      38   \n",
       "1                 Acadia Parish, LA        22001     1279727     237   \n",
       "2               Accomack County, VA        51001      726189      73   \n",
       "3                    Ada County, ID        16001     8083452     988   \n",
       "4                  Adair County, KY        21001      387950      43   \n",
       "...                             ...          ...         ...     ...   \n",
       "2522                Yuba County, CA         6115     1468094     153   \n",
       "2523  Yukon-Koyukuk Census Area, AK         2290      129587      14   \n",
       "2524                Yuma County, AZ         4027     3964172     468   \n",
       "2525              Zapata County, TX        48505      284033      16   \n",
       "2526              Zavala County, TX        48507      247499      16   \n",
       "\n",
       "      Norm_Deaths  State FIPS Code  County FIPS Code  5-digit FIPS Code  \\\n",
       "0             7.0               45                 1              45001   \n",
       "1            19.0               22                 1              22001   \n",
       "2            11.0               51                 1              51001   \n",
       "3            12.0               16                 1              16001   \n",
       "4            11.0               21                 1              21001   \n",
       "...           ...              ...               ...                ...   \n",
       "2522         11.0                6               115               6115   \n",
       "2523         11.0                2               290               2290   \n",
       "2524         12.0                4                27               4027   \n",
       "2525          6.0               48               505              48505   \n",
       "2526          6.0               48               507              48507   \n",
       "\n",
       "     State Abbreviation                       Name  ...  \\\n",
       "0                    SC           Abbeville County  ...   \n",
       "1                    LA              Acadia Parish  ...   \n",
       "2                    VA            Accomack County  ...   \n",
       "3                    ID                 Ada County  ...   \n",
       "4                    KY               Adair County  ...   \n",
       "...                 ...                        ...  ...   \n",
       "2522                 CA                Yuba County  ...   \n",
       "2523                 AK  Yukon-Koyukuk Census Area  ...   \n",
       "2524                 AZ                Yuma County  ...   \n",
       "2525                 TX              Zapata County  ...   \n",
       "2526                 TX              Zavala County  ...   \n",
       "\n",
       "      Total male population raw value  Female population 0-17 raw value  \\\n",
       "0                                 NaN                               NaN   \n",
       "1                                 NaN                               NaN   \n",
       "2                                 NaN                               NaN   \n",
       "3                                 NaN                               NaN   \n",
       "4                                 NaN                               NaN   \n",
       "...                               ...                               ...   \n",
       "2522                              NaN                               NaN   \n",
       "2523                              NaN                               NaN   \n",
       "2524                              NaN                               NaN   \n",
       "2525                              NaN                               NaN   \n",
       "2526                              NaN                               NaN   \n",
       "\n",
       "      Female population 18-44 raw value  Female population 45-64 raw value  \\\n",
       "0                                   NaN                                NaN   \n",
       "1                                   NaN                                NaN   \n",
       "2                                   NaN                                NaN   \n",
       "3                                   NaN                                NaN   \n",
       "4                                   NaN                                NaN   \n",
       "...                                 ...                                ...   \n",
       "2522                                NaN                                NaN   \n",
       "2523                                NaN                                NaN   \n",
       "2524                                NaN                                NaN   \n",
       "2525                                NaN                                NaN   \n",
       "2526                                NaN                                NaN   \n",
       "\n",
       "      Female population 65+ raw value  Total female population raw value  \\\n",
       "0                                 NaN                                NaN   \n",
       "1                                 NaN                                NaN   \n",
       "2                                 NaN                                NaN   \n",
       "3                                 NaN                                NaN   \n",
       "4                                 NaN                                NaN   \n",
       "...                               ...                                ...   \n",
       "2522                              NaN                                NaN   \n",
       "2523                              NaN                                NaN   \n",
       "2524                              NaN                                NaN   \n",
       "2525                              NaN                                NaN   \n",
       "2526                              NaN                                NaN   \n",
       "\n",
       "      Population growth raw value  State   FIPS  Opiod_Dispensing_Rate  \n",
       "0                             NaN     SC  45001                   32.4  \n",
       "1                             NaN     LA  22001                   32.2  \n",
       "2                             NaN     VA  51001                   19.4  \n",
       "3                             NaN     ID  16001                   60.8  \n",
       "4                             NaN     KY  21001                   71.3  \n",
       "...                           ...    ...    ...                    ...  \n",
       "2522                          NaN     CA   6115                   32.1  \n",
       "2523                          NaN     AK   2290                    1.2  \n",
       "2524                          NaN     AZ   4027                   24.6  \n",
       "2525                          NaN     TX  48505                    3.8  \n",
       "2526                          NaN     TX  48507                    1.7  \n",
       "\n",
       "[2527 rows x 542 columns]"
      ]
     },
     "execution_count": 2,
     "metadata": {},
     "output_type": "execute_result"
    }
   ],
   "source": [
    "data = pd.read_csv(\"../../../../data/stage_1/superdataset_merge.csv\")\n",
    "data"
   ]
  },
  {
   "cell_type": "markdown",
   "metadata": {},
   "source": [
    "Normalizing the `opiod dispensing rate` by population."
   ]
  },
  {
   "cell_type": "code",
   "execution_count": 3,
   "metadata": {},
   "outputs": [],
   "source": [
    "data[\"norm_OPR\"] = (data[\"Opiod_Dispensing_Rate\"]/data[\"Population\"])*100000"
   ]
  },
  {
   "cell_type": "markdown",
   "metadata": {},
   "source": [
    "### Simple Linear Regression</b>\n",
    "- Linear regression between Normalized Mortality and Opiod_Dispensing_Rate"
   ]
  },
  {
   "cell_type": "code",
   "execution_count": 4,
   "metadata": {},
   "outputs": [
    {
     "data": {
      "text/plain": [
       "Intercept    12.036638\n",
       "norm_OPR      0.015348\n",
       "dtype: float64"
      ]
     },
     "execution_count": 4,
     "metadata": {},
     "output_type": "execute_result"
    }
   ],
   "source": [
    "# create a fitted model in one line\n",
    "lm = smf.ols(formula='Norm_Deaths ~ norm_OPR', data=data).fit()\n",
    "\n",
    "# print the coefficients\n",
    "lm.params"
   ]
  },
  {
   "cell_type": "code",
   "execution_count": 5,
   "metadata": {},
   "outputs": [
    {
     "data": {
      "text/plain": [
       "(0.0, 687.930031979843)"
      ]
     },
     "execution_count": 5,
     "metadata": {},
     "output_type": "execute_result"
    }
   ],
   "source": [
    "data.norm_OPR.min(),data.norm_OPR.max()"
   ]
  },
  {
   "cell_type": "markdown",
   "metadata": {},
   "source": [
    "From the value of intercept and slope we can infer that:\n",
    "- A unit increase in Opiod dispensing rate increases the Norm_Deaths by 0.015.\n",
    "- In simple terms, a increase in opiod dispensing rate by 100 will increase the number of norm_deaths by 1.53 widgets.\n"
   ]
  },
  {
   "cell_type": "code",
   "execution_count": 6,
   "metadata": {},
   "outputs": [
    {
     "data": {
      "text/plain": [
       "14.338837999999999"
      ]
     },
     "execution_count": 6,
     "metadata": {},
     "output_type": "execute_result"
    }
   ],
   "source": [
    "#manually predicting value for norm_deaths if opiod dispensing rate is 150\n",
    "12.036638 + 0.015348*150"
   ]
  },
  {
   "cell_type": "markdown",
   "metadata": {},
   "source": [
    "This shows that if opiod dispensing rate is 150, then we can predict the norm deaths value as around 14.33"
   ]
  },
  {
   "cell_type": "markdown",
   "metadata": {},
   "source": [
    "### Multiple linear regression\n",
    "- Perform multiple linear regression model with your 5 variables and Opiod_Dispensing_Rate\n",
    "\n",
    "My 5 variables are:\n",
    "\n",
    "- opioid dispensing rate\n",
    "- unemployment rate\n",
    "- drug overdose\n",
    "- insufficient sleep\n",
    "- excessive drinking\n"
   ]
  },
  {
   "cell_type": "markdown",
   "metadata": {},
   "source": [
    "Normalizing the 5 variables by population and handling null values"
   ]
  },
  {
   "cell_type": "code",
   "execution_count": 7,
   "metadata": {},
   "outputs": [],
   "source": [
    "data[\"Norm_Unemployment\"] = (data[\"Unemployment raw value\"]/data[\"Population\"])*100000"
   ]
  },
  {
   "cell_type": "code",
   "execution_count": 8,
   "metadata": {},
   "outputs": [],
   "source": [
    "data[\"Norm_Drug_Overdose\"] = (data[\"Drug overdose deaths raw value\"]/data[\"Population\"])*100000\n",
    "\n",
    "# Norm_Drug_Overdose has many \"NA\" values filling all the NA before performing regression\n",
    "data[\"Norm_Drug_Overdose\"] = data[\"Norm_Drug_Overdose\"].fillna(0)"
   ]
  },
  {
   "cell_type": "code",
   "execution_count": 9,
   "metadata": {},
   "outputs": [],
   "source": [
    "data[\"Norm_insufficient_sleep\"] = (data[\"Insufficient sleep raw value\"]/data[\"Population\"])*100000"
   ]
  },
  {
   "cell_type": "code",
   "execution_count": 10,
   "metadata": {},
   "outputs": [],
   "source": [
    "data[\"Norm_excessive_drinking\"] = (data[\"Excessive drinking raw value\"]/data[\"Population\"])*100000"
   ]
  },
  {
   "cell_type": "markdown",
   "metadata": {},
   "source": [
    "Performing mulltiple linear regression (multivariable linear regression) of `opiod dispensing rate` with 5 variables"
   ]
  },
  {
   "cell_type": "code",
   "execution_count": 11,
   "metadata": {},
   "outputs": [
    {
     "data": {
      "text/plain": [
       "Intercept                   -0.192711\n",
       "Norm_Unemployment           14.784798\n",
       "Norm_Drug_Overdose           0.099378\n",
       "Norm_insufficient_sleep    138.477387\n",
       "Norm_excessive_drinking    -50.171453\n",
       "dtype: float64"
      ]
     },
     "execution_count": 11,
     "metadata": {},
     "output_type": "execute_result"
    }
   ],
   "source": [
    "# create a fitted model with all three features\n",
    "lm2 = smf.ols(formula='norm_OPR ~ Norm_Unemployment + Norm_Drug_Overdose + Norm_insufficient_sleep + Norm_excessive_drinking', data=data).fit()\n",
    "\n",
    "# print the coefficients\n",
    "lm2.params"
   ]
  },
  {
   "cell_type": "markdown",
   "metadata": {},
   "source": [
    "- All slopes are positive except `Norm_excessive_drinking`. It means that with increase in `Norm_excessive_drinking` there will be decrease in `opiod dispensing rate`.\n",
    "- A unit increase in Norm_Unemployment increase opiod dispensing rate by 14.784798.\n",
    "- A unit increase in Norm_Drug_Overdose increase opiod dispensing rate by 0.099378.\n",
    "- A unit increase in Norm_insufficient_sleep increase opiod dispensing rate by 138.477387."
   ]
  },
  {
   "cell_type": "code",
   "execution_count": 12,
   "metadata": {},
   "outputs": [
    {
     "data": {
      "text/html": [
       "<table class=\"simpletable\">\n",
       "<caption>OLS Regression Results</caption>\n",
       "<tr>\n",
       "  <th>Dep. Variable:</th>        <td>norm_OPR</td>     <th>  R-squared:         </th> <td>   0.184</td> \n",
       "</tr>\n",
       "<tr>\n",
       "  <th>Model:</th>                   <td>OLS</td>       <th>  Adj. R-squared:    </th> <td>   0.182</td> \n",
       "</tr>\n",
       "<tr>\n",
       "  <th>Method:</th>             <td>Least Squares</td>  <th>  F-statistic:       </th> <td>   141.9</td> \n",
       "</tr>\n",
       "<tr>\n",
       "  <th>Date:</th>             <td>Mon, 21 Nov 2022</td> <th>  Prob (F-statistic):</th> <td>1.58e-109</td>\n",
       "</tr>\n",
       "<tr>\n",
       "  <th>Time:</th>                 <td>20:14:11</td>     <th>  Log-Likelihood:    </th> <td> -10490.</td> \n",
       "</tr>\n",
       "<tr>\n",
       "  <th>No. Observations:</th>      <td>  2527</td>      <th>  AIC:               </th> <td>2.099e+04</td>\n",
       "</tr>\n",
       "<tr>\n",
       "  <th>Df Residuals:</th>          <td>  2522</td>      <th>  BIC:               </th> <td>2.102e+04</td>\n",
       "</tr>\n",
       "<tr>\n",
       "  <th>Df Model:</th>              <td>     4</td>      <th>                     </th>     <td> </td>    \n",
       "</tr>\n",
       "<tr>\n",
       "  <th>Covariance Type:</th>      <td>nonrobust</td>    <th>                     </th>     <td> </td>    \n",
       "</tr>\n",
       "</table>\n",
       "<table class=\"simpletable\">\n",
       "<tr>\n",
       "             <td></td>                <th>coef</th>     <th>std err</th>      <th>t</th>      <th>P>|t|</th>  <th>[0.025</th>    <th>0.975]</th>  \n",
       "</tr>\n",
       "<tr>\n",
       "  <th>Intercept</th>               <td>   -0.1927</td> <td>    0.468</td> <td>   -0.412</td> <td> 0.680</td> <td>   -1.110</td> <td>    0.724</td>\n",
       "</tr>\n",
       "<tr>\n",
       "  <th>Norm_Unemployment</th>       <td>   14.7848</td> <td>   65.953</td> <td>    0.224</td> <td> 0.823</td> <td> -114.543</td> <td>  144.113</td>\n",
       "</tr>\n",
       "<tr>\n",
       "  <th>Norm_Drug_Overdose</th>      <td>    0.0994</td> <td>    0.098</td> <td>    1.019</td> <td> 0.308</td> <td>   -0.092</td> <td>    0.291</td>\n",
       "</tr>\n",
       "<tr>\n",
       "  <th>Norm_insufficient_sleep</th> <td>  138.4774</td> <td>   18.090</td> <td>    7.655</td> <td> 0.000</td> <td>  103.005</td> <td>  173.950</td>\n",
       "</tr>\n",
       "<tr>\n",
       "  <th>Norm_excessive_drinking</th> <td>  -50.1715</td> <td>   28.512</td> <td>   -1.760</td> <td> 0.079</td> <td> -106.081</td> <td>    5.738</td>\n",
       "</tr>\n",
       "</table>\n",
       "<table class=\"simpletable\">\n",
       "<tr>\n",
       "  <th>Omnibus:</th>       <td>6557.044</td> <th>  Durbin-Watson:     </th>   <td>   2.037</td>   \n",
       "</tr>\n",
       "<tr>\n",
       "  <th>Prob(Omnibus):</th>  <td> 0.000</td>  <th>  Jarque-Bera (JB):  </th> <td>143674922.317</td>\n",
       "</tr>\n",
       "<tr>\n",
       "  <th>Skew:</th>           <td>28.942</td>  <th>  Prob(JB):          </th>   <td>    0.00</td>   \n",
       "</tr>\n",
       "<tr>\n",
       "  <th>Kurtosis:</th>      <td>1169.701</td> <th>  Cond. No.          </th>   <td>    807.</td>   \n",
       "</tr>\n",
       "</table><br/><br/>Notes:<br/>[1] Standard Errors assume that the covariance matrix of the errors is correctly specified."
      ],
      "text/plain": [
       "<class 'statsmodels.iolib.summary.Summary'>\n",
       "\"\"\"\n",
       "                            OLS Regression Results                            \n",
       "==============================================================================\n",
       "Dep. Variable:               norm_OPR   R-squared:                       0.184\n",
       "Model:                            OLS   Adj. R-squared:                  0.182\n",
       "Method:                 Least Squares   F-statistic:                     141.9\n",
       "Date:                Mon, 21 Nov 2022   Prob (F-statistic):          1.58e-109\n",
       "Time:                        20:14:11   Log-Likelihood:                -10490.\n",
       "No. Observations:                2527   AIC:                         2.099e+04\n",
       "Df Residuals:                    2522   BIC:                         2.102e+04\n",
       "Df Model:                           4                                         \n",
       "Covariance Type:            nonrobust                                         \n",
       "===========================================================================================\n",
       "                              coef    std err          t      P>|t|      [0.025      0.975]\n",
       "-------------------------------------------------------------------------------------------\n",
       "Intercept                  -0.1927      0.468     -0.412      0.680      -1.110       0.724\n",
       "Norm_Unemployment          14.7848     65.953      0.224      0.823    -114.543     144.113\n",
       "Norm_Drug_Overdose          0.0994      0.098      1.019      0.308      -0.092       0.291\n",
       "Norm_insufficient_sleep   138.4774     18.090      7.655      0.000     103.005     173.950\n",
       "Norm_excessive_drinking   -50.1715     28.512     -1.760      0.079    -106.081       5.738\n",
       "==============================================================================\n",
       "Omnibus:                     6557.044   Durbin-Watson:                   2.037\n",
       "Prob(Omnibus):                  0.000   Jarque-Bera (JB):        143674922.317\n",
       "Skew:                          28.942   Prob(JB):                         0.00\n",
       "Kurtosis:                    1169.701   Cond. No.                         807.\n",
       "==============================================================================\n",
       "\n",
       "Notes:\n",
       "[1] Standard Errors assume that the covariance matrix of the errors is correctly specified.\n",
       "\"\"\""
      ]
     },
     "execution_count": 12,
     "metadata": {},
     "output_type": "execute_result"
    }
   ],
   "source": [
    "# print a summary of the fitted model\n",
    "lm2.summary()"
   ]
  },
  {
   "cell_type": "markdown",
   "metadata": {},
   "source": [
    "### Inferences:\n",
    "- R-square value of multi variable model is 0.184. This value determines the fittedness of the model. It is between 0 and 1 and closer to 1 is good fit.\n",
    "- From our value we can say that it is a good fit but not the best fit as it doesn't cover variance to its optimal value.\n",
    "- P-value is also important factor. It shows relationship between the variables. `Norm_insufficient_sleep` has the highest slope and a significant p-value. \n",
    "- We can reject the null hypothesis for no relationship between `opiod dispensing rate` and `Norm_insufficient_sleep`. But fail to reject for other variables."
   ]
  },
  {
   "cell_type": "markdown",
   "metadata": {},
   "source": [
    "### Non-linear regression:\n",
    "- With 5 + 1 variables (n=2, 3, 4)\n",
    "\n",
    "<br><br>\n",
    "<b> My 5 variables are: </b>\n",
    "- opioid dispensing rate\n",
    "- unemployment rate\n",
    "- drug overdose\n",
    "- insufficient sleep\n",
    "- excessive drinking"
   ]
  },
  {
   "cell_type": "markdown",
   "metadata": {},
   "source": [
    "Here we will use sklearn for performing multivariale non-linear (polynomial) regression."
   ]
  },
  {
   "cell_type": "markdown",
   "metadata": {},
   "source": [
    "- Selecting the columns required from the main dataset"
   ]
  },
  {
   "cell_type": "code",
   "execution_count": 13,
   "metadata": {},
   "outputs": [],
   "source": [
    "features = data[[\"norm_OPR\", \"Norm_Unemployment\", \"Norm_Drug_Overdose\", \"Norm_insufficient_sleep\", \"Norm_excessive_drinking\"]]\n",
    "y = data[[\"Norm_Deaths\"]]"
   ]
  },
  {
   "cell_type": "code",
   "execution_count": 14,
   "metadata": {},
   "outputs": [
    {
     "data": {
      "text/html": [
       "<div>\n",
       "<style scoped>\n",
       "    .dataframe tbody tr th:only-of-type {\n",
       "        vertical-align: middle;\n",
       "    }\n",
       "\n",
       "    .dataframe tbody tr th {\n",
       "        vertical-align: top;\n",
       "    }\n",
       "\n",
       "    .dataframe thead th {\n",
       "        text-align: right;\n",
       "    }\n",
       "</style>\n",
       "<table border=\"1\" class=\"dataframe\">\n",
       "  <thead>\n",
       "    <tr style=\"text-align: right;\">\n",
       "      <th></th>\n",
       "      <th>norm_OPR</th>\n",
       "      <th>Norm_Unemployment</th>\n",
       "      <th>Norm_Drug_Overdose</th>\n",
       "      <th>Norm_insufficient_sleep</th>\n",
       "      <th>Norm_excessive_drinking</th>\n",
       "    </tr>\n",
       "  </thead>\n",
       "  <tbody>\n",
       "    <tr>\n",
       "      <th>0</th>\n",
       "      <td>6.051675</td>\n",
       "      <td>0.008560</td>\n",
       "      <td>3.258113</td>\n",
       "      <td>0.067397</td>\n",
       "      <td>0.029146</td>\n",
       "    </tr>\n",
       "    <tr>\n",
       "      <th>1</th>\n",
       "      <td>2.516162</td>\n",
       "      <td>0.004617</td>\n",
       "      <td>1.081764</td>\n",
       "      <td>0.025285</td>\n",
       "      <td>0.014885</td>\n",
       "    </tr>\n",
       "    <tr>\n",
       "      <th>2</th>\n",
       "      <td>2.671481</td>\n",
       "      <td>0.006640</td>\n",
       "      <td>1.538371</td>\n",
       "      <td>0.050607</td>\n",
       "      <td>0.020851</td>\n",
       "    </tr>\n",
       "    <tr>\n",
       "      <th>3</th>\n",
       "      <td>0.752154</td>\n",
       "      <td>0.000344</td>\n",
       "      <td>0.169568</td>\n",
       "      <td>0.003253</td>\n",
       "      <td>0.002389</td>\n",
       "    </tr>\n",
       "    <tr>\n",
       "      <th>4</th>\n",
       "      <td>18.378657</td>\n",
       "      <td>0.016322</td>\n",
       "      <td>0.000000</td>\n",
       "      <td>0.093850</td>\n",
       "      <td>0.037489</td>\n",
       "    </tr>\n",
       "    <tr>\n",
       "      <th>...</th>\n",
       "      <td>...</td>\n",
       "      <td>...</td>\n",
       "      <td>...</td>\n",
       "      <td>...</td>\n",
       "      <td>...</td>\n",
       "    </tr>\n",
       "    <tr>\n",
       "      <th>2522</th>\n",
       "      <td>2.186508</td>\n",
       "      <td>0.005071</td>\n",
       "      <td>1.321477</td>\n",
       "      <td>0.022990</td>\n",
       "      <td>0.012725</td>\n",
       "    </tr>\n",
       "    <tr>\n",
       "      <th>2523</th>\n",
       "      <td>0.926019</td>\n",
       "      <td>0.140927</td>\n",
       "      <td>0.000000</td>\n",
       "      <td>0.266471</td>\n",
       "      <td>0.148037</td>\n",
       "    </tr>\n",
       "    <tr>\n",
       "      <th>2524</th>\n",
       "      <td>0.620558</td>\n",
       "      <td>0.004301</td>\n",
       "      <td>0.400386</td>\n",
       "      <td>0.007511</td>\n",
       "      <td>0.003906</td>\n",
       "    </tr>\n",
       "    <tr>\n",
       "      <th>2525</th>\n",
       "      <td>1.337873</td>\n",
       "      <td>0.025864</td>\n",
       "      <td>0.000000</td>\n",
       "      <td>0.122009</td>\n",
       "      <td>0.051307</td>\n",
       "    </tr>\n",
       "    <tr>\n",
       "      <th>2526</th>\n",
       "      <td>0.686871</td>\n",
       "      <td>0.044869</td>\n",
       "      <td>0.000000</td>\n",
       "      <td>0.141077</td>\n",
       "      <td>0.056018</td>\n",
       "    </tr>\n",
       "  </tbody>\n",
       "</table>\n",
       "<p>2527 rows × 5 columns</p>\n",
       "</div>"
      ],
      "text/plain": [
       "       norm_OPR  Norm_Unemployment  Norm_Drug_Overdose  \\\n",
       "0      6.051675           0.008560            3.258113   \n",
       "1      2.516162           0.004617            1.081764   \n",
       "2      2.671481           0.006640            1.538371   \n",
       "3      0.752154           0.000344            0.169568   \n",
       "4     18.378657           0.016322            0.000000   \n",
       "...         ...                ...                 ...   \n",
       "2522   2.186508           0.005071            1.321477   \n",
       "2523   0.926019           0.140927            0.000000   \n",
       "2524   0.620558           0.004301            0.400386   \n",
       "2525   1.337873           0.025864            0.000000   \n",
       "2526   0.686871           0.044869            0.000000   \n",
       "\n",
       "      Norm_insufficient_sleep  Norm_excessive_drinking  \n",
       "0                    0.067397                 0.029146  \n",
       "1                    0.025285                 0.014885  \n",
       "2                    0.050607                 0.020851  \n",
       "3                    0.003253                 0.002389  \n",
       "4                    0.093850                 0.037489  \n",
       "...                       ...                      ...  \n",
       "2522                 0.022990                 0.012725  \n",
       "2523                 0.266471                 0.148037  \n",
       "2524                 0.007511                 0.003906  \n",
       "2525                 0.122009                 0.051307  \n",
       "2526                 0.141077                 0.056018  \n",
       "\n",
       "[2527 rows x 5 columns]"
      ]
     },
     "execution_count": 14,
     "metadata": {},
     "output_type": "execute_result"
    }
   ],
   "source": [
    "features"
   ]
  },
  {
   "cell_type": "markdown",
   "metadata": {},
   "source": [
    "The method shown in the link below is used to perform multiple polynomial regression in sklearn:\n",
    "- https://youtu.be/SSmpyoIdJTc"
   ]
  },
  {
   "cell_type": "markdown",
   "metadata": {},
   "source": [
    "<b> Multivariable non-linear regression with polynomial degree = 2"
   ]
  },
  {
   "cell_type": "markdown",
   "metadata": {},
   "source": [
    "- `PolynomialFeatures` is used and degree = 2 is provided"
   ]
  },
  {
   "cell_type": "code",
   "execution_count": 15,
   "metadata": {},
   "outputs": [],
   "source": [
    "poly2 = PolynomialFeatures(degree = 2)\n",
    "# fit and transform with given 5 independent variables\n",
    "features_2 = poly2.fit_transform(features) "
   ]
  },
  {
   "cell_type": "code",
   "execution_count": 16,
   "metadata": {},
   "outputs": [
    {
     "data": {
      "text/plain": [
       "(2527, 21)"
      ]
     },
     "execution_count": 16,
     "metadata": {},
     "output_type": "execute_result"
    }
   ],
   "source": [
    "features_2.shape"
   ]
  },
  {
   "cell_type": "code",
   "execution_count": 17,
   "metadata": {},
   "outputs": [],
   "source": [
    "# select the model\n",
    "model = linear_model.LinearRegression()\n",
    "# Fitting the model with dependent and independent variables to find co-efficients\n",
    "model2 = model.fit(features_2, y)\n",
    "\n",
    "#printing co-efficient and intercept\n",
    "coeff2 = model2.coef_\n",
    "intercept2 = model2.intercept_"
   ]
  },
  {
   "cell_type": "code",
   "execution_count": 18,
   "metadata": {},
   "outputs": [
    {
     "data": {
      "text/plain": [
       "0.4823574995141816"
      ]
     },
     "execution_count": 18,
     "metadata": {},
     "output_type": "execute_result"
    }
   ],
   "source": [
    "#R-square value for the model\n",
    "model2.score(features_2, y)"
   ]
  },
  {
   "cell_type": "markdown",
   "metadata": {},
   "source": [
    "This shows the r-square value for model with polynomial degree = 2. The value is 0.4823574995141816 which is better than linear model."
   ]
  },
  {
   "cell_type": "markdown",
   "metadata": {},
   "source": [
    "<b> Multivariable non-linear regression with polynomial degree = 3"
   ]
  },
  {
   "cell_type": "markdown",
   "metadata": {},
   "source": [
    "- Repeat the same procedure as above but for polynomial degree = 3"
   ]
  },
  {
   "cell_type": "code",
   "execution_count": 19,
   "metadata": {},
   "outputs": [],
   "source": [
    "poly3 = PolynomialFeatures(degree = 3)\n",
    "features_3 = poly3.fit_transform(features) "
   ]
  },
  {
   "cell_type": "code",
   "execution_count": 20,
   "metadata": {},
   "outputs": [
    {
     "data": {
      "text/plain": [
       "(2527, 56)"
      ]
     },
     "execution_count": 20,
     "metadata": {},
     "output_type": "execute_result"
    }
   ],
   "source": [
    "features_3.shape"
   ]
  },
  {
   "cell_type": "code",
   "execution_count": 21,
   "metadata": {},
   "outputs": [],
   "source": [
    "# select the model\n",
    "model = linear_model.LinearRegression()\n",
    "# Fitting the model with dependent and independent variables to find co-efficients\n",
    "model3= model.fit(features_3, y)\n",
    "\n",
    "#printing co-efficient and intercept\n",
    "coeff3 = model3.coef_\n",
    "intercept3 = model3.intercept_"
   ]
  },
  {
   "cell_type": "code",
   "execution_count": 22,
   "metadata": {},
   "outputs": [
    {
     "data": {
      "text/plain": [
       "0.5981017456512037"
      ]
     },
     "execution_count": 22,
     "metadata": {},
     "output_type": "execute_result"
    }
   ],
   "source": [
    "#R-square value for the model\n",
    "model3.score(features_3, y)"
   ]
  },
  {
   "cell_type": "markdown",
   "metadata": {},
   "source": [
    "- This shows the r-square value for model with polynomial degree = 3. The value is 0.5981017456512037 which is better than linear model and also for polynomial degree = 2.\n",
    "- As no. of degree increase the fittedness of model also increase. This means increase in variance and decrease in bias error. The model is getting complex."
   ]
  },
  {
   "cell_type": "markdown",
   "metadata": {},
   "source": [
    "<b>Multivariable non-linear regression with polynomial degree = 4"
   ]
  },
  {
   "cell_type": "code",
   "execution_count": 23,
   "metadata": {},
   "outputs": [],
   "source": [
    "poly4 = PolynomialFeatures(degree = 4)\n",
    "features_4 = poly4.fit_transform(features) "
   ]
  },
  {
   "cell_type": "code",
   "execution_count": 24,
   "metadata": {},
   "outputs": [
    {
     "data": {
      "text/plain": [
       "(2527, 126)"
      ]
     },
     "execution_count": 24,
     "metadata": {},
     "output_type": "execute_result"
    }
   ],
   "source": [
    "features_4.shape"
   ]
  },
  {
   "cell_type": "code",
   "execution_count": 25,
   "metadata": {},
   "outputs": [],
   "source": [
    "# select the model\n",
    "model = linear_model.LinearRegression()\n",
    "# Fitting the model with dependent and independent variables to find co-efficients\n",
    "model4= model.fit(features_4, y)\n",
    "\n",
    "#printing co-efficient and intercept\n",
    "coeff4 = model4.coef_\n",
    "intercept4 = model4.intercept_"
   ]
  },
  {
   "cell_type": "code",
   "execution_count": 26,
   "metadata": {},
   "outputs": [
    {
     "data": {
      "text/plain": [
       "0.6496187476356587"
      ]
     },
     "execution_count": 26,
     "metadata": {},
     "output_type": "execute_result"
    }
   ],
   "source": [
    "#R-square value for the model\n",
    "model4.score(features_4, y)"
   ]
  },
  {
   "cell_type": "markdown",
   "metadata": {},
   "source": [
    "This shows the r-square value for model with polynomial degree = 4. The value is 0.6496187476356587 which is better than linear model and also for polynomial degree = 2 and 3.\n",
    "- This means increase in variance and decrease in bias error. The model is getting complex.\n"
   ]
  },
  {
   "cell_type": "markdown",
   "metadata": {},
   "source": [
    "### Inference:\n",
    "- Comparing r-square value for polynomial degree = 2, 3, 4 we can see that degree = 4 is a better fit with highest r-square value.\n",
    "- Non linear model is a better fit here than linear given the r-square value as our data is also non-linear."
   ]
  },
  {
   "cell_type": "markdown",
   "metadata": {},
   "source": [
    "We can also use <b>`stats.model`</b> library for multi-variable non-linear polynomial regression\n",
    "- We will use the package import `statsmodels.formula.api` and linear regression function is `ols`"
   ]
  },
  {
   "cell_type": "markdown",
   "metadata": {},
   "source": [
    "Create copy of main data"
   ]
  },
  {
   "cell_type": "code",
   "execution_count": 27,
   "metadata": {},
   "outputs": [
    {
     "data": {
      "text/html": [
       "<div>\n",
       "<style scoped>\n",
       "    .dataframe tbody tr th:only-of-type {\n",
       "        vertical-align: middle;\n",
       "    }\n",
       "\n",
       "    .dataframe tbody tr th {\n",
       "        vertical-align: top;\n",
       "    }\n",
       "\n",
       "    .dataframe thead th {\n",
       "        text-align: right;\n",
       "    }\n",
       "</style>\n",
       "<table border=\"1\" class=\"dataframe\">\n",
       "  <thead>\n",
       "    <tr style=\"text-align: right;\">\n",
       "      <th></th>\n",
       "      <th>County</th>\n",
       "      <th>County Code</th>\n",
       "      <th>Population</th>\n",
       "      <th>Deaths</th>\n",
       "      <th>Norm_Deaths</th>\n",
       "      <th>State FIPS Code</th>\n",
       "      <th>County FIPS Code</th>\n",
       "      <th>5-digit FIPS Code</th>\n",
       "      <th>State Abbreviation</th>\n",
       "      <th>Name</th>\n",
       "      <th>...</th>\n",
       "      <th>Total female population raw value</th>\n",
       "      <th>Population growth raw value</th>\n",
       "      <th>State</th>\n",
       "      <th>FIPS</th>\n",
       "      <th>Opiod_Dispensing_Rate</th>\n",
       "      <th>norm_OPR</th>\n",
       "      <th>Norm_Unemployment</th>\n",
       "      <th>Norm_Drug_Overdose</th>\n",
       "      <th>Norm_insufficient_sleep</th>\n",
       "      <th>Norm_excessive_drinking</th>\n",
       "    </tr>\n",
       "  </thead>\n",
       "  <tbody>\n",
       "    <tr>\n",
       "      <th>0</th>\n",
       "      <td>Abbeville County, SC</td>\n",
       "      <td>45001</td>\n",
       "      <td>535389</td>\n",
       "      <td>38</td>\n",
       "      <td>7.0</td>\n",
       "      <td>45</td>\n",
       "      <td>1</td>\n",
       "      <td>45001</td>\n",
       "      <td>SC</td>\n",
       "      <td>Abbeville County</td>\n",
       "      <td>...</td>\n",
       "      <td>NaN</td>\n",
       "      <td>NaN</td>\n",
       "      <td>SC</td>\n",
       "      <td>45001</td>\n",
       "      <td>32.4</td>\n",
       "      <td>6.051675</td>\n",
       "      <td>0.008560</td>\n",
       "      <td>3.258113</td>\n",
       "      <td>0.067397</td>\n",
       "      <td>0.029146</td>\n",
       "    </tr>\n",
       "    <tr>\n",
       "      <th>1</th>\n",
       "      <td>Acadia Parish, LA</td>\n",
       "      <td>22001</td>\n",
       "      <td>1279727</td>\n",
       "      <td>237</td>\n",
       "      <td>19.0</td>\n",
       "      <td>22</td>\n",
       "      <td>1</td>\n",
       "      <td>22001</td>\n",
       "      <td>LA</td>\n",
       "      <td>Acadia Parish</td>\n",
       "      <td>...</td>\n",
       "      <td>NaN</td>\n",
       "      <td>NaN</td>\n",
       "      <td>LA</td>\n",
       "      <td>22001</td>\n",
       "      <td>32.2</td>\n",
       "      <td>2.516162</td>\n",
       "      <td>0.004617</td>\n",
       "      <td>1.081764</td>\n",
       "      <td>0.025285</td>\n",
       "      <td>0.014885</td>\n",
       "    </tr>\n",
       "    <tr>\n",
       "      <th>2</th>\n",
       "      <td>Accomack County, VA</td>\n",
       "      <td>51001</td>\n",
       "      <td>726189</td>\n",
       "      <td>73</td>\n",
       "      <td>11.0</td>\n",
       "      <td>51</td>\n",
       "      <td>1</td>\n",
       "      <td>51001</td>\n",
       "      <td>VA</td>\n",
       "      <td>Accomack County</td>\n",
       "      <td>...</td>\n",
       "      <td>NaN</td>\n",
       "      <td>NaN</td>\n",
       "      <td>VA</td>\n",
       "      <td>51001</td>\n",
       "      <td>19.4</td>\n",
       "      <td>2.671481</td>\n",
       "      <td>0.006640</td>\n",
       "      <td>1.538371</td>\n",
       "      <td>0.050607</td>\n",
       "      <td>0.020851</td>\n",
       "    </tr>\n",
       "    <tr>\n",
       "      <th>3</th>\n",
       "      <td>Ada County, ID</td>\n",
       "      <td>16001</td>\n",
       "      <td>8083452</td>\n",
       "      <td>988</td>\n",
       "      <td>12.0</td>\n",
       "      <td>16</td>\n",
       "      <td>1</td>\n",
       "      <td>16001</td>\n",
       "      <td>ID</td>\n",
       "      <td>Ada County</td>\n",
       "      <td>...</td>\n",
       "      <td>NaN</td>\n",
       "      <td>NaN</td>\n",
       "      <td>ID</td>\n",
       "      <td>16001</td>\n",
       "      <td>60.8</td>\n",
       "      <td>0.752154</td>\n",
       "      <td>0.000344</td>\n",
       "      <td>0.169568</td>\n",
       "      <td>0.003253</td>\n",
       "      <td>0.002389</td>\n",
       "    </tr>\n",
       "    <tr>\n",
       "      <th>4</th>\n",
       "      <td>Adair County, KY</td>\n",
       "      <td>21001</td>\n",
       "      <td>387950</td>\n",
       "      <td>43</td>\n",
       "      <td>11.0</td>\n",
       "      <td>21</td>\n",
       "      <td>1</td>\n",
       "      <td>21001</td>\n",
       "      <td>KY</td>\n",
       "      <td>Adair County</td>\n",
       "      <td>...</td>\n",
       "      <td>NaN</td>\n",
       "      <td>NaN</td>\n",
       "      <td>KY</td>\n",
       "      <td>21001</td>\n",
       "      <td>71.3</td>\n",
       "      <td>18.378657</td>\n",
       "      <td>0.016322</td>\n",
       "      <td>0.000000</td>\n",
       "      <td>0.093850</td>\n",
       "      <td>0.037489</td>\n",
       "    </tr>\n",
       "    <tr>\n",
       "      <th>...</th>\n",
       "      <td>...</td>\n",
       "      <td>...</td>\n",
       "      <td>...</td>\n",
       "      <td>...</td>\n",
       "      <td>...</td>\n",
       "      <td>...</td>\n",
       "      <td>...</td>\n",
       "      <td>...</td>\n",
       "      <td>...</td>\n",
       "      <td>...</td>\n",
       "      <td>...</td>\n",
       "      <td>...</td>\n",
       "      <td>...</td>\n",
       "      <td>...</td>\n",
       "      <td>...</td>\n",
       "      <td>...</td>\n",
       "      <td>...</td>\n",
       "      <td>...</td>\n",
       "      <td>...</td>\n",
       "      <td>...</td>\n",
       "      <td>...</td>\n",
       "    </tr>\n",
       "    <tr>\n",
       "      <th>2522</th>\n",
       "      <td>Yuba County, CA</td>\n",
       "      <td>6115</td>\n",
       "      <td>1468094</td>\n",
       "      <td>153</td>\n",
       "      <td>11.0</td>\n",
       "      <td>6</td>\n",
       "      <td>115</td>\n",
       "      <td>6115</td>\n",
       "      <td>CA</td>\n",
       "      <td>Yuba County</td>\n",
       "      <td>...</td>\n",
       "      <td>NaN</td>\n",
       "      <td>NaN</td>\n",
       "      <td>CA</td>\n",
       "      <td>6115</td>\n",
       "      <td>32.1</td>\n",
       "      <td>2.186508</td>\n",
       "      <td>0.005071</td>\n",
       "      <td>1.321477</td>\n",
       "      <td>0.022990</td>\n",
       "      <td>0.012725</td>\n",
       "    </tr>\n",
       "    <tr>\n",
       "      <th>2523</th>\n",
       "      <td>Yukon-Koyukuk Census Area, AK</td>\n",
       "      <td>2290</td>\n",
       "      <td>129587</td>\n",
       "      <td>14</td>\n",
       "      <td>11.0</td>\n",
       "      <td>2</td>\n",
       "      <td>290</td>\n",
       "      <td>2290</td>\n",
       "      <td>AK</td>\n",
       "      <td>Yukon-Koyukuk Census Area</td>\n",
       "      <td>...</td>\n",
       "      <td>NaN</td>\n",
       "      <td>NaN</td>\n",
       "      <td>AK</td>\n",
       "      <td>2290</td>\n",
       "      <td>1.2</td>\n",
       "      <td>0.926019</td>\n",
       "      <td>0.140927</td>\n",
       "      <td>0.000000</td>\n",
       "      <td>0.266471</td>\n",
       "      <td>0.148037</td>\n",
       "    </tr>\n",
       "    <tr>\n",
       "      <th>2524</th>\n",
       "      <td>Yuma County, AZ</td>\n",
       "      <td>4027</td>\n",
       "      <td>3964172</td>\n",
       "      <td>468</td>\n",
       "      <td>12.0</td>\n",
       "      <td>4</td>\n",
       "      <td>27</td>\n",
       "      <td>4027</td>\n",
       "      <td>AZ</td>\n",
       "      <td>Yuma County</td>\n",
       "      <td>...</td>\n",
       "      <td>NaN</td>\n",
       "      <td>NaN</td>\n",
       "      <td>AZ</td>\n",
       "      <td>4027</td>\n",
       "      <td>24.6</td>\n",
       "      <td>0.620558</td>\n",
       "      <td>0.004301</td>\n",
       "      <td>0.400386</td>\n",
       "      <td>0.007511</td>\n",
       "      <td>0.003906</td>\n",
       "    </tr>\n",
       "    <tr>\n",
       "      <th>2525</th>\n",
       "      <td>Zapata County, TX</td>\n",
       "      <td>48505</td>\n",
       "      <td>284033</td>\n",
       "      <td>16</td>\n",
       "      <td>6.0</td>\n",
       "      <td>48</td>\n",
       "      <td>505</td>\n",
       "      <td>48505</td>\n",
       "      <td>TX</td>\n",
       "      <td>Zapata County</td>\n",
       "      <td>...</td>\n",
       "      <td>NaN</td>\n",
       "      <td>NaN</td>\n",
       "      <td>TX</td>\n",
       "      <td>48505</td>\n",
       "      <td>3.8</td>\n",
       "      <td>1.337873</td>\n",
       "      <td>0.025864</td>\n",
       "      <td>0.000000</td>\n",
       "      <td>0.122009</td>\n",
       "      <td>0.051307</td>\n",
       "    </tr>\n",
       "    <tr>\n",
       "      <th>2526</th>\n",
       "      <td>Zavala County, TX</td>\n",
       "      <td>48507</td>\n",
       "      <td>247499</td>\n",
       "      <td>16</td>\n",
       "      <td>6.0</td>\n",
       "      <td>48</td>\n",
       "      <td>507</td>\n",
       "      <td>48507</td>\n",
       "      <td>TX</td>\n",
       "      <td>Zavala County</td>\n",
       "      <td>...</td>\n",
       "      <td>NaN</td>\n",
       "      <td>NaN</td>\n",
       "      <td>TX</td>\n",
       "      <td>48507</td>\n",
       "      <td>1.7</td>\n",
       "      <td>0.686871</td>\n",
       "      <td>0.044869</td>\n",
       "      <td>0.000000</td>\n",
       "      <td>0.141077</td>\n",
       "      <td>0.056018</td>\n",
       "    </tr>\n",
       "  </tbody>\n",
       "</table>\n",
       "<p>2527 rows × 547 columns</p>\n",
       "</div>"
      ],
      "text/plain": [
       "                             County  County Code  Population  Deaths  \\\n",
       "0              Abbeville County, SC        45001      535389      38   \n",
       "1                 Acadia Parish, LA        22001     1279727     237   \n",
       "2               Accomack County, VA        51001      726189      73   \n",
       "3                    Ada County, ID        16001     8083452     988   \n",
       "4                  Adair County, KY        21001      387950      43   \n",
       "...                             ...          ...         ...     ...   \n",
       "2522                Yuba County, CA         6115     1468094     153   \n",
       "2523  Yukon-Koyukuk Census Area, AK         2290      129587      14   \n",
       "2524                Yuma County, AZ         4027     3964172     468   \n",
       "2525              Zapata County, TX        48505      284033      16   \n",
       "2526              Zavala County, TX        48507      247499      16   \n",
       "\n",
       "      Norm_Deaths  State FIPS Code  County FIPS Code  5-digit FIPS Code  \\\n",
       "0             7.0               45                 1              45001   \n",
       "1            19.0               22                 1              22001   \n",
       "2            11.0               51                 1              51001   \n",
       "3            12.0               16                 1              16001   \n",
       "4            11.0               21                 1              21001   \n",
       "...           ...              ...               ...                ...   \n",
       "2522         11.0                6               115               6115   \n",
       "2523         11.0                2               290               2290   \n",
       "2524         12.0                4                27               4027   \n",
       "2525          6.0               48               505              48505   \n",
       "2526          6.0               48               507              48507   \n",
       "\n",
       "     State Abbreviation                       Name  ...  \\\n",
       "0                    SC           Abbeville County  ...   \n",
       "1                    LA              Acadia Parish  ...   \n",
       "2                    VA            Accomack County  ...   \n",
       "3                    ID                 Ada County  ...   \n",
       "4                    KY               Adair County  ...   \n",
       "...                 ...                        ...  ...   \n",
       "2522                 CA                Yuba County  ...   \n",
       "2523                 AK  Yukon-Koyukuk Census Area  ...   \n",
       "2524                 AZ                Yuma County  ...   \n",
       "2525                 TX              Zapata County  ...   \n",
       "2526                 TX              Zavala County  ...   \n",
       "\n",
       "      Total female population raw value  Population growth raw value  State  \\\n",
       "0                                   NaN                          NaN     SC   \n",
       "1                                   NaN                          NaN     LA   \n",
       "2                                   NaN                          NaN     VA   \n",
       "3                                   NaN                          NaN     ID   \n",
       "4                                   NaN                          NaN     KY   \n",
       "...                                 ...                          ...    ...   \n",
       "2522                                NaN                          NaN     CA   \n",
       "2523                                NaN                          NaN     AK   \n",
       "2524                                NaN                          NaN     AZ   \n",
       "2525                                NaN                          NaN     TX   \n",
       "2526                                NaN                          NaN     TX   \n",
       "\n",
       "       FIPS  Opiod_Dispensing_Rate   norm_OPR  Norm_Unemployment  \\\n",
       "0     45001                   32.4   6.051675           0.008560   \n",
       "1     22001                   32.2   2.516162           0.004617   \n",
       "2     51001                   19.4   2.671481           0.006640   \n",
       "3     16001                   60.8   0.752154           0.000344   \n",
       "4     21001                   71.3  18.378657           0.016322   \n",
       "...     ...                    ...        ...                ...   \n",
       "2522   6115                   32.1   2.186508           0.005071   \n",
       "2523   2290                    1.2   0.926019           0.140927   \n",
       "2524   4027                   24.6   0.620558           0.004301   \n",
       "2525  48505                    3.8   1.337873           0.025864   \n",
       "2526  48507                    1.7   0.686871           0.044869   \n",
       "\n",
       "      Norm_Drug_Overdose  Norm_insufficient_sleep  Norm_excessive_drinking  \n",
       "0               3.258113                 0.067397                 0.029146  \n",
       "1               1.081764                 0.025285                 0.014885  \n",
       "2               1.538371                 0.050607                 0.020851  \n",
       "3               0.169568                 0.003253                 0.002389  \n",
       "4               0.000000                 0.093850                 0.037489  \n",
       "...                  ...                      ...                      ...  \n",
       "2522            1.321477                 0.022990                 0.012725  \n",
       "2523            0.000000                 0.266471                 0.148037  \n",
       "2524            0.400386                 0.007511                 0.003906  \n",
       "2525            0.000000                 0.122009                 0.051307  \n",
       "2526            0.000000                 0.141077                 0.056018  \n",
       "\n",
       "[2527 rows x 547 columns]"
      ]
     },
     "execution_count": 27,
     "metadata": {},
     "output_type": "execute_result"
    }
   ],
   "source": [
    "nl_data = data.copy()\n",
    "nl_data"
   ]
  },
  {
   "cell_type": "markdown",
   "metadata": {},
   "source": [
    "Here I am creating specific columns ofr 5 variables by sqauring, cubing and quadrupaling the data which is required in the formula of stats.model."
   ]
  },
  {
   "cell_type": "code",
   "execution_count": 28,
   "metadata": {},
   "outputs": [],
   "source": [
    "nl_data[\"norm_OPR_2\"] = nl_data[\"norm_OPR\"]**2\n",
    "nl_data[\"norm_OPR_3\"] = nl_data[\"norm_OPR\"]**3\n",
    "nl_data[\"norm_OPR_4\"] = nl_data[\"norm_OPR\"]**4"
   ]
  },
  {
   "cell_type": "code",
   "execution_count": 29,
   "metadata": {},
   "outputs": [],
   "source": [
    "nl_data[\"Norm_Unemployment_2\"] = nl_data[\"Norm_Unemployment\"]**2\n",
    "nl_data[\"Norm_Unemployment_3\"] = nl_data[\"Norm_Unemployment\"]**3\n",
    "nl_data[\"Norm_Unemployment_4\"] = nl_data[\"Norm_Unemployment\"]**4"
   ]
  },
  {
   "cell_type": "code",
   "execution_count": 30,
   "metadata": {},
   "outputs": [],
   "source": [
    "nl_data[\"Norm_Drug_Overdose_2\"] = nl_data[\"Norm_Drug_Overdose\"]**2\n",
    "nl_data[\"Norm_Drug_Overdose_3\"] = nl_data[\"Norm_Drug_Overdose\"]**3\n",
    "nl_data[\"Norm_Drug_Overdose_4\"] = nl_data[\"Norm_Drug_Overdose\"]**4"
   ]
  },
  {
   "cell_type": "code",
   "execution_count": 31,
   "metadata": {},
   "outputs": [],
   "source": [
    "nl_data[\"Norm_insufficient_sleep_2\"] = nl_data[\"Norm_insufficient_sleep\"]**2\n",
    "nl_data[\"Norm_insufficient_sleep_3\"] = nl_data[\"Norm_insufficient_sleep\"]**3\n",
    "nl_data[\"Norm_insufficient_sleep_4\"] = nl_data[\"Norm_insufficient_sleep\"]**4"
   ]
  },
  {
   "cell_type": "code",
   "execution_count": 32,
   "metadata": {},
   "outputs": [],
   "source": [
    "nl_data[\"Norm_excessive_drinking_2\"] = nl_data[\"Norm_excessive_drinking\"]**2\n",
    "nl_data[\"Norm_excessive_drinking_3\"] = nl_data[\"Norm_excessive_drinking\"]**3\n",
    "nl_data[\"Norm_excessive_drinking_4\"] = nl_data[\"Norm_excessive_drinking\"]**4"
   ]
  },
  {
   "cell_type": "markdown",
   "metadata": {},
   "source": [
    "<b> Multivariable non-linear regression with polynomial degree = 2"
   ]
  },
  {
   "cell_type": "code",
   "execution_count": 33,
   "metadata": {},
   "outputs": [
    {
     "data": {
      "text/html": [
       "<table class=\"simpletable\">\n",
       "<caption>OLS Regression Results</caption>\n",
       "<tr>\n",
       "  <th>Dep. Variable:</th>       <td>Norm_Deaths</td>   <th>  R-squared:         </th> <td>   0.393</td> \n",
       "</tr>\n",
       "<tr>\n",
       "  <th>Model:</th>                   <td>OLS</td>       <th>  Adj. R-squared:    </th> <td>   0.391</td> \n",
       "</tr>\n",
       "<tr>\n",
       "  <th>Method:</th>             <td>Least Squares</td>  <th>  F-statistic:       </th> <td>   163.0</td> \n",
       "</tr>\n",
       "<tr>\n",
       "  <th>Date:</th>             <td>Mon, 21 Nov 2022</td> <th>  Prob (F-statistic):</th> <td>2.90e-264</td>\n",
       "</tr>\n",
       "<tr>\n",
       "  <th>Time:</th>                 <td>20:14:17</td>     <th>  Log-Likelihood:    </th> <td> -7786.1</td> \n",
       "</tr>\n",
       "<tr>\n",
       "  <th>No. Observations:</th>      <td>  2527</td>      <th>  AIC:               </th> <td>1.559e+04</td>\n",
       "</tr>\n",
       "<tr>\n",
       "  <th>Df Residuals:</th>          <td>  2516</td>      <th>  BIC:               </th> <td>1.566e+04</td>\n",
       "</tr>\n",
       "<tr>\n",
       "  <th>Df Model:</th>              <td>    10</td>      <th>                     </th>     <td> </td>    \n",
       "</tr>\n",
       "<tr>\n",
       "  <th>Covariance Type:</th>      <td>nonrobust</td>    <th>                     </th>     <td> </td>    \n",
       "</tr>\n",
       "</table>\n",
       "<table class=\"simpletable\">\n",
       "<tr>\n",
       "                    <td></td>                      <th>coef</th>     <th>std err</th>      <th>t</th>      <th>P>|t|</th>  <th>[0.025</th>    <th>0.975]</th>  \n",
       "</tr>\n",
       "<tr>\n",
       "  <th>Intercept</th>                            <td>   13.5484</td> <td>    0.201</td> <td>   67.336</td> <td> 0.000</td> <td>   13.154</td> <td>   13.943</td>\n",
       "</tr>\n",
       "<tr>\n",
       "  <th>nl_data[\"norm_OPR\"]</th>                  <td>    0.0748</td> <td>    0.014</td> <td>    5.288</td> <td> 0.000</td> <td>    0.047</td> <td>    0.102</td>\n",
       "</tr>\n",
       "<tr>\n",
       "  <th>nl_data[\"norm_OPR_2\"]</th>                <td>   -0.0001</td> <td> 2.36e-05</td> <td>   -5.609</td> <td> 0.000</td> <td>   -0.000</td> <td>-8.62e-05</td>\n",
       "</tr>\n",
       "<tr>\n",
       "  <th>nl_data[\"Norm_Unemployment\"]</th>         <td>  268.3829</td> <td>   45.959</td> <td>    5.840</td> <td> 0.000</td> <td>  178.261</td> <td>  358.504</td>\n",
       "</tr>\n",
       "<tr>\n",
       "  <th>nl_data[\"Norm_Unemployment_2\"]</th>       <td>-1964.5073</td> <td>  435.762</td> <td>   -4.508</td> <td> 0.000</td> <td>-2818.997</td> <td>-1110.018</td>\n",
       "</tr>\n",
       "<tr>\n",
       "  <th>nl_data[\"Norm_Drug_Overdose\"]</th>        <td>    1.5727</td> <td>    0.059</td> <td>   26.849</td> <td> 0.000</td> <td>    1.458</td> <td>    1.688</td>\n",
       "</tr>\n",
       "<tr>\n",
       "  <th>nl_data[\"Norm_Drug_Overdose_2\"]</th>      <td>   -0.0300</td> <td>    0.002</td> <td>  -12.266</td> <td> 0.000</td> <td>   -0.035</td> <td>   -0.025</td>\n",
       "</tr>\n",
       "<tr>\n",
       "  <th>nl_data[\"Norm_insufficient_sleep\"]</th>   <td>  -41.0805</td> <td>   13.497</td> <td>   -3.044</td> <td> 0.002</td> <td>  -67.547</td> <td>  -14.614</td>\n",
       "</tr>\n",
       "<tr>\n",
       "  <th>nl_data[\"Norm_insufficient_sleep_2\"]</th> <td>  165.5335</td> <td>   34.301</td> <td>    4.826</td> <td> 0.000</td> <td>   98.273</td> <td>  232.794</td>\n",
       "</tr>\n",
       "<tr>\n",
       "  <th>nl_data[\"Norm_excessive_drinking\"]</th>   <td> -215.1610</td> <td>   21.476</td> <td>  -10.019</td> <td> 0.000</td> <td> -257.274</td> <td> -173.048</td>\n",
       "</tr>\n",
       "<tr>\n",
       "  <th>nl_data[\"Norm_excessive_drinking_2\"]</th> <td>  870.1814</td> <td>  116.636</td> <td>    7.461</td> <td> 0.000</td> <td>  641.469</td> <td> 1098.894</td>\n",
       "</tr>\n",
       "</table>\n",
       "<table class=\"simpletable\">\n",
       "<tr>\n",
       "  <th>Omnibus:</th>       <td>650.626</td> <th>  Durbin-Watson:     </th> <td>   1.992</td>\n",
       "</tr>\n",
       "<tr>\n",
       "  <th>Prob(Omnibus):</th> <td> 0.000</td>  <th>  Jarque-Bera (JB):  </th> <td>2782.188</td>\n",
       "</tr>\n",
       "<tr>\n",
       "  <th>Skew:</th>          <td> 1.185</td>  <th>  Prob(JB):          </th> <td>    0.00</td>\n",
       "</tr>\n",
       "<tr>\n",
       "  <th>Kurtosis:</th>      <td> 7.561</td>  <th>  Cond. No.          </th> <td>3.95e+07</td>\n",
       "</tr>\n",
       "</table><br/><br/>Notes:<br/>[1] Standard Errors assume that the covariance matrix of the errors is correctly specified.<br/>[2] The condition number is large, 3.95e+07. This might indicate that there are<br/>strong multicollinearity or other numerical problems."
      ],
      "text/plain": [
       "<class 'statsmodels.iolib.summary.Summary'>\n",
       "\"\"\"\n",
       "                            OLS Regression Results                            \n",
       "==============================================================================\n",
       "Dep. Variable:            Norm_Deaths   R-squared:                       0.393\n",
       "Model:                            OLS   Adj. R-squared:                  0.391\n",
       "Method:                 Least Squares   F-statistic:                     163.0\n",
       "Date:                Mon, 21 Nov 2022   Prob (F-statistic):          2.90e-264\n",
       "Time:                        20:14:17   Log-Likelihood:                -7786.1\n",
       "No. Observations:                2527   AIC:                         1.559e+04\n",
       "Df Residuals:                    2516   BIC:                         1.566e+04\n",
       "Df Model:                          10                                         \n",
       "Covariance Type:            nonrobust                                         \n",
       "========================================================================================================\n",
       "                                           coef    std err          t      P>|t|      [0.025      0.975]\n",
       "--------------------------------------------------------------------------------------------------------\n",
       "Intercept                               13.5484      0.201     67.336      0.000      13.154      13.943\n",
       "nl_data[\"norm_OPR\"]                      0.0748      0.014      5.288      0.000       0.047       0.102\n",
       "nl_data[\"norm_OPR_2\"]                   -0.0001   2.36e-05     -5.609      0.000      -0.000   -8.62e-05\n",
       "nl_data[\"Norm_Unemployment\"]           268.3829     45.959      5.840      0.000     178.261     358.504\n",
       "nl_data[\"Norm_Unemployment_2\"]       -1964.5073    435.762     -4.508      0.000   -2818.997   -1110.018\n",
       "nl_data[\"Norm_Drug_Overdose\"]            1.5727      0.059     26.849      0.000       1.458       1.688\n",
       "nl_data[\"Norm_Drug_Overdose_2\"]         -0.0300      0.002    -12.266      0.000      -0.035      -0.025\n",
       "nl_data[\"Norm_insufficient_sleep\"]     -41.0805     13.497     -3.044      0.002     -67.547     -14.614\n",
       "nl_data[\"Norm_insufficient_sleep_2\"]   165.5335     34.301      4.826      0.000      98.273     232.794\n",
       "nl_data[\"Norm_excessive_drinking\"]    -215.1610     21.476    -10.019      0.000    -257.274    -173.048\n",
       "nl_data[\"Norm_excessive_drinking_2\"]   870.1814    116.636      7.461      0.000     641.469    1098.894\n",
       "==============================================================================\n",
       "Omnibus:                      650.626   Durbin-Watson:                   1.992\n",
       "Prob(Omnibus):                  0.000   Jarque-Bera (JB):             2782.188\n",
       "Skew:                           1.185   Prob(JB):                         0.00\n",
       "Kurtosis:                       7.561   Cond. No.                     3.95e+07\n",
       "==============================================================================\n",
       "\n",
       "Notes:\n",
       "[1] Standard Errors assume that the covariance matrix of the errors is correctly specified.\n",
       "[2] The condition number is large, 3.95e+07. This might indicate that there are\n",
       "strong multicollinearity or other numerical problems.\n",
       "\"\"\""
      ]
     },
     "execution_count": 33,
     "metadata": {},
     "output_type": "execute_result"
    }
   ],
   "source": [
    "# for polynomial degree = 2\n",
    "lm2 = smf.ols(formula='Norm_Deaths ~ 1 + nl_data[\"norm_OPR\"] + nl_data[\"norm_OPR_2\"] + 1 + nl_data[\"Norm_Unemployment\"] + nl_data[\"Norm_Unemployment_2\"] + 1 + nl_data[\"Norm_Drug_Overdose\"] + nl_data[\"Norm_Drug_Overdose_2\"] + 1 + nl_data[\"Norm_insufficient_sleep\"] + nl_data[\"Norm_insufficient_sleep_2\"] + 1 + nl_data[\"Norm_excessive_drinking\"] + nl_data[\"Norm_excessive_drinking_2\"]', data=nl_data).fit()\n",
    "lm2.summary()"
   ]
  },
  {
   "cell_type": "markdown",
   "metadata": {},
   "source": [
    "- The r-square value for the model with polynomial degree = 2 is 0.393. It is a good fit but not the best fit.\n",
    "- The p-value here have significant values for every variable and we can reject the null-hypothesis for each of them. Also we can determine that significant relationship exists between 5 variables and `Norm_Deaths`."
   ]
  },
  {
   "cell_type": "markdown",
   "metadata": {},
   "source": [
    "<b>Multivariable non-linear regression with polynomial degree = 3\n",
    "\n"
   ]
  },
  {
   "cell_type": "code",
   "execution_count": 34,
   "metadata": {},
   "outputs": [
    {
     "data": {
      "text/html": [
       "<table class=\"simpletable\">\n",
       "<caption>OLS Regression Results</caption>\n",
       "<tr>\n",
       "  <th>Dep. Variable:</th>       <td>Norm_Deaths</td>   <th>  R-squared:         </th> <td>   0.450</td> \n",
       "</tr>\n",
       "<tr>\n",
       "  <th>Model:</th>                   <td>OLS</td>       <th>  Adj. R-squared:    </th> <td>   0.446</td> \n",
       "</tr>\n",
       "<tr>\n",
       "  <th>Method:</th>             <td>Least Squares</td>  <th>  F-statistic:       </th> <td>   136.8</td> \n",
       "</tr>\n",
       "<tr>\n",
       "  <th>Date:</th>             <td>Mon, 21 Nov 2022</td> <th>  Prob (F-statistic):</th> <td>8.20e-312</td>\n",
       "</tr>\n",
       "<tr>\n",
       "  <th>Time:</th>                 <td>20:14:17</td>     <th>  Log-Likelihood:    </th> <td> -7662.6</td> \n",
       "</tr>\n",
       "<tr>\n",
       "  <th>No. Observations:</th>      <td>  2527</td>      <th>  AIC:               </th> <td>1.536e+04</td>\n",
       "</tr>\n",
       "<tr>\n",
       "  <th>Df Residuals:</th>          <td>  2511</td>      <th>  BIC:               </th> <td>1.545e+04</td>\n",
       "</tr>\n",
       "<tr>\n",
       "  <th>Df Model:</th>              <td>    15</td>      <th>                     </th>     <td> </td>    \n",
       "</tr>\n",
       "<tr>\n",
       "  <th>Covariance Type:</th>      <td>nonrobust</td>    <th>                     </th>     <td> </td>    \n",
       "</tr>\n",
       "</table>\n",
       "<table class=\"simpletable\">\n",
       "<tr>\n",
       "                    <td></td>                      <th>coef</th>     <th>std err</th>      <th>t</th>      <th>P>|t|</th>  <th>[0.025</th>    <th>0.975]</th>  \n",
       "</tr>\n",
       "<tr>\n",
       "  <th>Intercept</th>                            <td>   14.5038</td> <td>    0.228</td> <td>   63.723</td> <td> 0.000</td> <td>   14.057</td> <td>   14.950</td>\n",
       "</tr>\n",
       "<tr>\n",
       "  <th>nl_data[\"norm_OPR\"]</th>                  <td>    0.1266</td> <td>    0.021</td> <td>    5.972</td> <td> 0.000</td> <td>    0.085</td> <td>    0.168</td>\n",
       "</tr>\n",
       "<tr>\n",
       "  <th>nl_data[\"norm_OPR_2\"]</th>                <td>   -0.0009</td> <td>    0.000</td> <td>   -3.918</td> <td> 0.000</td> <td>   -0.001</td> <td>   -0.000</td>\n",
       "</tr>\n",
       "<tr>\n",
       "  <th>nl_data[\"norm_OPR_3\"]</th>                <td> 1.024e-06</td> <td> 2.92e-07</td> <td>    3.511</td> <td> 0.000</td> <td> 4.52e-07</td> <td>  1.6e-06</td>\n",
       "</tr>\n",
       "<tr>\n",
       "  <th>nl_data[\"Norm_Unemployment\"]</th>         <td>  286.2091</td> <td>   79.659</td> <td>    3.593</td> <td> 0.000</td> <td>  130.005</td> <td>  442.413</td>\n",
       "</tr>\n",
       "<tr>\n",
       "  <th>nl_data[\"Norm_Unemployment_2\"]</th>       <td>-2588.2020</td> <td> 1745.409</td> <td>   -1.483</td> <td> 0.138</td> <td>-6010.790</td> <td>  834.386</td>\n",
       "</tr>\n",
       "<tr>\n",
       "  <th>nl_data[\"Norm_Unemployment_3\"]</th>       <td> 6789.2953</td> <td> 9721.115</td> <td>    0.698</td> <td> 0.485</td> <td>-1.23e+04</td> <td> 2.59e+04</td>\n",
       "</tr>\n",
       "<tr>\n",
       "  <th>nl_data[\"Norm_Drug_Overdose\"]</th>        <td>    2.3542</td> <td>    0.099</td> <td>   23.785</td> <td> 0.000</td> <td>    2.160</td> <td>    2.548</td>\n",
       "</tr>\n",
       "<tr>\n",
       "  <th>nl_data[\"Norm_Drug_Overdose_2\"]</th>      <td>   -0.1079</td> <td>    0.010</td> <td>  -11.254</td> <td> 0.000</td> <td>   -0.127</td> <td>   -0.089</td>\n",
       "</tr>\n",
       "<tr>\n",
       "  <th>nl_data[\"Norm_Drug_Overdose_3\"]</th>      <td>    0.0014</td> <td>    0.000</td> <td>    7.742</td> <td> 0.000</td> <td>    0.001</td> <td>    0.002</td>\n",
       "</tr>\n",
       "<tr>\n",
       "  <th>nl_data[\"Norm_insufficient_sleep\"]</th>   <td>  -39.8913</td> <td>   23.775</td> <td>   -1.678</td> <td> 0.094</td> <td>  -86.513</td> <td>    6.730</td>\n",
       "</tr>\n",
       "<tr>\n",
       "  <th>nl_data[\"Norm_insufficient_sleep_2\"]</th> <td>  315.3822</td> <td>  129.883</td> <td>    2.428</td> <td> 0.015</td> <td>   60.693</td> <td>  570.071</td>\n",
       "</tr>\n",
       "<tr>\n",
       "  <th>nl_data[\"Norm_insufficient_sleep_3\"]</th> <td> -485.9844</td> <td>  226.537</td> <td>   -2.145</td> <td> 0.032</td> <td> -930.202</td> <td>  -41.767</td>\n",
       "</tr>\n",
       "<tr>\n",
       "  <th>nl_data[\"Norm_excessive_drinking\"]</th>   <td> -413.2678</td> <td>   35.901</td> <td>  -11.511</td> <td> 0.000</td> <td> -483.666</td> <td> -342.869</td>\n",
       "</tr>\n",
       "<tr>\n",
       "  <th>nl_data[\"Norm_excessive_drinking_2\"]</th> <td> 3707.9427</td> <td>  398.737</td> <td>    9.299</td> <td> 0.000</td> <td> 2926.056</td> <td> 4489.829</td>\n",
       "</tr>\n",
       "<tr>\n",
       "  <th>nl_data[\"Norm_excessive_drinking_3\"]</th> <td>-9604.9622</td> <td> 1283.525</td> <td>   -7.483</td> <td> 0.000</td> <td>-1.21e+04</td> <td>-7088.086</td>\n",
       "</tr>\n",
       "</table>\n",
       "<table class=\"simpletable\">\n",
       "<tr>\n",
       "  <th>Omnibus:</th>       <td>726.900</td> <th>  Durbin-Watson:     </th> <td>   1.975</td>\n",
       "</tr>\n",
       "<tr>\n",
       "  <th>Prob(Omnibus):</th> <td> 0.000</td>  <th>  Jarque-Bera (JB):  </th> <td>3515.959</td>\n",
       "</tr>\n",
       "<tr>\n",
       "  <th>Skew:</th>          <td> 1.292</td>  <th>  Prob(JB):          </th> <td>    0.00</td>\n",
       "</tr>\n",
       "<tr>\n",
       "  <th>Kurtosis:</th>      <td> 8.169</td>  <th>  Cond. No.          </th> <td>6.38e+11</td>\n",
       "</tr>\n",
       "</table><br/><br/>Notes:<br/>[1] Standard Errors assume that the covariance matrix of the errors is correctly specified.<br/>[2] The condition number is large, 6.38e+11. This might indicate that there are<br/>strong multicollinearity or other numerical problems."
      ],
      "text/plain": [
       "<class 'statsmodels.iolib.summary.Summary'>\n",
       "\"\"\"\n",
       "                            OLS Regression Results                            \n",
       "==============================================================================\n",
       "Dep. Variable:            Norm_Deaths   R-squared:                       0.450\n",
       "Model:                            OLS   Adj. R-squared:                  0.446\n",
       "Method:                 Least Squares   F-statistic:                     136.8\n",
       "Date:                Mon, 21 Nov 2022   Prob (F-statistic):          8.20e-312\n",
       "Time:                        20:14:17   Log-Likelihood:                -7662.6\n",
       "No. Observations:                2527   AIC:                         1.536e+04\n",
       "Df Residuals:                    2511   BIC:                         1.545e+04\n",
       "Df Model:                          15                                         \n",
       "Covariance Type:            nonrobust                                         \n",
       "========================================================================================================\n",
       "                                           coef    std err          t      P>|t|      [0.025      0.975]\n",
       "--------------------------------------------------------------------------------------------------------\n",
       "Intercept                               14.5038      0.228     63.723      0.000      14.057      14.950\n",
       "nl_data[\"norm_OPR\"]                      0.1266      0.021      5.972      0.000       0.085       0.168\n",
       "nl_data[\"norm_OPR_2\"]                   -0.0009      0.000     -3.918      0.000      -0.001      -0.000\n",
       "nl_data[\"norm_OPR_3\"]                 1.024e-06   2.92e-07      3.511      0.000    4.52e-07     1.6e-06\n",
       "nl_data[\"Norm_Unemployment\"]           286.2091     79.659      3.593      0.000     130.005     442.413\n",
       "nl_data[\"Norm_Unemployment_2\"]       -2588.2020   1745.409     -1.483      0.138   -6010.790     834.386\n",
       "nl_data[\"Norm_Unemployment_3\"]        6789.2953   9721.115      0.698      0.485   -1.23e+04    2.59e+04\n",
       "nl_data[\"Norm_Drug_Overdose\"]            2.3542      0.099     23.785      0.000       2.160       2.548\n",
       "nl_data[\"Norm_Drug_Overdose_2\"]         -0.1079      0.010    -11.254      0.000      -0.127      -0.089\n",
       "nl_data[\"Norm_Drug_Overdose_3\"]          0.0014      0.000      7.742      0.000       0.001       0.002\n",
       "nl_data[\"Norm_insufficient_sleep\"]     -39.8913     23.775     -1.678      0.094     -86.513       6.730\n",
       "nl_data[\"Norm_insufficient_sleep_2\"]   315.3822    129.883      2.428      0.015      60.693     570.071\n",
       "nl_data[\"Norm_insufficient_sleep_3\"]  -485.9844    226.537     -2.145      0.032    -930.202     -41.767\n",
       "nl_data[\"Norm_excessive_drinking\"]    -413.2678     35.901    -11.511      0.000    -483.666    -342.869\n",
       "nl_data[\"Norm_excessive_drinking_2\"]  3707.9427    398.737      9.299      0.000    2926.056    4489.829\n",
       "nl_data[\"Norm_excessive_drinking_3\"] -9604.9622   1283.525     -7.483      0.000   -1.21e+04   -7088.086\n",
       "==============================================================================\n",
       "Omnibus:                      726.900   Durbin-Watson:                   1.975\n",
       "Prob(Omnibus):                  0.000   Jarque-Bera (JB):             3515.959\n",
       "Skew:                           1.292   Prob(JB):                         0.00\n",
       "Kurtosis:                       8.169   Cond. No.                     6.38e+11\n",
       "==============================================================================\n",
       "\n",
       "Notes:\n",
       "[1] Standard Errors assume that the covariance matrix of the errors is correctly specified.\n",
       "[2] The condition number is large, 6.38e+11. This might indicate that there are\n",
       "strong multicollinearity or other numerical problems.\n",
       "\"\"\""
      ]
     },
     "execution_count": 34,
     "metadata": {},
     "output_type": "execute_result"
    }
   ],
   "source": [
    "# for polynomial degree = 3\n",
    "lm3 = smf.ols(formula='Norm_Deaths ~ 1 + nl_data[\"norm_OPR\"] + nl_data[\"norm_OPR_2\"] + nl_data[\"norm_OPR_3\"] + 1 + nl_data[\"Norm_Unemployment\"] + nl_data[\"Norm_Unemployment_2\"] + nl_data[\"Norm_Unemployment_3\"] + 1 + nl_data[\"Norm_Drug_Overdose\"] + nl_data[\"Norm_Drug_Overdose_2\"] + nl_data[\"Norm_Drug_Overdose_3\"] + 1 + nl_data[\"Norm_insufficient_sleep\"] + nl_data[\"Norm_insufficient_sleep_2\"] + nl_data[\"Norm_insufficient_sleep_3\"] + 1 + nl_data[\"Norm_excessive_drinking\"] + nl_data[\"Norm_excessive_drinking_2\"] + nl_data[\"Norm_excessive_drinking_3\"]', data=nl_data).fit()\n",
    "lm3.summary()"
   ]
  },
  {
   "cell_type": "markdown",
   "metadata": {},
   "source": [
    "The r-square value for the model with polynomial degree = 3 is 0.450. It is a better fit than degree = 2.\n",
    "- The p-value here have significant values for every variable except Norm_insufficient_sleep and we can reject the null-hypothesis for them. Also we can determine that significant relationship exists between 4 variables and Norm_Deaths.\n",
    "- For Norm_insufficient_sleep we cannot reject null hypothesis."
   ]
  },
  {
   "cell_type": "markdown",
   "metadata": {},
   "source": [
    "<b>Multivariable non-linear regression with polynomial degree = 4"
   ]
  },
  {
   "cell_type": "code",
   "execution_count": 35,
   "metadata": {},
   "outputs": [
    {
     "data": {
      "text/html": [
       "<table class=\"simpletable\">\n",
       "<caption>OLS Regression Results</caption>\n",
       "<tr>\n",
       "  <th>Dep. Variable:</th>       <td>Norm_Deaths</td>   <th>  R-squared:         </th> <td>   0.470</td> \n",
       "</tr>\n",
       "<tr>\n",
       "  <th>Model:</th>                   <td>OLS</td>       <th>  Adj. R-squared:    </th> <td>   0.467</td> \n",
       "</tr>\n",
       "<tr>\n",
       "  <th>Method:</th>             <td>Least Squares</td>  <th>  F-statistic:       </th> <td>   131.0</td> \n",
       "</tr>\n",
       "<tr>\n",
       "  <th>Date:</th>             <td>Mon, 21 Nov 2022</td> <th>  Prob (F-statistic):</th>  <td>  0.00</td>  \n",
       "</tr>\n",
       "<tr>\n",
       "  <th>Time:</th>                 <td>20:14:17</td>     <th>  Log-Likelihood:    </th> <td> -7614.7</td> \n",
       "</tr>\n",
       "<tr>\n",
       "  <th>No. Observations:</th>      <td>  2527</td>      <th>  AIC:               </th> <td>1.527e+04</td>\n",
       "</tr>\n",
       "<tr>\n",
       "  <th>Df Residuals:</th>          <td>  2509</td>      <th>  BIC:               </th> <td>1.537e+04</td>\n",
       "</tr>\n",
       "<tr>\n",
       "  <th>Df Model:</th>              <td>    17</td>      <th>                     </th>     <td> </td>    \n",
       "</tr>\n",
       "<tr>\n",
       "  <th>Covariance Type:</th>      <td>nonrobust</td>    <th>                     </th>     <td> </td>    \n",
       "</tr>\n",
       "</table>\n",
       "<table class=\"simpletable\">\n",
       "<tr>\n",
       "                    <td></td>                      <th>coef</th>     <th>std err</th>      <th>t</th>      <th>P>|t|</th>  <th>[0.025</th>    <th>0.975]</th>  \n",
       "</tr>\n",
       "<tr>\n",
       "  <th>Intercept</th>                            <td>   15.3513</td> <td>    0.259</td> <td>   59.184</td> <td> 0.000</td> <td>   14.843</td> <td>   15.860</td>\n",
       "</tr>\n",
       "<tr>\n",
       "  <th>nl_data[\"norm_OPR\"]</th>                  <td>    0.1816</td> <td>    0.035</td> <td>    5.248</td> <td> 0.000</td> <td>    0.114</td> <td>    0.249</td>\n",
       "</tr>\n",
       "<tr>\n",
       "  <th>nl_data[\"norm_OPR_2\"]</th>                <td>   -0.0026</td> <td>    0.001</td> <td>   -2.934</td> <td> 0.003</td> <td>   -0.004</td> <td>   -0.001</td>\n",
       "</tr>\n",
       "<tr>\n",
       "  <th>nl_data[\"norm_OPR_3\"]</th>                <td> 1.148e-05</td> <td> 4.99e-06</td> <td>    2.299</td> <td> 0.022</td> <td> 1.69e-06</td> <td> 2.13e-05</td>\n",
       "</tr>\n",
       "<tr>\n",
       "  <th>nl_data[\"norm_OPR_4\"]</th>                <td>-1.177e-08</td> <td> 5.53e-09</td> <td>   -2.128</td> <td> 0.033</td> <td>-2.26e-08</td> <td>-9.23e-10</td>\n",
       "</tr>\n",
       "<tr>\n",
       "  <th>nl_data[\"Norm_Unemployment\"]</th>         <td>  269.3086</td> <td>   78.051</td> <td>    3.450</td> <td> 0.001</td> <td>  116.257</td> <td>  422.360</td>\n",
       "</tr>\n",
       "<tr>\n",
       "  <th>nl_data[\"Norm_Unemployment_2\"]</th>       <td>-2654.5118</td> <td> 1692.907</td> <td>   -1.568</td> <td> 0.117</td> <td>-5974.151</td> <td>  665.127</td>\n",
       "</tr>\n",
       "<tr>\n",
       "  <th>nl_data[\"Norm_Unemployment_3\"]</th>       <td> 8380.2460</td> <td> 9083.516</td> <td>    0.923</td> <td> 0.356</td> <td>-9431.711</td> <td> 2.62e+04</td>\n",
       "</tr>\n",
       "<tr>\n",
       "  <th>nl_data[\"Norm_Unemployment_4\"]</th>       <td> 1001.0178</td> <td> 2188.646</td> <td>    0.457</td> <td> 0.647</td> <td>-3290.720</td> <td> 5292.755</td>\n",
       "</tr>\n",
       "<tr>\n",
       "  <th>nl_data[\"Norm_Drug_Overdose\"]</th>        <td>    2.7502</td> <td>    0.152</td> <td>   18.140</td> <td> 0.000</td> <td>    2.453</td> <td>    3.047</td>\n",
       "</tr>\n",
       "<tr>\n",
       "  <th>nl_data[\"Norm_Drug_Overdose_2\"]</th>      <td>   -0.1669</td> <td>    0.025</td> <td>   -6.727</td> <td> 0.000</td> <td>   -0.216</td> <td>   -0.118</td>\n",
       "</tr>\n",
       "<tr>\n",
       "  <th>nl_data[\"Norm_Drug_Overdose_3\"]</th>      <td>    0.0039</td> <td>    0.001</td> <td>    3.312</td> <td> 0.001</td> <td>    0.002</td> <td>    0.006</td>\n",
       "</tr>\n",
       "<tr>\n",
       "  <th>nl_data[\"Norm_Drug_Overdose_4\"]</th>      <td>-3.042e-05</td> <td> 1.56e-05</td> <td>   -1.946</td> <td> 0.052</td> <td>-6.11e-05</td> <td> 2.34e-07</td>\n",
       "</tr>\n",
       "<tr>\n",
       "  <th>nl_data[\"Norm_insufficient_sleep\"]</th>   <td>   41.9059</td> <td>   34.878</td> <td>    1.202</td> <td> 0.230</td> <td>  -26.486</td> <td>  110.298</td>\n",
       "</tr>\n",
       "<tr>\n",
       "  <th>nl_data[\"Norm_insufficient_sleep_2\"]</th> <td> -279.7894</td> <td>  332.674</td> <td>   -0.841</td> <td> 0.400</td> <td> -932.133</td> <td>  372.554</td>\n",
       "</tr>\n",
       "<tr>\n",
       "  <th>nl_data[\"Norm_insufficient_sleep_3\"]</th> <td>  908.8622</td> <td> 1307.187</td> <td>    0.695</td> <td> 0.487</td> <td>-1654.414</td> <td> 3472.138</td>\n",
       "</tr>\n",
       "<tr>\n",
       "  <th>nl_data[\"Norm_insufficient_sleep_4\"]</th> <td> -740.8720</td> <td> 1712.888</td> <td>   -0.433</td> <td> 0.665</td> <td>-4099.691</td> <td> 2617.947</td>\n",
       "</tr>\n",
       "<tr>\n",
       "  <th>nl_data[\"Norm_excessive_drinking\"]</th>   <td> -753.4445</td> <td>   58.667</td> <td>  -12.843</td> <td> 0.000</td> <td> -868.486</td> <td> -638.403</td>\n",
       "</tr>\n",
       "<tr>\n",
       "  <th>nl_data[\"Norm_excessive_drinking_2\"]</th> <td> 1.107e+04</td> <td> 1043.102</td> <td>   10.617</td> <td> 0.000</td> <td> 9029.367</td> <td> 1.31e+04</td>\n",
       "</tr>\n",
       "<tr>\n",
       "  <th>nl_data[\"Norm_excessive_drinking_3\"]</th> <td>-6.248e+04</td> <td> 6956.518</td> <td>   -8.982</td> <td> 0.000</td> <td>-7.61e+04</td> <td>-4.88e+04</td>\n",
       "</tr>\n",
       "<tr>\n",
       "  <th>nl_data[\"Norm_excessive_drinking_4\"]</th> <td> 1.145e+05</td> <td>  1.5e+04</td> <td>    7.639</td> <td> 0.000</td> <td> 8.51e+04</td> <td> 1.44e+05</td>\n",
       "</tr>\n",
       "</table>\n",
       "<table class=\"simpletable\">\n",
       "<tr>\n",
       "  <th>Omnibus:</th>       <td>720.633</td> <th>  Durbin-Watson:     </th> <td>   1.991</td>\n",
       "</tr>\n",
       "<tr>\n",
       "  <th>Prob(Omnibus):</th> <td> 0.000</td>  <th>  Jarque-Bera (JB):  </th> <td>3848.954</td>\n",
       "</tr>\n",
       "<tr>\n",
       "  <th>Skew:</th>          <td> 1.247</td>  <th>  Prob(JB):          </th> <td>    0.00</td>\n",
       "</tr>\n",
       "<tr>\n",
       "  <th>Kurtosis:</th>      <td> 8.508</td>  <th>  Cond. No.          </th> <td>1.34e+16</td>\n",
       "</tr>\n",
       "</table><br/><br/>Notes:<br/>[1] Standard Errors assume that the covariance matrix of the errors is correctly specified.<br/>[2] The condition number is large, 1.34e+16. This might indicate that there are<br/>strong multicollinearity or other numerical problems."
      ],
      "text/plain": [
       "<class 'statsmodels.iolib.summary.Summary'>\n",
       "\"\"\"\n",
       "                            OLS Regression Results                            \n",
       "==============================================================================\n",
       "Dep. Variable:            Norm_Deaths   R-squared:                       0.470\n",
       "Model:                            OLS   Adj. R-squared:                  0.467\n",
       "Method:                 Least Squares   F-statistic:                     131.0\n",
       "Date:                Mon, 21 Nov 2022   Prob (F-statistic):               0.00\n",
       "Time:                        20:14:17   Log-Likelihood:                -7614.7\n",
       "No. Observations:                2527   AIC:                         1.527e+04\n",
       "Df Residuals:                    2509   BIC:                         1.537e+04\n",
       "Df Model:                          17                                         \n",
       "Covariance Type:            nonrobust                                         \n",
       "========================================================================================================\n",
       "                                           coef    std err          t      P>|t|      [0.025      0.975]\n",
       "--------------------------------------------------------------------------------------------------------\n",
       "Intercept                               15.3513      0.259     59.184      0.000      14.843      15.860\n",
       "nl_data[\"norm_OPR\"]                      0.1816      0.035      5.248      0.000       0.114       0.249\n",
       "nl_data[\"norm_OPR_2\"]                   -0.0026      0.001     -2.934      0.003      -0.004      -0.001\n",
       "nl_data[\"norm_OPR_3\"]                 1.148e-05   4.99e-06      2.299      0.022    1.69e-06    2.13e-05\n",
       "nl_data[\"norm_OPR_4\"]                -1.177e-08   5.53e-09     -2.128      0.033   -2.26e-08   -9.23e-10\n",
       "nl_data[\"Norm_Unemployment\"]           269.3086     78.051      3.450      0.001     116.257     422.360\n",
       "nl_data[\"Norm_Unemployment_2\"]       -2654.5118   1692.907     -1.568      0.117   -5974.151     665.127\n",
       "nl_data[\"Norm_Unemployment_3\"]        8380.2460   9083.516      0.923      0.356   -9431.711    2.62e+04\n",
       "nl_data[\"Norm_Unemployment_4\"]        1001.0178   2188.646      0.457      0.647   -3290.720    5292.755\n",
       "nl_data[\"Norm_Drug_Overdose\"]            2.7502      0.152     18.140      0.000       2.453       3.047\n",
       "nl_data[\"Norm_Drug_Overdose_2\"]         -0.1669      0.025     -6.727      0.000      -0.216      -0.118\n",
       "nl_data[\"Norm_Drug_Overdose_3\"]          0.0039      0.001      3.312      0.001       0.002       0.006\n",
       "nl_data[\"Norm_Drug_Overdose_4\"]      -3.042e-05   1.56e-05     -1.946      0.052   -6.11e-05    2.34e-07\n",
       "nl_data[\"Norm_insufficient_sleep\"]      41.9059     34.878      1.202      0.230     -26.486     110.298\n",
       "nl_data[\"Norm_insufficient_sleep_2\"]  -279.7894    332.674     -0.841      0.400    -932.133     372.554\n",
       "nl_data[\"Norm_insufficient_sleep_3\"]   908.8622   1307.187      0.695      0.487   -1654.414    3472.138\n",
       "nl_data[\"Norm_insufficient_sleep_4\"]  -740.8720   1712.888     -0.433      0.665   -4099.691    2617.947\n",
       "nl_data[\"Norm_excessive_drinking\"]    -753.4445     58.667    -12.843      0.000    -868.486    -638.403\n",
       "nl_data[\"Norm_excessive_drinking_2\"]  1.107e+04   1043.102     10.617      0.000    9029.367    1.31e+04\n",
       "nl_data[\"Norm_excessive_drinking_3\"] -6.248e+04   6956.518     -8.982      0.000   -7.61e+04   -4.88e+04\n",
       "nl_data[\"Norm_excessive_drinking_4\"]  1.145e+05    1.5e+04      7.639      0.000    8.51e+04    1.44e+05\n",
       "==============================================================================\n",
       "Omnibus:                      720.633   Durbin-Watson:                   1.991\n",
       "Prob(Omnibus):                  0.000   Jarque-Bera (JB):             3848.954\n",
       "Skew:                           1.247   Prob(JB):                         0.00\n",
       "Kurtosis:                       8.508   Cond. No.                     1.34e+16\n",
       "==============================================================================\n",
       "\n",
       "Notes:\n",
       "[1] Standard Errors assume that the covariance matrix of the errors is correctly specified.\n",
       "[2] The condition number is large, 1.34e+16. This might indicate that there are\n",
       "strong multicollinearity or other numerical problems.\n",
       "\"\"\""
      ]
     },
     "execution_count": 35,
     "metadata": {},
     "output_type": "execute_result"
    }
   ],
   "source": [
    "# for polynomial degree = 4\n",
    "lm4 = smf.ols(formula='Norm_Deaths ~ 1 + nl_data[\"norm_OPR\"] + nl_data[\"norm_OPR_2\"] + nl_data[\"norm_OPR_3\"] + nl_data[\"norm_OPR_4\"] + 1 + nl_data[\"Norm_Unemployment\"] + nl_data[\"Norm_Unemployment_2\"] + nl_data[\"Norm_Unemployment_3\"] + nl_data[\"Norm_Unemployment_4\"] + 1 + nl_data[\"Norm_Drug_Overdose\"] + nl_data[\"Norm_Drug_Overdose_2\"] + nl_data[\"Norm_Drug_Overdose_3\"] + nl_data[\"Norm_Drug_Overdose_4\"] + 1 + nl_data[\"Norm_insufficient_sleep\"] + nl_data[\"Norm_insufficient_sleep_2\"] + nl_data[\"Norm_insufficient_sleep_3\"] + nl_data[\"Norm_insufficient_sleep_4\"] + 1 + nl_data[\"Norm_excessive_drinking\"] + nl_data[\"Norm_excessive_drinking_2\"] + nl_data[\"Norm_excessive_drinking_3\"] + nl_data[\"Norm_excessive_drinking_4\"]', data=nl_data).fit()\n",
    "lm4.summary()"
   ]
  },
  {
   "cell_type": "markdown",
   "metadata": {},
   "source": [
    "The r-square value for the model with polynomial degree = 4 is 0.470. It is a better fit than degree = 3 but not very significant leap.\n",
    "\n",
    "- The p-values are not so significant now for every variable and we cannot reject the null hypothesis for every variable.\n",
    "- But we can reject it for excessive drinking rate as it has significant p-values and relationship exists between `norm deaths` and `excessive drinking rate`."
   ]
  },
  {
   "cell_type": "markdown",
   "metadata": {},
   "source": [
    "##### Below method is not required to be done but I wanted to show relationship between different variable and plot the polynomial lines.\n",
    "##### Because for multiple variables it is not possible to plot the graph."
   ]
  },
  {
   "cell_type": "markdown",
   "metadata": {},
   "source": [
    "## Non linear regression for one dependent and one independent variable"
   ]
  },
  {
   "cell_type": "markdown",
   "metadata": {},
   "source": [
    "1 . Norm_Deaths vs Opiod dispensing rate\n",
    "- Here Norm_Deaths is the dependent variable and Opiod dispensing rate is the independent variable"
   ]
  },
  {
   "cell_type": "code",
   "execution_count": 36,
   "metadata": {},
   "outputs": [
    {
     "data": {
      "text/plain": [
       "<matplotlib.legend.Legend at 0x272ba322430>"
      ]
     },
     "execution_count": 36,
     "metadata": {},
     "output_type": "execute_result"
    },
    {
     "data": {
      "image/png": "[encoded data removed]",
      "text/plain": [
       "<Figure size 931.968x576 with 1 Axes>"
      ]
     },
     "metadata": {
      "needs_background": "light"
     },
     "output_type": "display_data"
    }
   ],
   "source": [
    "plt.figure(figsize=(8 * 1.618, 8))\n",
    "\n",
    "#plt.scatter(data.norm_OPR, data.Norm_Deaths)\n",
    "\n",
    "df1 = data\n",
    "\n",
    "#poly_1 = smf.ols(formula='Norm_Deaths ~ 1 + norm_OPR', data=data).fit()\n",
    "\n",
    "x = pd.DataFrame({'norm_OPR': np.linspace(data.norm_OPR.min(), data.norm_OPR.max(), 2000)})\n",
    "\n",
    "# # 2-nd order polynomial\n",
    "poly_2 = smf.ols(formula='Norm_Deaths ~ 1 +(norm_OPR) + I(norm_OPR ** 2.0)', data=data).fit()\n",
    "plt.plot(x.norm_OPR, poly_2.predict(x), 'g-', label='Poly n=2 $R^2$=%.3f' % poly_2.rsquared, alpha=0.9)\n",
    "\n",
    "# 3-rd order polynomial\n",
    "poly_3 = smf.ols(formula='Norm_Deaths ~ 1 + norm_OPR + I(norm_OPR ** 2.0) + I(norm_OPR ** 3.0)', data=data).fit()\n",
    "plt.plot(x.norm_OPR, poly_3.predict(x), 'r-', alpha=0.9, label='Poly n=3 $R^2$=%.3f' % poly_3.rsquared)\n",
    "\n",
    "# 4-rd order polynomial\n",
    "poly_4 = smf.ols(formula='Norm_Deaths ~ 1 + norm_OPR + I(norm_OPR ** 2.0) + I(norm_OPR ** 3.0) + I(norm_OPR ** 4.0)', data=data).fit()\n",
    "plt.plot(x.norm_OPR, poly_4.predict(x), 'y-', alpha=0.9, label='Poly n=4 $R^2$=%.3f' % poly_4.rsquared)\n",
    "\n",
    "plt.legend()\n"
   ]
  },
  {
   "cell_type": "markdown",
   "metadata": {},
   "source": [
    "2. Norm_Deaths vs Norm_Unemployment\n",
    "- Here Norm_Deaths is the dependent variable and Norm_Unemployment is the independent variable"
   ]
  },
  {
   "cell_type": "code",
   "execution_count": 37,
   "metadata": {},
   "outputs": [
    {
     "data": {
      "text/plain": [
       "<matplotlib.legend.Legend at 0x272ba32d100>"
      ]
     },
     "execution_count": 37,
     "metadata": {},
     "output_type": "execute_result"
    },
    {
     "data": {
      "image/png": "[encoded data removed]",
      "text/plain": [
       "<Figure size 931.968x576 with 1 Axes>"
      ]
     },
     "metadata": {
      "needs_background": "light"
     },
     "output_type": "display_data"
    }
   ],
   "source": [
    "plt.figure(figsize=(8 * 1.618, 8))\n",
    "\n",
    "#plt.scatter(data.Norm_Unemployment, data.Norm_Deaths)\n",
    "\n",
    "df1 = data\n",
    "\n",
    "#poly_1 = smf.ols(formula='Norm_Deaths ~ 1 + norm_OPR', data=data).fit()\n",
    "\n",
    "x = pd.DataFrame({'Norm_Unemployment': np.linspace(data.Norm_Unemployment.min(), data.Norm_Unemployment.max(), 2000)})\n",
    "\n",
    "\n",
    "# plt.plot(x.TV, poly_1.predict(x), 'b-', label='Poly n=1 $R^2$=%.2f' % poly_1.rsquared, alpha=0.9)\n",
    "\n",
    "# # 2-nd order polynomial\n",
    "poly_2 = smf.ols(formula='Norm_Deaths ~ 1 + Norm_Unemployment + I(Norm_Unemployment ** 2.0)', data=data).fit()\n",
    "plt.plot(x.Norm_Unemployment, poly_2.predict(x), 'g-', label='Poly n=2 $R^2$=%.3f' % poly_2.rsquared, alpha=0.9)\n",
    "\n",
    "# 3-rd order polynomial\n",
    "poly_3 = smf.ols(formula='Norm_Deaths ~ 1 + Norm_Unemployment + I(Norm_Unemployment ** 2.0) + I(Norm_Unemployment ** 3.0)', data=data).fit()\n",
    "plt.plot(x.Norm_Unemployment, poly_3.predict(x), 'r-', alpha=0.9, label='Poly n=3 $R^2$=%.3f' % poly_3.rsquared)\n",
    "\n",
    "# 4-rd order polynomial\n",
    "poly_4 = smf.ols(formula='Norm_Deaths ~ 1 + Norm_Unemployment + I(Norm_Unemployment ** 2.0) + I(Norm_Unemployment ** 3.0) + I(Norm_Unemployment ** 4.0)', data=data).fit()\n",
    "plt.plot(x.Norm_Unemployment, poly_4.predict(x), 'y-', alpha=0.9, label='Poly n=4 $R^2$=%.3f' % poly_4.rsquared)\n",
    "\n",
    "plt.legend()\n"
   ]
  },
  {
   "cell_type": "markdown",
   "metadata": {},
   "source": [
    "3. Norm_Deaths vs. Norm_Drug_Overdose"
   ]
  },
  {
   "cell_type": "code",
   "execution_count": 38,
   "metadata": {},
   "outputs": [
    {
     "data": {
      "text/plain": [
       "<matplotlib.legend.Legend at 0x272b8b8ca60>"
      ]
     },
     "execution_count": 38,
     "metadata": {},
     "output_type": "execute_result"
    },
    {
     "data": {
      "image/png": "[encoded data removed]",
      "text/plain": [
       "<Figure size 931.968x576 with 1 Axes>"
      ]
     },
     "metadata": {
      "needs_background": "light"
     },
     "output_type": "display_data"
    }
   ],
   "source": [
    "plt.figure(figsize=(8 * 1.618, 8))\n",
    "\n",
    "#plt.scatter(data.Norm_Deaths, data.norm_OPR)\n",
    "\n",
    "df1 = data\n",
    "\n",
    "#poly_1 = smf.ols(formula='Norm_Deaths ~ 1 + norm_OPR', data=data).fit()\n",
    "\n",
    "x = pd.DataFrame({'Norm_Drug_Overdose': np.linspace(data.Norm_Drug_Overdose.min(), data.Norm_Drug_Overdose.max(), 2000)})\n",
    "\n",
    "\n",
    "# plt.plot(x.TV, poly_1.predict(x), 'b-', label='Poly n=1 $R^2$=%.2f' % poly_1.rsquared, alpha=0.9)\n",
    "\n",
    "# # 2-nd order polynomial\n",
    "poly_2 = smf.ols(formula='Norm_Deaths ~ 1 + Norm_Drug_Overdose + I(Norm_Drug_Overdose ** 2.0)', data=data).fit()\n",
    "plt.plot(x.Norm_Drug_Overdose, poly_2.predict(x), 'g-', label='Poly n=2 $R^2$=%.3f' % poly_2.rsquared, alpha=0.9)\n",
    "\n",
    "# 3-rd order polynomial\n",
    "poly_3 = smf.ols(formula='Norm_Deaths ~ 1 + Norm_Drug_Overdose + I(Norm_Drug_Overdose ** 2.0) + I(Norm_Drug_Overdose ** 3.0)', data=data).fit()\n",
    "plt.plot(x.Norm_Drug_Overdose, poly_3.predict(x), 'r-', alpha=0.9, label='Poly n=3 $R^2$=%.3f' % poly_3.rsquared)\n",
    "\n",
    "# 4-rd order polynomial\n",
    "poly_4 = smf.ols(formula='Norm_Deaths ~ 1 + Norm_Drug_Overdose + I(Norm_Drug_Overdose ** 2.0) + I(Norm_Drug_Overdose ** 3.0) + I(Norm_Drug_Overdose ** 4.0)', data=data).fit()\n",
    "plt.plot(x.Norm_Drug_Overdose, poly_4.predict(x), 'y-', alpha=0.9, label='Poly n=4 $R^2$=%.3f' % poly_4.rsquared)\n",
    "\n",
    "plt.legend()"
   ]
  },
  {
   "cell_type": "markdown",
   "metadata": {},
   "source": [
    "4. Norm_Deaths vs. Norm_insufficient_sleep"
   ]
  },
  {
   "cell_type": "code",
   "execution_count": 39,
   "metadata": {},
   "outputs": [
    {
     "data": {
      "text/plain": [
       "<matplotlib.legend.Legend at 0x272ba8e4610>"
      ]
     },
     "execution_count": 39,
     "metadata": {},
     "output_type": "execute_result"
    },
    {
     "data": {
      "image/png": "[encoded data removed]",
      "text/plain": [
       "<Figure size 931.968x576 with 1 Axes>"
      ]
     },
     "metadata": {
      "needs_background": "light"
     },
     "output_type": "display_data"
    }
   ],
   "source": [
    "plt.figure(figsize=(8 * 1.618, 8))\n",
    "\n",
    "#plt.scatter(data.Norm_Deaths, data.norm_OPR)\n",
    "\n",
    "df1 = data\n",
    "\n",
    "#poly_1 = smf.ols(formula='Norm_Deaths ~ 1 + norm_OPR', data=data).fit()\n",
    "\n",
    "x = pd.DataFrame({'Norm_insufficient_sleep': np.linspace(data.Norm_insufficient_sleep.min(), data.Norm_insufficient_sleep.max(), 2000)})\n",
    "\n",
    "\n",
    "# plt.plot(x.TV, poly_1.predict(x), 'b-', label='Poly n=1 $R^2$=%.2f' % poly_1.rsquared, alpha=0.9)\n",
    "\n",
    "# # 2-nd order polynomial\n",
    "poly_2 = smf.ols(formula='Norm_Deaths ~ 1 + Norm_insufficient_sleep + I(Norm_insufficient_sleep ** 2.0)', data=data).fit()\n",
    "plt.plot(x.Norm_insufficient_sleep, poly_2.predict(x), 'g-', label='Poly n=2 $R^2$=%.3f' % poly_2.rsquared, alpha=0.9)\n",
    "\n",
    "# 3-rd order polynomial\n",
    "poly_3 = smf.ols(formula='Norm_Deaths ~ 1 + Norm_insufficient_sleep + I(Norm_insufficient_sleep ** 2.0) + I(Norm_insufficient_sleep ** 3.0)', data=data).fit()\n",
    "plt.plot(x.Norm_insufficient_sleep, poly_3.predict(x), 'r-', alpha=0.9, label='Poly n=3 $R^2$=%.3f' % poly_3.rsquared)\n",
    "\n",
    "# 4-rd order polynomial\n",
    "poly_4 = smf.ols(formula='Norm_Deaths ~ 1 + Norm_insufficient_sleep + I(Norm_insufficient_sleep ** 2.0) + I(Norm_insufficient_sleep ** 3.0) + I(Norm_insufficient_sleep ** 4.0)', data=data).fit()\n",
    "plt.plot(x.Norm_insufficient_sleep, poly_4.predict(x), 'y-', alpha=0.9, label='Poly n=4 $R^2$=%.3f' % poly_4.rsquared)\n",
    "\n",
    "plt.legend()"
   ]
  },
  {
   "cell_type": "markdown",
   "metadata": {},
   "source": [
    "5. Norm_Deaths vs.Norm_excessive_drinking"
   ]
  },
  {
   "cell_type": "code",
   "execution_count": 40,
   "metadata": {},
   "outputs": [
    {
     "data": {
      "text/plain": [
       "<matplotlib.legend.Legend at 0x272b9f20040>"
      ]
     },
     "execution_count": 40,
     "metadata": {},
     "output_type": "execute_result"
    },
    {
     "data": {
      "image/png": "[encoded data removed]",
      "text/plain": [
       "<Figure size 931.968x576 with 1 Axes>"
      ]
     },
     "metadata": {
      "needs_background": "light"
     },
     "output_type": "display_data"
    }
   ],
   "source": [
    "plt.figure(figsize=(8 * 1.618, 8))\n",
    "\n",
    "#plt.scatter(data.Norm_Deaths, data.norm_OPR)\n",
    "\n",
    "df1 = data\n",
    "\n",
    "#poly_1 = smf.ols(formula='Norm_Deaths ~ 1 + norm_OPR', data=data).fit()\n",
    "\n",
    "x = pd.DataFrame({'Norm_excessive_drinking': np.linspace(data.Norm_excessive_drinking.min(), data.Norm_excessive_drinking.max(), 2000)})\n",
    "\n",
    "\n",
    "# plt.plot(x.TV, poly_1.predict(x), 'b-', label='Poly n=1 $R^2$=%.2f' % poly_1.rsquared, alpha=0.9)\n",
    "\n",
    "# # 2-nd order polynomial\n",
    "poly_2 = smf.ols(formula='Norm_Deaths ~ 1 + Norm_excessive_drinking + I(Norm_excessive_drinking ** 2.0)', data=data).fit()\n",
    "plt.plot(x.Norm_excessive_drinking, poly_2.predict(x), 'g-', label='Poly n=2 $R^2$=%.3f' % poly_2.rsquared, alpha=0.9)\n",
    "\n",
    "# 3-rd order polynomial\n",
    "poly_3 = smf.ols(formula='Norm_Deaths ~ 1 + Norm_excessive_drinking + I(Norm_excessive_drinking ** 2.0) + I(Norm_excessive_drinking ** 3.0)', data=data).fit()\n",
    "plt.plot(x.Norm_excessive_drinking, poly_3.predict(x), 'r-', alpha=0.9, label='Poly n=3 $R^2$=%.3f' % poly_3.rsquared)\n",
    "\n",
    "# 4-rd order polynomial\n",
    "poly_4 = smf.ols(formula='Norm_Deaths ~ 1 + Norm_excessive_drinking + I(Norm_excessive_drinking ** 2.0) + I(Norm_excessive_drinking ** 3.0) + I(Norm_excessive_drinking ** 4.0)', data=data).fit()\n",
    "plt.plot(x.Norm_excessive_drinking, poly_4.predict(x), 'y-', alpha=0.9, label='Poly n=4 $R^2$=%.3f' % poly_4.rsquared)\n",
    "\n",
    "plt.legend()"
   ]
  }
 ],
 "metadata": {
  "celltoolbar": "Slideshow",
  "kernelspec": {
   "display_name": "Python 3 (ipykernel)",
   "language": "python",
   "name": "python3"
  },
  "language_info": {
   "codemirror_mode": {
    "name": "ipython",
    "version": 3
   },
   "file_extension": ".py",
   "mimetype": "text/x-python",
   "name": "python",
   "nbconvert_exporter": "python",
   "pygments_lexer": "ipython3",
   "version": "3.9.12"
  }
 },
 "nbformat": 4,
 "nbformat_minor": 4
}
