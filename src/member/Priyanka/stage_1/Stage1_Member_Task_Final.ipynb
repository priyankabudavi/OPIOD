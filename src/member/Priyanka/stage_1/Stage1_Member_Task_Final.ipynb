{
 "cells": [
  {
   "cell_type": "markdown",
   "id": "b74c7d29",
   "metadata": {},
   "source": [
    "### Importing the required libraries"
   ]
  },
  {
   "cell_type": "code",
   "execution_count": 1,
   "id": "3882c480",
   "metadata": {},
   "outputs": [],
   "source": [
    "import pandas as pd\n",
    "import numpy as np"
   ]
  },
  {
   "cell_type": "markdown",
   "id": "a125e866",
   "metadata": {},
   "source": [
    "#### Read the files"
   ]
  },
  {
   "cell_type": "code",
   "execution_count": 2,
   "id": "18ff60da",
   "metadata": {},
   "outputs": [],
   "source": [
    "cause_of_death = pd.read_csv(\"../../../../data/stage_1/Underlying Cause of Death-County-2019.txt\", sep=\"\\t\")"
   ]
  },
  {
   "cell_type": "code",
   "execution_count": 3,
   "id": "3b37cf7a",
   "metadata": {},
   "outputs": [],
   "source": [
    "cause_of_death = pd.read_csv(\"../../../../data/stage_1/Underlying Cause of Death-County-2019.txt\", sep=\"\\t\")\n",
    "health_ranking = pd.read_csv(\"../../../../data/stage_1/County_Health_Ranking.csv\")\n",
    "opioid_rate = pd.read_csv(\"../../../../data/stage_1/2019-Opioid_Rate.csv\",encoding='unicode_escape')"
   ]
  },
  {
   "cell_type": "code",
   "execution_count": 4,
   "id": "2eef10f9",
   "metadata": {},
   "outputs": [
    {
     "data": {
      "text/plain": [
       "((5541, 8), (3193, 534), (3095, 4))"
      ]
     },
     "execution_count": 4,
     "metadata": {},
     "output_type": "execute_result"
    }
   ],
   "source": [
    "#shape of the datasets\n",
    "cause_of_death.shape , health_ranking.shape , opioid_rate.shape"
   ]
  },
  {
   "cell_type": "markdown",
   "id": "f1cb27f8",
   "metadata": {},
   "source": [
    "#### Cleaning the datasets"
   ]
  },
  {
   "cell_type": "code",
   "execution_count": 5,
   "id": "f76430ff",
   "metadata": {},
   "outputs": [],
   "source": [
    "#Removing the columns that are not important and have NAN values throughout \n",
    "cause_of_death = cause_of_death.drop(columns=['Notes' ])"
   ]
  },
  {
   "cell_type": "markdown",
   "id": "1f13b917",
   "metadata": {},
   "source": [
    "#### Sites referred for the  below task \n",
    "* https://pandas.pydata.org/docs/reference/api/pandas.Series.str.split.html\n",
    "* https://pandas.pydata.org/docs/reference/api/pandas.DataFrame.reindex.html\n",
    "* https://sparkbyexamples.com/pandas/pandas-groupby-explained-with-examples/"
   ]
  },
  {
   "cell_type": "markdown",
   "id": "cfe9a17b",
   "metadata": {},
   "source": [
    "### Calculate the normalized death for deaths per 100,000 population"
   ]
  },
  {
   "cell_type": "markdown",
   "id": "c16ce558",
   "metadata": {},
   "source": [
    "#### For this task I divided the deaths column with population and multiplied by 100000 to get deaths per 100000 population. Since the deaths cannot be a float value I rounded the normalized deaths using round()"
   ]
  },
  {
   "cell_type": "code",
   "execution_count": 6,
   "id": "c344c42c",
   "metadata": {},
   "outputs": [],
   "source": [
    "cause_of_death['Norm_deaths'] = (cause_of_death['Deaths']/cause_of_death['Population'] * 100000).round()"
   ]
  },
  {
   "cell_type": "code",
   "execution_count": 7,
   "id": "d553bacf",
   "metadata": {},
   "outputs": [
    {
     "data": {
      "text/html": [
       "<div>\n",
       "<style scoped>\n",
       "    .dataframe tbody tr th:only-of-type {\n",
       "        vertical-align: middle;\n",
       "    }\n",
       "\n",
       "    .dataframe tbody tr th {\n",
       "        vertical-align: top;\n",
       "    }\n",
       "\n",
       "    .dataframe thead th {\n",
       "        text-align: right;\n",
       "    }\n",
       "</style>\n",
       "<table border=\"1\" class=\"dataframe\">\n",
       "  <thead>\n",
       "    <tr style=\"text-align: right;\">\n",
       "      <th></th>\n",
       "      <th>County</th>\n",
       "      <th>County Code</th>\n",
       "      <th>Drug/Alcohol Induced Cause</th>\n",
       "      <th>Drug/Alcohol Induced Cause Code</th>\n",
       "      <th>Deaths</th>\n",
       "      <th>Population</th>\n",
       "      <th>Crude Rate</th>\n",
       "      <th>Norm_deaths</th>\n",
       "    </tr>\n",
       "  </thead>\n",
       "  <tbody>\n",
       "    <tr>\n",
       "      <th>0</th>\n",
       "      <td>Autauga County, AL</td>\n",
       "      <td>1001</td>\n",
       "      <td>Drug poisonings (overdose) Unintentional (X40-...</td>\n",
       "      <td>D1</td>\n",
       "      <td>69</td>\n",
       "      <td>1087149</td>\n",
       "      <td>6.3</td>\n",
       "      <td>6.0</td>\n",
       "    </tr>\n",
       "    <tr>\n",
       "      <th>1</th>\n",
       "      <td>Autauga County, AL</td>\n",
       "      <td>1001</td>\n",
       "      <td>Drug poisonings (overdose) Suicide (X60-X64)</td>\n",
       "      <td>D2</td>\n",
       "      <td>14</td>\n",
       "      <td>1087149</td>\n",
       "      <td>Unreliable</td>\n",
       "      <td>1.0</td>\n",
       "    </tr>\n",
       "    <tr>\n",
       "      <th>2</th>\n",
       "      <td>Baldwin County, AL</td>\n",
       "      <td>1003</td>\n",
       "      <td>Drug poisonings (overdose) Unintentional (X40-...</td>\n",
       "      <td>D1</td>\n",
       "      <td>424</td>\n",
       "      <td>3758097</td>\n",
       "      <td>11.3</td>\n",
       "      <td>11.0</td>\n",
       "    </tr>\n",
       "    <tr>\n",
       "      <th>3</th>\n",
       "      <td>Baldwin County, AL</td>\n",
       "      <td>1003</td>\n",
       "      <td>Drug poisonings (overdose) Suicide (X60-X64)</td>\n",
       "      <td>D2</td>\n",
       "      <td>71</td>\n",
       "      <td>3758097</td>\n",
       "      <td>1.9</td>\n",
       "      <td>2.0</td>\n",
       "    </tr>\n",
       "    <tr>\n",
       "      <th>4</th>\n",
       "      <td>Baldwin County, AL</td>\n",
       "      <td>1003</td>\n",
       "      <td>Drug poisonings (overdose) Undetermined (Y10-Y14)</td>\n",
       "      <td>D4</td>\n",
       "      <td>19</td>\n",
       "      <td>3758097</td>\n",
       "      <td>Unreliable</td>\n",
       "      <td>1.0</td>\n",
       "    </tr>\n",
       "  </tbody>\n",
       "</table>\n",
       "</div>"
      ],
      "text/plain": [
       "               County  County Code  \\\n",
       "0  Autauga County, AL         1001   \n",
       "1  Autauga County, AL         1001   \n",
       "2  Baldwin County, AL         1003   \n",
       "3  Baldwin County, AL         1003   \n",
       "4  Baldwin County, AL         1003   \n",
       "\n",
       "                          Drug/Alcohol Induced Cause  \\\n",
       "0  Drug poisonings (overdose) Unintentional (X40-...   \n",
       "1       Drug poisonings (overdose) Suicide (X60-X64)   \n",
       "2  Drug poisonings (overdose) Unintentional (X40-...   \n",
       "3       Drug poisonings (overdose) Suicide (X60-X64)   \n",
       "4  Drug poisonings (overdose) Undetermined (Y10-Y14)   \n",
       "\n",
       "  Drug/Alcohol Induced Cause Code  Deaths  Population  Crude Rate  Norm_deaths  \n",
       "0                              D1      69     1087149         6.3          6.0  \n",
       "1                              D2      14     1087149  Unreliable          1.0  \n",
       "2                              D1     424     3758097        11.3         11.0  \n",
       "3                              D2      71     3758097         1.9          2.0  \n",
       "4                              D4      19     3758097  Unreliable          1.0  "
      ]
     },
     "execution_count": 7,
     "metadata": {},
     "output_type": "execute_result"
    }
   ],
   "source": [
    "cause_of_death.head(5)"
   ]
  },
  {
   "cell_type": "markdown",
   "id": "021d3940",
   "metadata": {},
   "source": [
    "#### Since there are mutiple rows for same county I grouped the data by County , County Code and Population and summed the Deaths and Norm_Deaths column for each county to match the super data that was provided on the github repo. Used reset_index() to make the indexes as columns.\n",
    "\n",
    " * https://pandas.pydata.org/docs/reference/api/pandas.DataFrame.reset_index.html"
   ]
  },
  {
   "cell_type": "code",
   "execution_count": 8,
   "id": "bbe309e9",
   "metadata": {},
   "outputs": [],
   "source": [
    "cause_of_death = cause_of_death.groupby(['County' ,'County Code' , 'Population'])[['Deaths','Norm_deaths']].sum().reset_index()"
   ]
  },
  {
   "cell_type": "code",
   "execution_count": 9,
   "id": "550e4eab",
   "metadata": {},
   "outputs": [
    {
     "data": {
      "text/html": [
       "<div>\n",
       "<style scoped>\n",
       "    .dataframe tbody tr th:only-of-type {\n",
       "        vertical-align: middle;\n",
       "    }\n",
       "\n",
       "    .dataframe tbody tr th {\n",
       "        vertical-align: top;\n",
       "    }\n",
       "\n",
       "    .dataframe thead th {\n",
       "        text-align: right;\n",
       "    }\n",
       "</style>\n",
       "<table border=\"1\" class=\"dataframe\">\n",
       "  <thead>\n",
       "    <tr style=\"text-align: right;\">\n",
       "      <th></th>\n",
       "      <th>County</th>\n",
       "      <th>County Code</th>\n",
       "      <th>Population</th>\n",
       "      <th>Deaths</th>\n",
       "      <th>Norm_deaths</th>\n",
       "    </tr>\n",
       "  </thead>\n",
       "  <tbody>\n",
       "    <tr>\n",
       "      <th>0</th>\n",
       "      <td>Abbeville County, SC</td>\n",
       "      <td>45001</td>\n",
       "      <td>535389</td>\n",
       "      <td>38</td>\n",
       "      <td>7.0</td>\n",
       "    </tr>\n",
       "    <tr>\n",
       "      <th>1</th>\n",
       "      <td>Acadia Parish, LA</td>\n",
       "      <td>22001</td>\n",
       "      <td>1279727</td>\n",
       "      <td>237</td>\n",
       "      <td>19.0</td>\n",
       "    </tr>\n",
       "    <tr>\n",
       "      <th>2</th>\n",
       "      <td>Accomack County, VA</td>\n",
       "      <td>51001</td>\n",
       "      <td>726189</td>\n",
       "      <td>73</td>\n",
       "      <td>11.0</td>\n",
       "    </tr>\n",
       "  </tbody>\n",
       "</table>\n",
       "</div>"
      ],
      "text/plain": [
       "                 County  County Code  Population  Deaths  Norm_deaths\n",
       "0  Abbeville County, SC        45001      535389      38          7.0\n",
       "1     Acadia Parish, LA        22001     1279727     237         19.0\n",
       "2   Accomack County, VA        51001      726189      73         11.0"
      ]
     },
     "execution_count": 9,
     "metadata": {},
     "output_type": "execute_result"
    }
   ],
   "source": [
    "cause_of_death.head(3)"
   ]
  },
  {
   "cell_type": "code",
   "execution_count": 10,
   "id": "41e1409f",
   "metadata": {},
   "outputs": [
    {
     "data": {
      "text/html": [
       "<div>\n",
       "<style scoped>\n",
       "    .dataframe tbody tr th:only-of-type {\n",
       "        vertical-align: middle;\n",
       "    }\n",
       "\n",
       "    .dataframe tbody tr th {\n",
       "        vertical-align: top;\n",
       "    }\n",
       "\n",
       "    .dataframe thead th {\n",
       "        text-align: right;\n",
       "    }\n",
       "</style>\n",
       "<table border=\"1\" class=\"dataframe\">\n",
       "  <thead>\n",
       "    <tr style=\"text-align: right;\">\n",
       "      <th></th>\n",
       "      <th>State FIPS Code</th>\n",
       "      <th>County FIPS Code</th>\n",
       "      <th>5-digit FIPS Code</th>\n",
       "      <th>State Abbreviation</th>\n",
       "      <th>Name</th>\n",
       "      <th>Release Year</th>\n",
       "      <th>County Ranked (Yes=1/No=0)</th>\n",
       "      <th>Premature death raw value</th>\n",
       "      <th>Premature death numerator</th>\n",
       "      <th>Premature death denominator</th>\n",
       "      <th>...</th>\n",
       "      <th>Male population 18-44 raw value</th>\n",
       "      <th>Male population 45-64 raw value</th>\n",
       "      <th>Male population 65+ raw value</th>\n",
       "      <th>Total male population raw value</th>\n",
       "      <th>Female population 0-17 raw value</th>\n",
       "      <th>Female population 18-44 raw value</th>\n",
       "      <th>Female population 45-64 raw value</th>\n",
       "      <th>Female population 65+ raw value</th>\n",
       "      <th>Total female population raw value</th>\n",
       "      <th>Population growth raw value</th>\n",
       "    </tr>\n",
       "  </thead>\n",
       "  <tbody>\n",
       "    <tr>\n",
       "      <th>0</th>\n",
       "      <td>1</td>\n",
       "      <td>0</td>\n",
       "      <td>1000</td>\n",
       "      <td>AL</td>\n",
       "      <td>Alabama</td>\n",
       "      <td>2019</td>\n",
       "      <td>NaN</td>\n",
       "      <td>9917.232898</td>\n",
       "      <td>80440.0</td>\n",
       "      <td>13636816.0</td>\n",
       "      <td>...</td>\n",
       "      <td>NaN</td>\n",
       "      <td>NaN</td>\n",
       "      <td>NaN</td>\n",
       "      <td>NaN</td>\n",
       "      <td>NaN</td>\n",
       "      <td>NaN</td>\n",
       "      <td>NaN</td>\n",
       "      <td>NaN</td>\n",
       "      <td>NaN</td>\n",
       "      <td>NaN</td>\n",
       "    </tr>\n",
       "    <tr>\n",
       "      <th>1</th>\n",
       "      <td>1</td>\n",
       "      <td>1</td>\n",
       "      <td>1001</td>\n",
       "      <td>AL</td>\n",
       "      <td>Autauga County</td>\n",
       "      <td>2019</td>\n",
       "      <td>1.0</td>\n",
       "      <td>8824.057123</td>\n",
       "      <td>815.0</td>\n",
       "      <td>156132.0</td>\n",
       "      <td>...</td>\n",
       "      <td>NaN</td>\n",
       "      <td>NaN</td>\n",
       "      <td>NaN</td>\n",
       "      <td>NaN</td>\n",
       "      <td>NaN</td>\n",
       "      <td>NaN</td>\n",
       "      <td>NaN</td>\n",
       "      <td>NaN</td>\n",
       "      <td>NaN</td>\n",
       "      <td>NaN</td>\n",
       "    </tr>\n",
       "    <tr>\n",
       "      <th>2</th>\n",
       "      <td>1</td>\n",
       "      <td>3</td>\n",
       "      <td>1003</td>\n",
       "      <td>AL</td>\n",
       "      <td>Baldwin County</td>\n",
       "      <td>2019</td>\n",
       "      <td>1.0</td>\n",
       "      <td>7224.632160</td>\n",
       "      <td>2827.0</td>\n",
       "      <td>576496.0</td>\n",
       "      <td>...</td>\n",
       "      <td>NaN</td>\n",
       "      <td>NaN</td>\n",
       "      <td>NaN</td>\n",
       "      <td>NaN</td>\n",
       "      <td>NaN</td>\n",
       "      <td>NaN</td>\n",
       "      <td>NaN</td>\n",
       "      <td>NaN</td>\n",
       "      <td>NaN</td>\n",
       "      <td>NaN</td>\n",
       "    </tr>\n",
       "  </tbody>\n",
       "</table>\n",
       "<p>3 rows × 534 columns</p>\n",
       "</div>"
      ],
      "text/plain": [
       "   State FIPS Code  County FIPS Code  5-digit FIPS Code State Abbreviation  \\\n",
       "0                1                 0               1000                 AL   \n",
       "1                1                 1               1001                 AL   \n",
       "2                1                 3               1003                 AL   \n",
       "\n",
       "             Name  Release Year  County Ranked (Yes=1/No=0)  \\\n",
       "0         Alabama          2019                         NaN   \n",
       "1  Autauga County          2019                         1.0   \n",
       "2  Baldwin County          2019                         1.0   \n",
       "\n",
       "   Premature death raw value  Premature death numerator  \\\n",
       "0                9917.232898                    80440.0   \n",
       "1                8824.057123                      815.0   \n",
       "2                7224.632160                     2827.0   \n",
       "\n",
       "   Premature death denominator  ...  Male population 18-44 raw value  \\\n",
       "0                   13636816.0  ...                              NaN   \n",
       "1                     156132.0  ...                              NaN   \n",
       "2                     576496.0  ...                              NaN   \n",
       "\n",
       "   Male population 45-64 raw value  Male population 65+ raw value  \\\n",
       "0                              NaN                            NaN   \n",
       "1                              NaN                            NaN   \n",
       "2                              NaN                            NaN   \n",
       "\n",
       "   Total male population raw value  Female population 0-17 raw value  \\\n",
       "0                              NaN                               NaN   \n",
       "1                              NaN                               NaN   \n",
       "2                              NaN                               NaN   \n",
       "\n",
       "   Female population 18-44 raw value  Female population 45-64 raw value  \\\n",
       "0                                NaN                                NaN   \n",
       "1                                NaN                                NaN   \n",
       "2                                NaN                                NaN   \n",
       "\n",
       "   Female population 65+ raw value  Total female population raw value  \\\n",
       "0                              NaN                                NaN   \n",
       "1                              NaN                                NaN   \n",
       "2                              NaN                                NaN   \n",
       "\n",
       "   Population growth raw value  \n",
       "0                          NaN  \n",
       "1                          NaN  \n",
       "2                          NaN  \n",
       "\n",
       "[3 rows x 534 columns]"
      ]
     },
     "execution_count": 10,
     "metadata": {},
     "output_type": "execute_result"
    }
   ],
   "source": [
    "health_ranking.head(3)"
   ]
  },
  {
   "cell_type": "code",
   "execution_count": 11,
   "id": "577ba250",
   "metadata": {},
   "outputs": [
    {
     "data": {
      "text/html": [
       "<div>\n",
       "<style scoped>\n",
       "    .dataframe tbody tr th:only-of-type {\n",
       "        vertical-align: middle;\n",
       "    }\n",
       "\n",
       "    .dataframe tbody tr th {\n",
       "        vertical-align: top;\n",
       "    }\n",
       "\n",
       "    .dataframe thead th {\n",
       "        text-align: right;\n",
       "    }\n",
       "</style>\n",
       "<table border=\"1\" class=\"dataframe\">\n",
       "  <thead>\n",
       "    <tr style=\"text-align: right;\">\n",
       "      <th></th>\n",
       "      <th>State</th>\n",
       "      <th>County</th>\n",
       "      <th>FIPS</th>\n",
       "      <th>Opiod_Dispensing_Rate</th>\n",
       "    </tr>\n",
       "  </thead>\n",
       "  <tbody>\n",
       "    <tr>\n",
       "      <th>0</th>\n",
       "      <td>AL</td>\n",
       "      <td>Autauga County</td>\n",
       "      <td>1001</td>\n",
       "      <td>101.3</td>\n",
       "    </tr>\n",
       "    <tr>\n",
       "      <th>1</th>\n",
       "      <td>AL</td>\n",
       "      <td>Baldwin County</td>\n",
       "      <td>1003</td>\n",
       "      <td>67.6</td>\n",
       "    </tr>\n",
       "    <tr>\n",
       "      <th>2</th>\n",
       "      <td>AL</td>\n",
       "      <td>Barbour County</td>\n",
       "      <td>1005</td>\n",
       "      <td>27.2</td>\n",
       "    </tr>\n",
       "  </tbody>\n",
       "</table>\n",
       "</div>"
      ],
      "text/plain": [
       "  State          County  FIPS  Opiod_Dispensing_Rate\n",
       "0    AL  Autauga County  1001                  101.3\n",
       "1    AL  Baldwin County  1003                   67.6\n",
       "2    AL  Barbour County  1005                   27.2"
      ]
     },
     "execution_count": 11,
     "metadata": {},
     "output_type": "execute_result"
    }
   ],
   "source": [
    "opioid_rate.head(3)"
   ]
  },
  {
   "cell_type": "markdown",
   "id": "fc1dd4d5",
   "metadata": {},
   "source": [
    "### Merge all the three datasets to create a super datafame\n",
    "\n",
    "  * For this task I merge the two datasets that is cause_of_death and health ranking and create the first merge of two datasets. . Later I use the created dataset and merge with opiod to create a super dataset. The variables I used for first merge is County Code from the cause of death dataset and 5-digit FIPS Code from the health ranking dataset. Both the variables are same its just that they have different names. So instead of renaming the columns and merging I used left on and right on parameter of merge function to specify the variable on which I want to merge. \n",
    "    \n",
    "  * https://pandas.pydata.org/docs/reference/api/pandas.DataFrame.merge.html\n",
    "   "
   ]
  },
  {
   "cell_type": "code",
   "execution_count": 12,
   "id": "848d3a0f",
   "metadata": {},
   "outputs": [],
   "source": [
    "merge_cause_health = cause_of_death.merge(health_ranking, left_on='County Code',\n",
    "                  right_on= '5-digit FIPS Code')"
   ]
  },
  {
   "cell_type": "code",
   "execution_count": 13,
   "id": "04c28ae1",
   "metadata": {},
   "outputs": [
    {
     "data": {
      "text/plain": [
       "(2528, 539)"
      ]
     },
     "execution_count": 13,
     "metadata": {},
     "output_type": "execute_result"
    }
   ],
   "source": [
    "merge_cause_health.shape"
   ]
  },
  {
   "cell_type": "code",
   "execution_count": 14,
   "id": "45b73b96",
   "metadata": {},
   "outputs": [
    {
     "data": {
      "text/html": [
       "<div>\n",
       "<style scoped>\n",
       "    .dataframe tbody tr th:only-of-type {\n",
       "        vertical-align: middle;\n",
       "    }\n",
       "\n",
       "    .dataframe tbody tr th {\n",
       "        vertical-align: top;\n",
       "    }\n",
       "\n",
       "    .dataframe thead th {\n",
       "        text-align: right;\n",
       "    }\n",
       "</style>\n",
       "<table border=\"1\" class=\"dataframe\">\n",
       "  <thead>\n",
       "    <tr style=\"text-align: right;\">\n",
       "      <th></th>\n",
       "      <th>County</th>\n",
       "      <th>County Code</th>\n",
       "      <th>Population</th>\n",
       "      <th>Deaths</th>\n",
       "      <th>Norm_deaths</th>\n",
       "      <th>State FIPS Code</th>\n",
       "      <th>County FIPS Code</th>\n",
       "      <th>5-digit FIPS Code</th>\n",
       "      <th>State Abbreviation</th>\n",
       "      <th>Name</th>\n",
       "      <th>...</th>\n",
       "      <th>Male population 18-44 raw value</th>\n",
       "      <th>Male population 45-64 raw value</th>\n",
       "      <th>Male population 65+ raw value</th>\n",
       "      <th>Total male population raw value</th>\n",
       "      <th>Female population 0-17 raw value</th>\n",
       "      <th>Female population 18-44 raw value</th>\n",
       "      <th>Female population 45-64 raw value</th>\n",
       "      <th>Female population 65+ raw value</th>\n",
       "      <th>Total female population raw value</th>\n",
       "      <th>Population growth raw value</th>\n",
       "    </tr>\n",
       "  </thead>\n",
       "  <tbody>\n",
       "    <tr>\n",
       "      <th>0</th>\n",
       "      <td>Abbeville County, SC</td>\n",
       "      <td>45001</td>\n",
       "      <td>535389</td>\n",
       "      <td>38</td>\n",
       "      <td>7.0</td>\n",
       "      <td>45</td>\n",
       "      <td>1</td>\n",
       "      <td>45001</td>\n",
       "      <td>SC</td>\n",
       "      <td>Abbeville County</td>\n",
       "      <td>...</td>\n",
       "      <td>NaN</td>\n",
       "      <td>NaN</td>\n",
       "      <td>NaN</td>\n",
       "      <td>NaN</td>\n",
       "      <td>NaN</td>\n",
       "      <td>NaN</td>\n",
       "      <td>NaN</td>\n",
       "      <td>NaN</td>\n",
       "      <td>NaN</td>\n",
       "      <td>NaN</td>\n",
       "    </tr>\n",
       "    <tr>\n",
       "      <th>1</th>\n",
       "      <td>Acadia Parish, LA</td>\n",
       "      <td>22001</td>\n",
       "      <td>1279727</td>\n",
       "      <td>237</td>\n",
       "      <td>19.0</td>\n",
       "      <td>22</td>\n",
       "      <td>1</td>\n",
       "      <td>22001</td>\n",
       "      <td>LA</td>\n",
       "      <td>Acadia Parish</td>\n",
       "      <td>...</td>\n",
       "      <td>NaN</td>\n",
       "      <td>NaN</td>\n",
       "      <td>NaN</td>\n",
       "      <td>NaN</td>\n",
       "      <td>NaN</td>\n",
       "      <td>NaN</td>\n",
       "      <td>NaN</td>\n",
       "      <td>NaN</td>\n",
       "      <td>NaN</td>\n",
       "      <td>NaN</td>\n",
       "    </tr>\n",
       "    <tr>\n",
       "      <th>2</th>\n",
       "      <td>Accomack County, VA</td>\n",
       "      <td>51001</td>\n",
       "      <td>726189</td>\n",
       "      <td>73</td>\n",
       "      <td>11.0</td>\n",
       "      <td>51</td>\n",
       "      <td>1</td>\n",
       "      <td>51001</td>\n",
       "      <td>VA</td>\n",
       "      <td>Accomack County</td>\n",
       "      <td>...</td>\n",
       "      <td>NaN</td>\n",
       "      <td>NaN</td>\n",
       "      <td>NaN</td>\n",
       "      <td>NaN</td>\n",
       "      <td>NaN</td>\n",
       "      <td>NaN</td>\n",
       "      <td>NaN</td>\n",
       "      <td>NaN</td>\n",
       "      <td>NaN</td>\n",
       "      <td>NaN</td>\n",
       "    </tr>\n",
       "  </tbody>\n",
       "</table>\n",
       "<p>3 rows × 539 columns</p>\n",
       "</div>"
      ],
      "text/plain": [
       "                 County  County Code  Population  Deaths  Norm_deaths  \\\n",
       "0  Abbeville County, SC        45001      535389      38          7.0   \n",
       "1     Acadia Parish, LA        22001     1279727     237         19.0   \n",
       "2   Accomack County, VA        51001      726189      73         11.0   \n",
       "\n",
       "   State FIPS Code  County FIPS Code  5-digit FIPS Code State Abbreviation  \\\n",
       "0               45                 1              45001                 SC   \n",
       "1               22                 1              22001                 LA   \n",
       "2               51                 1              51001                 VA   \n",
       "\n",
       "               Name  ...  Male population 18-44 raw value  \\\n",
       "0  Abbeville County  ...                              NaN   \n",
       "1     Acadia Parish  ...                              NaN   \n",
       "2   Accomack County  ...                              NaN   \n",
       "\n",
       "   Male population 45-64 raw value  Male population 65+ raw value  \\\n",
       "0                              NaN                            NaN   \n",
       "1                              NaN                            NaN   \n",
       "2                              NaN                            NaN   \n",
       "\n",
       "   Total male population raw value  Female population 0-17 raw value  \\\n",
       "0                              NaN                               NaN   \n",
       "1                              NaN                               NaN   \n",
       "2                              NaN                               NaN   \n",
       "\n",
       "   Female population 18-44 raw value  Female population 45-64 raw value  \\\n",
       "0                                NaN                                NaN   \n",
       "1                                NaN                                NaN   \n",
       "2                                NaN                                NaN   \n",
       "\n",
       "   Female population 65+ raw value  Total female population raw value  \\\n",
       "0                              NaN                                NaN   \n",
       "1                              NaN                                NaN   \n",
       "2                              NaN                                NaN   \n",
       "\n",
       "   Population growth raw value  \n",
       "0                          NaN  \n",
       "1                          NaN  \n",
       "2                          NaN  \n",
       "\n",
       "[3 rows x 539 columns]"
      ]
     },
     "execution_count": 14,
     "metadata": {},
     "output_type": "execute_result"
    }
   ],
   "source": [
    "merge_cause_health.head(3)"
   ]
  },
  {
   "cell_type": "markdown",
   "id": "e6660b49",
   "metadata": {},
   "source": [
    "#### creating a super dataset with shape (2527 , 542)  by merging all the  three datasets\n",
    "\n",
    "    * In this task I merge on FIPS Code of both the datasets. They have different variable names but both have same values hence merged them to create a super dataset of shape (2527 , 542)"
   ]
  },
  {
   "cell_type": "code",
   "execution_count": 15,
   "id": "81ab6da7",
   "metadata": {},
   "outputs": [],
   "source": [
    "super_df = pd.merge(merge_cause_health , opioid_rate, left_on='5-digit FIPS Code',\n",
    "                  right_on= 'FIPS')"
   ]
  },
  {
   "cell_type": "code",
   "execution_count": 16,
   "id": "71aa90d4",
   "metadata": {},
   "outputs": [
    {
     "data": {
      "text/plain": [
       "Index(['County_x', 'County Code', 'Population', 'Deaths', 'Norm_deaths',\n",
       "       'State FIPS Code', 'County FIPS Code', '5-digit FIPS Code',\n",
       "       'State Abbreviation', 'Name',\n",
       "       ...\n",
       "       'Female population 0-17 raw value', 'Female population 18-44 raw value',\n",
       "       'Female population 45-64 raw value', 'Female population 65+ raw value',\n",
       "       'Total female population raw value', 'Population growth raw value',\n",
       "       'State', 'County_y', 'FIPS', 'Opiod_Dispensing_Rate'],\n",
       "      dtype='object', length=543)"
      ]
     },
     "execution_count": 16,
     "metadata": {},
     "output_type": "execute_result"
    }
   ],
   "source": [
    "super_df.columns"
   ]
  },
  {
   "cell_type": "code",
   "execution_count": 17,
   "id": "c37aead3",
   "metadata": {},
   "outputs": [
    {
     "data": {
      "text/plain": [
       "(2527, 543)"
      ]
     },
     "execution_count": 17,
     "metadata": {},
     "output_type": "execute_result"
    }
   ],
   "source": [
    "super_df.shape"
   ]
  },
  {
   "cell_type": "markdown",
   "id": "f0784686",
   "metadata": {},
   "source": [
    "#### We observe that County_x and County_y are the duplicates so dropping one of them to match the shape and also both columns are same. "
   ]
  },
  {
   "cell_type": "code",
   "execution_count": 18,
   "id": "51092c5f",
   "metadata": {},
   "outputs": [],
   "source": [
    "super_df = super_df.drop(columns=['County_y'])"
   ]
  },
  {
   "cell_type": "code",
   "execution_count": 19,
   "id": "fa82a052",
   "metadata": {},
   "outputs": [],
   "source": [
    "super_df = super_df.rename(columns = {'County_x' : 'County'})"
   ]
  },
  {
   "cell_type": "code",
   "execution_count": 20,
   "id": "76979068",
   "metadata": {},
   "outputs": [
    {
     "data": {
      "text/plain": [
       "(2527, 542)"
      ]
     },
     "execution_count": 20,
     "metadata": {},
     "output_type": "execute_result"
    }
   ],
   "source": [
    "super_df.shape"
   ]
  },
  {
   "cell_type": "markdown",
   "id": "9056f412",
   "metadata": {},
   "source": [
    "### Thus the final shape of the super dataset is (2527, 542) and saving the file using to_csv() function"
   ]
  },
  {
   "cell_type": "code",
   "execution_count": 21,
   "id": "f00f30a4",
   "metadata": {},
   "outputs": [],
   "source": [
    "super_df.to_csv('../../../../data/stage_1/super_df.csv')"
   ]
  },
  {
   "cell_type": "markdown",
   "id": "6c5507d8",
   "metadata": {},
   "source": [
    "##  Top 10 counties and state with high mortality rate"
   ]
  },
  {
   "cell_type": "markdown",
   "id": "87df5ed0",
   "metadata": {},
   "source": [
    "Refered the below sites for reference : \n",
    "\n",
    "* https://pandas.pydata.org/docs/reference/api/pandas.DataFrame.sort_values.html\n",
    "*  https://github.com/UNCGCSE/CSC605_Fall_2022/blob/main/Class_Resources/Lecture_05/Pandas/2.%20Data%20Wrangling%20with%20Pandas.ipynb\n",
    "*https://github.com/UNCG-CSE/CSC-605_Fall_2022/blob/main/Class_Resources/Lecture_06/Statistics/01_Stats_Basics.ipynb"
   ]
  },
  {
   "cell_type": "markdown",
   "id": "d6478363",
   "metadata": {},
   "source": [
    "### Top ten counties "
   ]
  },
  {
   "cell_type": "markdown",
   "id": "3871ad9d",
   "metadata": {},
   "source": [
    "* Used the sort_values() function to sort by Norm_deaths as the super dataset created gives information county wise. So I tried to display County and Norm_deaths in the descending order to get the top ten counties with high mortality rates."
   ]
  },
  {
   "cell_type": "code",
   "execution_count": 22,
   "id": "958106ec",
   "metadata": {},
   "outputs": [
    {
     "data": {
      "text/html": [
       "<div>\n",
       "<style scoped>\n",
       "    .dataframe tbody tr th:only-of-type {\n",
       "        vertical-align: middle;\n",
       "    }\n",
       "\n",
       "    .dataframe tbody tr th {\n",
       "        vertical-align: top;\n",
       "    }\n",
       "\n",
       "    .dataframe thead th {\n",
       "        text-align: right;\n",
       "    }\n",
       "</style>\n",
       "<table border=\"1\" class=\"dataframe\">\n",
       "  <thead>\n",
       "    <tr style=\"text-align: right;\">\n",
       "      <th></th>\n",
       "      <th>County</th>\n",
       "      <th>Norm_deaths</th>\n",
       "    </tr>\n",
       "  </thead>\n",
       "  <tbody>\n",
       "    <tr>\n",
       "      <th>1956</th>\n",
       "      <td>Rio Arriba County, NM</td>\n",
       "      <td>63.0</td>\n",
       "    </tr>\n",
       "    <tr>\n",
       "      <th>1486</th>\n",
       "      <td>McDowell County, WV</td>\n",
       "      <td>61.0</td>\n",
       "    </tr>\n",
       "    <tr>\n",
       "      <th>2502</th>\n",
       "      <td>Wyoming County, WV</td>\n",
       "      <td>56.0</td>\n",
       "    </tr>\n",
       "    <tr>\n",
       "      <th>103</th>\n",
       "      <td>Baltimore city, MD</td>\n",
       "      <td>51.0</td>\n",
       "    </tr>\n",
       "    <tr>\n",
       "      <th>281</th>\n",
       "      <td>Cabell County, WV</td>\n",
       "      <td>48.0</td>\n",
       "    </tr>\n",
       "    <tr>\n",
       "      <th>204</th>\n",
       "      <td>Boone County, WV</td>\n",
       "      <td>47.0</td>\n",
       "    </tr>\n",
       "    <tr>\n",
       "      <th>1364</th>\n",
       "      <td>Logan County, WV</td>\n",
       "      <td>46.0</td>\n",
       "    </tr>\n",
       "    <tr>\n",
       "      <th>145</th>\n",
       "      <td>Bell County, KY</td>\n",
       "      <td>45.0</td>\n",
       "    </tr>\n",
       "    <tr>\n",
       "      <th>1547</th>\n",
       "      <td>Mingo County, WV</td>\n",
       "      <td>45.0</td>\n",
       "    </tr>\n",
       "    <tr>\n",
       "      <th>1521</th>\n",
       "      <td>Mercer County, WV</td>\n",
       "      <td>44.0</td>\n",
       "    </tr>\n",
       "  </tbody>\n",
       "</table>\n",
       "</div>"
      ],
      "text/plain": [
       "                     County  Norm_deaths\n",
       "1956  Rio Arriba County, NM         63.0\n",
       "1486    McDowell County, WV         61.0\n",
       "2502     Wyoming County, WV         56.0\n",
       "103      Baltimore city, MD         51.0\n",
       "281       Cabell County, WV         48.0\n",
       "204        Boone County, WV         47.0\n",
       "1364       Logan County, WV         46.0\n",
       "145         Bell County, KY         45.0\n",
       "1547       Mingo County, WV         45.0\n",
       "1521      Mercer County, WV         44.0"
      ]
     },
     "execution_count": 22,
     "metadata": {},
     "output_type": "execute_result"
    }
   ],
   "source": [
    "top10_county = super_df[['County','Norm_deaths']].sort_values(by=['Norm_deaths'],ascending=False).head(10)\n",
    "top10_county"
   ]
  },
  {
   "cell_type": "markdown",
   "id": "4e3d8b90",
   "metadata": {},
   "source": [
    "### Top ten States "
   ]
  },
  {
   "cell_type": "markdown",
   "id": "7e6de681",
   "metadata": {},
   "source": [
    "* For this task, since the super data is grouped by county, to find the top ten states we need to group by states and get the total deaths and Normalized deaths values per state. Then I filtered the top ten states with highest norm_deaths values.  I used reset_index so as to make indexes as column in the dataframe."
   ]
  },
  {
   "cell_type": "code",
   "execution_count": 23,
   "id": "571d0fc6",
   "metadata": {},
   "outputs": [],
   "source": [
    "top_ten_states = super_df.groupby(['State'])[['Deaths','Norm_deaths']].sum().reset_index()"
   ]
  },
  {
   "cell_type": "code",
   "execution_count": 24,
   "id": "d4a585f4",
   "metadata": {},
   "outputs": [],
   "source": [
    "top_ten_states = top_ten_states.sort_values(by=['Norm_deaths'] ,ascending=False).head(10)"
   ]
  },
  {
   "cell_type": "code",
   "execution_count": 25,
   "id": "f36d84cd",
   "metadata": {
    "scrolled": true
   },
   "outputs": [
    {
     "data": {
      "text/html": [
       "<div>\n",
       "<style scoped>\n",
       "    .dataframe tbody tr th:only-of-type {\n",
       "        vertical-align: middle;\n",
       "    }\n",
       "\n",
       "    .dataframe tbody tr th {\n",
       "        vertical-align: top;\n",
       "    }\n",
       "\n",
       "    .dataframe thead th {\n",
       "        text-align: right;\n",
       "    }\n",
       "</style>\n",
       "<table border=\"1\" class=\"dataframe\">\n",
       "  <thead>\n",
       "    <tr style=\"text-align: right;\">\n",
       "      <th></th>\n",
       "      <th>State</th>\n",
       "      <th>Deaths</th>\n",
       "      <th>Norm_deaths</th>\n",
       "    </tr>\n",
       "  </thead>\n",
       "  <tbody>\n",
       "    <tr>\n",
       "      <th>17</th>\n",
       "      <td>KY</td>\n",
       "      <td>17976</td>\n",
       "      <td>2209.0</td>\n",
       "    </tr>\n",
       "    <tr>\n",
       "      <th>42</th>\n",
       "      <td>TN</td>\n",
       "      <td>22941</td>\n",
       "      <td>1621.0</td>\n",
       "    </tr>\n",
       "    <tr>\n",
       "      <th>43</th>\n",
       "      <td>TX</td>\n",
       "      <td>48077</td>\n",
       "      <td>1467.0</td>\n",
       "    </tr>\n",
       "    <tr>\n",
       "      <th>27</th>\n",
       "      <td>NC</td>\n",
       "      <td>26444</td>\n",
       "      <td>1384.0</td>\n",
       "    </tr>\n",
       "    <tr>\n",
       "      <th>45</th>\n",
       "      <td>VA</td>\n",
       "      <td>16808</td>\n",
       "      <td>1375.0</td>\n",
       "    </tr>\n",
       "    <tr>\n",
       "      <th>35</th>\n",
       "      <td>OH</td>\n",
       "      <td>45618</td>\n",
       "      <td>1352.0</td>\n",
       "    </tr>\n",
       "    <tr>\n",
       "      <th>10</th>\n",
       "      <td>GA</td>\n",
       "      <td>20231</td>\n",
       "      <td>1323.0</td>\n",
       "    </tr>\n",
       "    <tr>\n",
       "      <th>15</th>\n",
       "      <td>IN</td>\n",
       "      <td>19306</td>\n",
       "      <td>1175.0</td>\n",
       "    </tr>\n",
       "    <tr>\n",
       "      <th>49</th>\n",
       "      <td>WV</td>\n",
       "      <td>10020</td>\n",
       "      <td>1171.0</td>\n",
       "    </tr>\n",
       "    <tr>\n",
       "      <th>24</th>\n",
       "      <td>MO</td>\n",
       "      <td>17871</td>\n",
       "      <td>1116.0</td>\n",
       "    </tr>\n",
       "  </tbody>\n",
       "</table>\n",
       "</div>"
      ],
      "text/plain": [
       "   State  Deaths  Norm_deaths\n",
       "17    KY   17976       2209.0\n",
       "42    TN   22941       1621.0\n",
       "43    TX   48077       1467.0\n",
       "27    NC   26444       1384.0\n",
       "45    VA   16808       1375.0\n",
       "35    OH   45618       1352.0\n",
       "10    GA   20231       1323.0\n",
       "15    IN   19306       1175.0\n",
       "49    WV   10020       1171.0\n",
       "24    MO   17871       1116.0"
      ]
     },
     "execution_count": 25,
     "metadata": {},
     "output_type": "execute_result"
    }
   ],
   "source": [
    "top_ten_states"
   ]
  },
  {
   "cell_type": "markdown",
   "id": "4b89a73e",
   "metadata": {},
   "source": [
    "### Use mean and median for counties within states to compare (for the state level)."
   ]
  },
  {
   "cell_type": "markdown",
   "id": "b17d41a7",
   "metadata": {},
   "source": [
    "* For this task I am using the above created data to filter data from the super dataset to get only the top ten states records. For this task I am using isin() function to filter the data. Using aggregate function to calculate the mean and median of states and counties with Top 10 mortality death rates. \n",
    "\n",
    "   Referred the below site to get the information. \n",
    "   * https://pandas.pydata.org/pandas-docs/stable/reference/api/pandas.DataFrame.isin.html?highlight=isi\n",
    "   * https://pandas.pydata.org/docs/reference/api/pandas.DataFrame.aggregate.html\n",
    "   \n",
    "\n",
    "   \n",
    " "
   ]
  },
  {
   "cell_type": "code",
   "execution_count": 26,
   "id": "fc524471",
   "metadata": {},
   "outputs": [],
   "source": [
    "states = top_ten_states['State']"
   ]
  },
  {
   "cell_type": "code",
   "execution_count": 27,
   "id": "47663016",
   "metadata": {},
   "outputs": [],
   "source": [
    "df = super_df[super_df[\"State\"].isin(states)]"
   ]
  },
  {
   "cell_type": "markdown",
   "id": "48d231dc",
   "metadata": {},
   "source": [
    "### created a dataframe of top  states and getting all the records from each state  "
   ]
  },
  {
   "cell_type": "markdown",
   "id": "466028ad",
   "metadata": {},
   "source": [
    "#### The below is a dataframe with top 10 states records from the super df "
   ]
  },
  {
   "cell_type": "code",
   "execution_count": 28,
   "id": "d854c0d0",
   "metadata": {},
   "outputs": [
    {
     "data": {
      "text/html": [
       "<div>\n",
       "<style scoped>\n",
       "    .dataframe tbody tr th:only-of-type {\n",
       "        vertical-align: middle;\n",
       "    }\n",
       "\n",
       "    .dataframe tbody tr th {\n",
       "        vertical-align: top;\n",
       "    }\n",
       "\n",
       "    .dataframe thead th {\n",
       "        text-align: right;\n",
       "    }\n",
       "</style>\n",
       "<table border=\"1\" class=\"dataframe\">\n",
       "  <thead>\n",
       "    <tr style=\"text-align: right;\">\n",
       "      <th></th>\n",
       "      <th>County</th>\n",
       "      <th>County Code</th>\n",
       "      <th>Population</th>\n",
       "      <th>Deaths</th>\n",
       "      <th>Norm_deaths</th>\n",
       "      <th>State FIPS Code</th>\n",
       "      <th>County FIPS Code</th>\n",
       "      <th>5-digit FIPS Code</th>\n",
       "      <th>State Abbreviation</th>\n",
       "      <th>Name</th>\n",
       "      <th>...</th>\n",
       "      <th>Total male population raw value</th>\n",
       "      <th>Female population 0-17 raw value</th>\n",
       "      <th>Female population 18-44 raw value</th>\n",
       "      <th>Female population 45-64 raw value</th>\n",
       "      <th>Female population 65+ raw value</th>\n",
       "      <th>Total female population raw value</th>\n",
       "      <th>Population growth raw value</th>\n",
       "      <th>State</th>\n",
       "      <th>FIPS</th>\n",
       "      <th>Opiod_Dispensing_Rate</th>\n",
       "    </tr>\n",
       "  </thead>\n",
       "  <tbody>\n",
       "    <tr>\n",
       "      <th>2</th>\n",
       "      <td>Accomack County, VA</td>\n",
       "      <td>51001</td>\n",
       "      <td>726189</td>\n",
       "      <td>73</td>\n",
       "      <td>11.0</td>\n",
       "      <td>51</td>\n",
       "      <td>1</td>\n",
       "      <td>51001</td>\n",
       "      <td>VA</td>\n",
       "      <td>Accomack County</td>\n",
       "      <td>...</td>\n",
       "      <td>NaN</td>\n",
       "      <td>NaN</td>\n",
       "      <td>NaN</td>\n",
       "      <td>NaN</td>\n",
       "      <td>NaN</td>\n",
       "      <td>NaN</td>\n",
       "      <td>NaN</td>\n",
       "      <td>VA</td>\n",
       "      <td>51001</td>\n",
       "      <td>19.4</td>\n",
       "    </tr>\n",
       "    <tr>\n",
       "      <th>4</th>\n",
       "      <td>Adair County, KY</td>\n",
       "      <td>21001</td>\n",
       "      <td>387950</td>\n",
       "      <td>43</td>\n",
       "      <td>11.0</td>\n",
       "      <td>21</td>\n",
       "      <td>1</td>\n",
       "      <td>21001</td>\n",
       "      <td>KY</td>\n",
       "      <td>Adair County</td>\n",
       "      <td>...</td>\n",
       "      <td>NaN</td>\n",
       "      <td>NaN</td>\n",
       "      <td>NaN</td>\n",
       "      <td>NaN</td>\n",
       "      <td>NaN</td>\n",
       "      <td>NaN</td>\n",
       "      <td>NaN</td>\n",
       "      <td>KY</td>\n",
       "      <td>21001</td>\n",
       "      <td>71.3</td>\n",
       "    </tr>\n",
       "    <tr>\n",
       "      <th>5</th>\n",
       "      <td>Adair County, MO</td>\n",
       "      <td>29001</td>\n",
       "      <td>530448</td>\n",
       "      <td>30</td>\n",
       "      <td>6.0</td>\n",
       "      <td>29</td>\n",
       "      <td>1</td>\n",
       "      <td>29001</td>\n",
       "      <td>MO</td>\n",
       "      <td>Adair County</td>\n",
       "      <td>...</td>\n",
       "      <td>NaN</td>\n",
       "      <td>NaN</td>\n",
       "      <td>NaN</td>\n",
       "      <td>NaN</td>\n",
       "      <td>NaN</td>\n",
       "      <td>NaN</td>\n",
       "      <td>NaN</td>\n",
       "      <td>MO</td>\n",
       "      <td>29001</td>\n",
       "      <td>89.2</td>\n",
       "    </tr>\n",
       "    <tr>\n",
       "      <th>9</th>\n",
       "      <td>Adams County, IN</td>\n",
       "      <td>18001</td>\n",
       "      <td>721740</td>\n",
       "      <td>45</td>\n",
       "      <td>6.0</td>\n",
       "      <td>18</td>\n",
       "      <td>1</td>\n",
       "      <td>18001</td>\n",
       "      <td>IN</td>\n",
       "      <td>Adams County</td>\n",
       "      <td>...</td>\n",
       "      <td>NaN</td>\n",
       "      <td>NaN</td>\n",
       "      <td>NaN</td>\n",
       "      <td>NaN</td>\n",
       "      <td>NaN</td>\n",
       "      <td>NaN</td>\n",
       "      <td>NaN</td>\n",
       "      <td>IN</td>\n",
       "      <td>18001</td>\n",
       "      <td>29.6</td>\n",
       "    </tr>\n",
       "    <tr>\n",
       "      <th>12</th>\n",
       "      <td>Adams County, OH</td>\n",
       "      <td>39001</td>\n",
       "      <td>590060</td>\n",
       "      <td>140</td>\n",
       "      <td>24.0</td>\n",
       "      <td>39</td>\n",
       "      <td>1</td>\n",
       "      <td>39001</td>\n",
       "      <td>OH</td>\n",
       "      <td>Adams County</td>\n",
       "      <td>...</td>\n",
       "      <td>NaN</td>\n",
       "      <td>NaN</td>\n",
       "      <td>NaN</td>\n",
       "      <td>NaN</td>\n",
       "      <td>NaN</td>\n",
       "      <td>NaN</td>\n",
       "      <td>NaN</td>\n",
       "      <td>OH</td>\n",
       "      <td>39001</td>\n",
       "      <td>39.7</td>\n",
       "    </tr>\n",
       "  </tbody>\n",
       "</table>\n",
       "<p>5 rows × 542 columns</p>\n",
       "</div>"
      ],
      "text/plain": [
       "                 County  County Code  Population  Deaths  Norm_deaths  \\\n",
       "2   Accomack County, VA        51001      726189      73         11.0   \n",
       "4      Adair County, KY        21001      387950      43         11.0   \n",
       "5      Adair County, MO        29001      530448      30          6.0   \n",
       "9      Adams County, IN        18001      721740      45          6.0   \n",
       "12     Adams County, OH        39001      590060     140         24.0   \n",
       "\n",
       "    State FIPS Code  County FIPS Code  5-digit FIPS Code State Abbreviation  \\\n",
       "2                51                 1              51001                 VA   \n",
       "4                21                 1              21001                 KY   \n",
       "5                29                 1              29001                 MO   \n",
       "9                18                 1              18001                 IN   \n",
       "12               39                 1              39001                 OH   \n",
       "\n",
       "               Name  ...  Total male population raw value  \\\n",
       "2   Accomack County  ...                              NaN   \n",
       "4      Adair County  ...                              NaN   \n",
       "5      Adair County  ...                              NaN   \n",
       "9      Adams County  ...                              NaN   \n",
       "12     Adams County  ...                              NaN   \n",
       "\n",
       "    Female population 0-17 raw value  Female population 18-44 raw value  \\\n",
       "2                                NaN                                NaN   \n",
       "4                                NaN                                NaN   \n",
       "5                                NaN                                NaN   \n",
       "9                                NaN                                NaN   \n",
       "12                               NaN                                NaN   \n",
       "\n",
       "    Female population 45-64 raw value  Female population 65+ raw value  \\\n",
       "2                                 NaN                              NaN   \n",
       "4                                 NaN                              NaN   \n",
       "5                                 NaN                              NaN   \n",
       "9                                 NaN                              NaN   \n",
       "12                                NaN                              NaN   \n",
       "\n",
       "    Total female population raw value  Population growth raw value  State  \\\n",
       "2                                 NaN                          NaN     VA   \n",
       "4                                 NaN                          NaN     KY   \n",
       "5                                 NaN                          NaN     MO   \n",
       "9                                 NaN                          NaN     IN   \n",
       "12                                NaN                          NaN     OH   \n",
       "\n",
       "     FIPS  Opiod_Dispensing_Rate  \n",
       "2   51001                   19.4  \n",
       "4   21001                   71.3  \n",
       "5   29001                   89.2  \n",
       "9   18001                   29.6  \n",
       "12  39001                   39.7  \n",
       "\n",
       "[5 rows x 542 columns]"
      ]
     },
     "execution_count": 28,
     "metadata": {},
     "output_type": "execute_result"
    }
   ],
   "source": [
    "df.head(5)"
   ]
  },
  {
   "cell_type": "markdown",
   "id": "4fa751aa",
   "metadata": {},
   "source": [
    "#### since the super data is at county level information I group by states and calculate the mean on Norm_deaths column. Then I sort these values to get the mean of all the states in descending order using sort_values function"
   ]
  },
  {
   "cell_type": "code",
   "execution_count": 29,
   "id": "458d6545",
   "metadata": {},
   "outputs": [],
   "source": [
    "mean_state_df = df.groupby(['State'])['Norm_deaths'].aggregate('mean').reset_index()"
   ]
  },
  {
   "cell_type": "code",
   "execution_count": 30,
   "id": "ec587eb3",
   "metadata": {},
   "outputs": [
    {
     "data": {
      "text/html": [
       "<div>\n",
       "<style scoped>\n",
       "    .dataframe tbody tr th:only-of-type {\n",
       "        vertical-align: middle;\n",
       "    }\n",
       "\n",
       "    .dataframe tbody tr th {\n",
       "        vertical-align: top;\n",
       "    }\n",
       "\n",
       "    .dataframe thead th {\n",
       "        text-align: right;\n",
       "    }\n",
       "</style>\n",
       "<table border=\"1\" class=\"dataframe\">\n",
       "  <thead>\n",
       "    <tr style=\"text-align: right;\">\n",
       "      <th></th>\n",
       "      <th>State</th>\n",
       "      <th>Norm_deaths_state_mean</th>\n",
       "    </tr>\n",
       "  </thead>\n",
       "  <tbody>\n",
       "    <tr>\n",
       "      <th>9</th>\n",
       "      <td>WV</td>\n",
       "      <td>22.094340</td>\n",
       "    </tr>\n",
       "    <tr>\n",
       "      <th>2</th>\n",
       "      <td>KY</td>\n",
       "      <td>19.043103</td>\n",
       "    </tr>\n",
       "    <tr>\n",
       "      <th>6</th>\n",
       "      <td>TN</td>\n",
       "      <td>17.244681</td>\n",
       "    </tr>\n",
       "    <tr>\n",
       "      <th>5</th>\n",
       "      <td>OH</td>\n",
       "      <td>15.363636</td>\n",
       "    </tr>\n",
       "    <tr>\n",
       "      <th>4</th>\n",
       "      <td>NC</td>\n",
       "      <td>13.979798</td>\n",
       "    </tr>\n",
       "    <tr>\n",
       "      <th>1</th>\n",
       "      <td>IN</td>\n",
       "      <td>12.912088</td>\n",
       "    </tr>\n",
       "    <tr>\n",
       "      <th>3</th>\n",
       "      <td>MO</td>\n",
       "      <td>11.049505</td>\n",
       "    </tr>\n",
       "    <tr>\n",
       "      <th>8</th>\n",
       "      <td>VA</td>\n",
       "      <td>11.000000</td>\n",
       "    </tr>\n",
       "    <tr>\n",
       "      <th>0</th>\n",
       "      <td>GA</td>\n",
       "      <td>9.727941</td>\n",
       "    </tr>\n",
       "    <tr>\n",
       "      <th>7</th>\n",
       "      <td>TX</td>\n",
       "      <td>8.335227</td>\n",
       "    </tr>\n",
       "  </tbody>\n",
       "</table>\n",
       "</div>"
      ],
      "text/plain": [
       "  State  Norm_deaths_state_mean\n",
       "9    WV               22.094340\n",
       "2    KY               19.043103\n",
       "6    TN               17.244681\n",
       "5    OH               15.363636\n",
       "4    NC               13.979798\n",
       "1    IN               12.912088\n",
       "3    MO               11.049505\n",
       "8    VA               11.000000\n",
       "0    GA                9.727941\n",
       "7    TX                8.335227"
      ]
     },
     "execution_count": 30,
     "metadata": {},
     "output_type": "execute_result"
    }
   ],
   "source": [
    "mean_state_df = mean_state_df.sort_values(by = 'Norm_deaths' , ascending = False)\n",
    "mean_state_df.rename(columns = {'Norm_deaths' : 'Norm_deaths_state_mean'} , inplace = True)\n",
    "mean_state_df"
   ]
  },
  {
   "cell_type": "markdown",
   "id": "e3aef19d",
   "metadata": {},
   "source": [
    "#### I used the plot to give a visualisation of these values in order to understand better. The x-axis gives information of states and each number is the index from the dataframe.\n",
    "\n",
    "* https://pandas.pydata.org/docs/reference/api/pandas.DataFrame.plot.html"
   ]
  },
  {
   "cell_type": "code",
   "execution_count": 31,
   "id": "0f710668",
   "metadata": {
    "scrolled": true
   },
   "outputs": [
    {
     "data": {
      "image/png": "[encoded data removed]",
      "text/plain": [
       "<Figure size 432x288 with 1 Axes>"
      ]
     },
     "metadata": {
      "needs_background": "light"
     },
     "output_type": "display_data"
    }
   ],
   "source": [
    "ax1 = mean_state_df.plot(kind='bar',\n",
    "                   yerr=mean_state_df,\n",
    "                   title=\"Mean of top ten states\").set(xlabel='State by index',\n",
    "         ylabel='Norm_deaths_mean')"
   ]
  },
  {
   "cell_type": "code",
   "execution_count": 32,
   "id": "a4b4857d",
   "metadata": {},
   "outputs": [],
   "source": [
    "mean_county_df = df.groupby(['County'])['Norm_deaths'].aggregate('mean').reset_index()"
   ]
  },
  {
   "cell_type": "code",
   "execution_count": 33,
   "id": "a66ad559",
   "metadata": {},
   "outputs": [
    {
     "data": {
      "text/html": [
       "<div>\n",
       "<style scoped>\n",
       "    .dataframe tbody tr th:only-of-type {\n",
       "        vertical-align: middle;\n",
       "    }\n",
       "\n",
       "    .dataframe tbody tr th {\n",
       "        vertical-align: top;\n",
       "    }\n",
       "\n",
       "    .dataframe thead th {\n",
       "        text-align: right;\n",
       "    }\n",
       "</style>\n",
       "<table border=\"1\" class=\"dataframe\">\n",
       "  <thead>\n",
       "    <tr style=\"text-align: right;\">\n",
       "      <th></th>\n",
       "      <th>County</th>\n",
       "      <th>Norm_deaths_county_mean</th>\n",
       "    </tr>\n",
       "  </thead>\n",
       "  <tbody>\n",
       "    <tr>\n",
       "      <th>642</th>\n",
       "      <td>McDowell County, WV</td>\n",
       "      <td>61.0</td>\n",
       "    </tr>\n",
       "    <tr>\n",
       "      <th>1071</th>\n",
       "      <td>Wyoming County, WV</td>\n",
       "      <td>56.0</td>\n",
       "    </tr>\n",
       "    <tr>\n",
       "      <th>122</th>\n",
       "      <td>Cabell County, WV</td>\n",
       "      <td>48.0</td>\n",
       "    </tr>\n",
       "    <tr>\n",
       "      <th>81</th>\n",
       "      <td>Boone County, WV</td>\n",
       "      <td>47.0</td>\n",
       "    </tr>\n",
       "    <tr>\n",
       "      <th>588</th>\n",
       "      <td>Logan County, WV</td>\n",
       "      <td>46.0</td>\n",
       "    </tr>\n",
       "    <tr>\n",
       "      <th>...</th>\n",
       "      <td>...</td>\n",
       "      <td>...</td>\n",
       "    </tr>\n",
       "    <tr>\n",
       "      <th>259</th>\n",
       "      <td>Deaf Smith County, TX</td>\n",
       "      <td>3.0</td>\n",
       "    </tr>\n",
       "    <tr>\n",
       "      <th>461</th>\n",
       "      <td>Holmes County, OH</td>\n",
       "      <td>2.0</td>\n",
       "    </tr>\n",
       "    <tr>\n",
       "      <th>540</th>\n",
       "      <td>Lagrange County, IN</td>\n",
       "      <td>2.0</td>\n",
       "    </tr>\n",
       "    <tr>\n",
       "      <th>725</th>\n",
       "      <td>Nodaway County, MO</td>\n",
       "      <td>2.0</td>\n",
       "    </tr>\n",
       "    <tr>\n",
       "      <th>917</th>\n",
       "      <td>Starr County, TX</td>\n",
       "      <td>1.0</td>\n",
       "    </tr>\n",
       "  </tbody>\n",
       "</table>\n",
       "<p>1079 rows × 2 columns</p>\n",
       "</div>"
      ],
      "text/plain": [
       "                     County  Norm_deaths_county_mean\n",
       "642     McDowell County, WV                     61.0\n",
       "1071     Wyoming County, WV                     56.0\n",
       "122       Cabell County, WV                     48.0\n",
       "81         Boone County, WV                     47.0\n",
       "588        Logan County, WV                     46.0\n",
       "...                     ...                      ...\n",
       "259   Deaf Smith County, TX                      3.0\n",
       "461       Holmes County, OH                      2.0\n",
       "540     Lagrange County, IN                      2.0\n",
       "725      Nodaway County, MO                      2.0\n",
       "917        Starr County, TX                      1.0\n",
       "\n",
       "[1079 rows x 2 columns]"
      ]
     },
     "execution_count": 33,
     "metadata": {},
     "output_type": "execute_result"
    }
   ],
   "source": [
    "mean_county_df = mean_county_df.sort_values(by = 'Norm_deaths' , ascending = False)\n",
    "mean_county_df.rename(columns = {'Norm_deaths' : 'Norm_deaths_county_mean'} , inplace = True)\n",
    "mean_county_df"
   ]
  },
  {
   "cell_type": "code",
   "execution_count": 34,
   "id": "7a62f288",
   "metadata": {},
   "outputs": [
    {
     "data": {
      "text/html": [
       "<div>\n",
       "<style scoped>\n",
       "    .dataframe tbody tr th:only-of-type {\n",
       "        vertical-align: middle;\n",
       "    }\n",
       "\n",
       "    .dataframe tbody tr th {\n",
       "        vertical-align: top;\n",
       "    }\n",
       "\n",
       "    .dataframe thead th {\n",
       "        text-align: right;\n",
       "    }\n",
       "</style>\n",
       "<table border=\"1\" class=\"dataframe\">\n",
       "  <thead>\n",
       "    <tr style=\"text-align: right;\">\n",
       "      <th></th>\n",
       "      <th>State</th>\n",
       "      <th>Norm_deaths_state_median</th>\n",
       "    </tr>\n",
       "  </thead>\n",
       "  <tbody>\n",
       "    <tr>\n",
       "      <th>9</th>\n",
       "      <td>WV</td>\n",
       "      <td>19.0</td>\n",
       "    </tr>\n",
       "    <tr>\n",
       "      <th>6</th>\n",
       "      <td>TN</td>\n",
       "      <td>16.5</td>\n",
       "    </tr>\n",
       "    <tr>\n",
       "      <th>2</th>\n",
       "      <td>KY</td>\n",
       "      <td>16.0</td>\n",
       "    </tr>\n",
       "    <tr>\n",
       "      <th>5</th>\n",
       "      <td>OH</td>\n",
       "      <td>15.0</td>\n",
       "    </tr>\n",
       "    <tr>\n",
       "      <th>4</th>\n",
       "      <td>NC</td>\n",
       "      <td>14.0</td>\n",
       "    </tr>\n",
       "    <tr>\n",
       "      <th>1</th>\n",
       "      <td>IN</td>\n",
       "      <td>12.0</td>\n",
       "    </tr>\n",
       "    <tr>\n",
       "      <th>3</th>\n",
       "      <td>MO</td>\n",
       "      <td>11.0</td>\n",
       "    </tr>\n",
       "    <tr>\n",
       "      <th>0</th>\n",
       "      <td>GA</td>\n",
       "      <td>9.0</td>\n",
       "    </tr>\n",
       "    <tr>\n",
       "      <th>8</th>\n",
       "      <td>VA</td>\n",
       "      <td>9.0</td>\n",
       "    </tr>\n",
       "    <tr>\n",
       "      <th>7</th>\n",
       "      <td>TX</td>\n",
       "      <td>8.0</td>\n",
       "    </tr>\n",
       "  </tbody>\n",
       "</table>\n",
       "</div>"
      ],
      "text/plain": [
       "  State  Norm_deaths_state_median\n",
       "9    WV                      19.0\n",
       "6    TN                      16.5\n",
       "2    KY                      16.0\n",
       "5    OH                      15.0\n",
       "4    NC                      14.0\n",
       "1    IN                      12.0\n",
       "3    MO                      11.0\n",
       "0    GA                       9.0\n",
       "8    VA                       9.0\n",
       "7    TX                       8.0"
      ]
     },
     "execution_count": 34,
     "metadata": {},
     "output_type": "execute_result"
    }
   ],
   "source": [
    "median_state_df = df.groupby(['State'])['Norm_deaths'].aggregate('median').reset_index()\n",
    "median_state_df = median_state_df.sort_values(by = 'Norm_deaths' , ascending = False)\n",
    "median_state_df.rename(columns = {'Norm_deaths' : 'Norm_deaths_state_median'} , inplace = True)\n",
    "median_state_df"
   ]
  },
  {
   "cell_type": "code",
   "execution_count": 35,
   "id": "c8578fdf",
   "metadata": {},
   "outputs": [
    {
     "data": {
      "image/png": "[encoded data removed]",
      "text/plain": [
       "<Figure size 432x288 with 1 Axes>"
      ]
     },
     "metadata": {
      "needs_background": "light"
     },
     "output_type": "display_data"
    }
   ],
   "source": [
    "ax1 = median_state_df.plot(kind='bar',\n",
    "                   yerr=median_state_df ,\n",
    "                   title=\"Median of top ten Sates\").set(xlabel='State by index',\n",
    "         ylabel='Norm_deaths_median')"
   ]
  },
  {
   "cell_type": "code",
   "execution_count": 36,
   "id": "2349129b",
   "metadata": {},
   "outputs": [
    {
     "data": {
      "text/html": [
       "<div>\n",
       "<style scoped>\n",
       "    .dataframe tbody tr th:only-of-type {\n",
       "        vertical-align: middle;\n",
       "    }\n",
       "\n",
       "    .dataframe tbody tr th {\n",
       "        vertical-align: top;\n",
       "    }\n",
       "\n",
       "    .dataframe thead th {\n",
       "        text-align: right;\n",
       "    }\n",
       "</style>\n",
       "<table border=\"1\" class=\"dataframe\">\n",
       "  <thead>\n",
       "    <tr style=\"text-align: right;\">\n",
       "      <th></th>\n",
       "      <th>County</th>\n",
       "      <th>Norm_deaths_county_median</th>\n",
       "    </tr>\n",
       "  </thead>\n",
       "  <tbody>\n",
       "    <tr>\n",
       "      <th>642</th>\n",
       "      <td>McDowell County, WV</td>\n",
       "      <td>61.0</td>\n",
       "    </tr>\n",
       "    <tr>\n",
       "      <th>1071</th>\n",
       "      <td>Wyoming County, WV</td>\n",
       "      <td>56.0</td>\n",
       "    </tr>\n",
       "    <tr>\n",
       "      <th>122</th>\n",
       "      <td>Cabell County, WV</td>\n",
       "      <td>48.0</td>\n",
       "    </tr>\n",
       "    <tr>\n",
       "      <th>81</th>\n",
       "      <td>Boone County, WV</td>\n",
       "      <td>47.0</td>\n",
       "    </tr>\n",
       "    <tr>\n",
       "      <th>588</th>\n",
       "      <td>Logan County, WV</td>\n",
       "      <td>46.0</td>\n",
       "    </tr>\n",
       "    <tr>\n",
       "      <th>...</th>\n",
       "      <td>...</td>\n",
       "      <td>...</td>\n",
       "    </tr>\n",
       "    <tr>\n",
       "      <th>259</th>\n",
       "      <td>Deaf Smith County, TX</td>\n",
       "      <td>3.0</td>\n",
       "    </tr>\n",
       "    <tr>\n",
       "      <th>461</th>\n",
       "      <td>Holmes County, OH</td>\n",
       "      <td>2.0</td>\n",
       "    </tr>\n",
       "    <tr>\n",
       "      <th>540</th>\n",
       "      <td>Lagrange County, IN</td>\n",
       "      <td>2.0</td>\n",
       "    </tr>\n",
       "    <tr>\n",
       "      <th>725</th>\n",
       "      <td>Nodaway County, MO</td>\n",
       "      <td>2.0</td>\n",
       "    </tr>\n",
       "    <tr>\n",
       "      <th>917</th>\n",
       "      <td>Starr County, TX</td>\n",
       "      <td>1.0</td>\n",
       "    </tr>\n",
       "  </tbody>\n",
       "</table>\n",
       "<p>1079 rows × 2 columns</p>\n",
       "</div>"
      ],
      "text/plain": [
       "                     County  Norm_deaths_county_median\n",
       "642     McDowell County, WV                       61.0\n",
       "1071     Wyoming County, WV                       56.0\n",
       "122       Cabell County, WV                       48.0\n",
       "81         Boone County, WV                       47.0\n",
       "588        Logan County, WV                       46.0\n",
       "...                     ...                        ...\n",
       "259   Deaf Smith County, TX                        3.0\n",
       "461       Holmes County, OH                        2.0\n",
       "540     Lagrange County, IN                        2.0\n",
       "725      Nodaway County, MO                        2.0\n",
       "917        Starr County, TX                        1.0\n",
       "\n",
       "[1079 rows x 2 columns]"
      ]
     },
     "execution_count": 36,
     "metadata": {},
     "output_type": "execute_result"
    }
   ],
   "source": [
    "median_state_df = df.groupby(['County'])['Norm_deaths'].aggregate('median').reset_index()\n",
    "median_state_df = median_state_df.sort_values(by = 'Norm_deaths' , ascending = False)\n",
    "median_state_df.rename(columns = {'Norm_deaths' : 'Norm_deaths_county_median'} , inplace = True)\n",
    "median_state_df"
   ]
  },
  {
   "cell_type": "markdown",
   "id": "00243675",
   "metadata": {},
   "source": [
    "### Describe your intution on why the rates are high in these states and counties."
   ]
  },
  {
   "cell_type": "markdown",
   "id": "3e70130e",
   "metadata": {},
   "source": [
    "* From the above dataframe we observe that West Virginia had the highest mean and median values. \n",
    "  Mean: Since each state has different number of counties the mean value is dependant on that and from the statistics point of     view the mean value in all counties in the state of west virginia is 22.094340. \n",
    "  \n",
    "* The median value gives an information of where the 50% of the data is lying. West Virginia has 19.0 as the median which means the death value in aroung 19 in each of the counties of a west virginia. \n",
    "\n",
    "* McDowell County in West Virginia has the highest mean and median values. With mean and median being 61.0.  As explained above the death rates in this county was atleast 61. Kentucky State is the second highest in mortality death rates. "
   ]
  },
  {
   "cell_type": "markdown",
   "id": "b38aae4e",
   "metadata": {},
   "source": [
    "\n",
    "From DEA report published  I  analyzed that the reasons for this opioid epidemic incidence in West Virginia have been a combination of sociocultural factors, a depressed economy, lack of education, and a high rate of prescribing and dispensing of prescription opioids. We already saw that education and poverty variables were inversely corelated to opiod death rate in the report submitted on github. So people had no knowledge as in how risky the intake of drugs would be and also mixing them with other would lead to overdose. The state had highest death rates recorded in 2015 and more than accidents or injuries the number of overdose cases were more. According to the reports Controlled Precription Drug abuse and trafficking has long been the leading drug problem in West Virginia and is responsible for overdose of deaths in the state.  The state is also known for highest unemployment rate and many of them went into illegal buisness to earn money. It was also found that the manual labours who had major injuries started consuming opiods as pain reliefs and then started getting addicted to them. Also the pharmacies in West Virginia both knowingly or unknowingly fill fraudulent prescriptions and there have been cases where the pharmacy employee sold the drugs to the street dealers. There also might be a possibility of robbery where they stole from pharmacies and distributed themselves or to sold to larger distributors. \n",
    "\n",
    "Thus from the above analysis I conclude that west virginia had the highest death rates for opiod and above  is my intuition why there was high death rates in these states and counties. \n",
    "\n"
   ]
  },
  {
   "cell_type": "code",
   "execution_count": null,
   "id": "66b30b08",
   "metadata": {},
   "outputs": [],
   "source": []
  }
 ],
 "metadata": {
  "kernelspec": {
   "display_name": "Python 3 (ipykernel)",
   "language": "python",
   "name": "python3"
  },
  "language_info": {
   "codemirror_mode": {
    "name": "ipython",
    "version": 3
   },
   "file_extension": ".py",
   "mimetype": "text/x-python",
   "name": "python",
   "nbconvert_exporter": "python",
   "pygments_lexer": "ipython3",
   "version": "3.9.7"
  }
 },
 "nbformat": 4,
 "nbformat_minor": 5
}
